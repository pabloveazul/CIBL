{
 "cells": [
  {
   "cell_type": "code",
   "execution_count": 9,
   "metadata": {},
   "outputs": [],
   "source": [
    "#Importing Libraries\n",
    "import numpy as np\n",
    "import os\n",
    "import pandas as pd\n",
    "from numpy import array\n",
    "import keras\n",
    "import seaborn as sns\n",
    "import matplotlib.pyplot as plt\n",
    "import re\n",
    "import num2words\n",
    "from tensorflow.keras import backend\n",
    "from keras.preprocessing.text import one_hot\n",
    "from keras.preprocessing.text import Tokenizer\n",
    "from keras.preprocessing.sequence import pad_sequences\n",
    "from keras.models import Sequential\n",
    "from keras.layers import Dense, Flatten, Dropout, Lambda, Input, concatenate,BatchNormalization, Activation, Multiply\n",
    "from keras.layers.embeddings import Embedding\n",
    "from keras.layers import LSTM,Conv1D,MaxPooling1D, Bidirectional, GRU, RepeatVector, TimeDistributed\n",
    "from keras.models import Model\n",
    "from keras import backend as K\n",
    "from keras.callbacks import ModelCheckpoint, EarlyStopping\n",
    "from sklearn.manifold import TSNE\n",
    "from sklearn.decomposition import PCA\n",
    "from sklearn.model_selection import train_test_split\n",
    "from sklearn.metrics import confusion_matrix, accuracy_score, classification_report\n",
    "from itertools import combinations\n",
    "from keras_self_attention import SeqSelfAttention\n",
    "\n",
    "%matplotlib inline"
   ]
  },
  {
   "cell_type": "markdown",
   "metadata": {},
   "source": [
    "### Inter-rater agreement"
   ]
  },
  {
   "cell_type": "code",
   "execution_count": 10,
   "metadata": {},
   "outputs": [
    {
     "name": "stdout",
     "output_type": "stream",
     "text": [
      "2\n"
     ]
    }
   ],
   "source": [
    "local_path = r'/Users/pablouribepizarro/Desktop/CIAE/CIBL/Raw/inter_rater'\n",
    "files_path = []\n",
    "# r=root, d=directories, f = files\n",
    "for r, d, f in os.walk(local_path):\n",
    "    for file in f:\n",
    "        if '.xlsx' in file:\n",
    "            files_path.append(os.path.join(r, file))\n",
    "            \n",
    "n_files = len(files_path)\n",
    "print(n_files)"
   ]
  },
  {
   "cell_type": "code",
   "execution_count": 13,
   "metadata": {},
   "outputs": [
    {
     "data": {
      "text/html": [
       "<div>\n",
       "<style scoped>\n",
       "    .dataframe tbody tr th:only-of-type {\n",
       "        vertical-align: middle;\n",
       "    }\n",
       "\n",
       "    .dataframe tbody tr th {\n",
       "        vertical-align: top;\n",
       "    }\n",
       "\n",
       "    .dataframe thead th {\n",
       "        text-align: right;\n",
       "    }\n",
       "</style>\n",
       "<table border=\"1\" class=\"dataframe\">\n",
       "  <thead>\n",
       "    <tr style=\"text-align: right;\">\n",
       "      <th></th>\n",
       "      <th>Utterance</th>\n",
       "      <th>Coder 1</th>\n",
       "      <th>Coder 2 / Final</th>\n",
       "      <th>The difference between the coders</th>\n",
       "    </tr>\n",
       "  </thead>\n",
       "  <tbody>\n",
       "    <tr>\n",
       "      <th>0</th>\n",
       "      <td>Okei. No tässä tulee nyt se Maxwell-Bolzmannin...</td>\n",
       "      <td>0</td>\n",
       "      <td>0</td>\n",
       "      <td>0</td>\n",
       "    </tr>\n",
       "    <tr>\n",
       "      <th>1</th>\n",
       "      <td>No nyt katotaan tää video, te ette varmaan oo ...</td>\n",
       "      <td>0</td>\n",
       "      <td>0</td>\n",
       "      <td>0</td>\n",
       "    </tr>\n",
       "    <tr>\n",
       "      <th>2</th>\n",
       "      <td>Laita se vaikka tulee siitä niin, et me nähään...</td>\n",
       "      <td>0</td>\n",
       "      <td>0</td>\n",
       "      <td>0</td>\n",
       "    </tr>\n",
       "    <tr>\n",
       "      <th>3</th>\n",
       "      <td>[epäselvä] ...se siitä koneesta.</td>\n",
       "      <td>0</td>\n",
       "      <td>0</td>\n",
       "      <td>0</td>\n",
       "    </tr>\n",
       "    <tr>\n",
       "      <th>4</th>\n",
       "      <td>Okei joo, sitten...</td>\n",
       "      <td>0</td>\n",
       "      <td>0</td>\n",
       "      <td>0</td>\n",
       "    </tr>\n",
       "  </tbody>\n",
       "</table>\n",
       "</div>"
      ],
      "text/plain": [
       "                                           Utterance  Coder 1  \\\n",
       "0  Okei. No tässä tulee nyt se Maxwell-Bolzmannin...        0   \n",
       "1  No nyt katotaan tää video, te ette varmaan oo ...        0   \n",
       "2  Laita se vaikka tulee siitä niin, et me nähään...        0   \n",
       "3                   [epäselvä] ...se siitä koneesta.        0   \n",
       "4                                Okei joo, sitten...        0   \n",
       "\n",
       "   Coder 2 / Final  The difference between the coders\\n  \n",
       "0                0                                    0  \n",
       "1                0                                    0  \n",
       "2                0                                    0  \n",
       "3                0                                    0  \n",
       "4                0                                    0  "
      ]
     },
     "execution_count": 13,
     "metadata": {},
     "output_type": "execute_result"
    }
   ],
   "source": [
    "dfs_test = []\n",
    "for path in files_path:\n",
    "    df = pd.read_excel(path)\n",
    "    df = df[np.isfinite(df['Coder 1'])]\n",
    "    df = df[np.isfinite(df['Coder 2 / Final'])]\n",
    "    df['Coder 1'] = df['Coder 1'].astype(int)-1\n",
    "    df['Coder 2 / Final'] = df['Coder 2 / Final'].astype(int)-1\n",
    "    df['Utterance'] = df['Utterance'].apply(lambda row: re.sub(r\"(\\d+)\", lambda x: num2words.num2words(int(x.group(0))), row))\n",
    "    df['Utterance'] = df['Utterance'].apply(lambda row: row.replace('?',' ?'))\n",
    "    dfs_test.append(df)\n",
    "docs_size = pd.Series([df.shape[0] for df in dfs_test])\n",
    "dfs_test[0].head()"
   ]
  },
  {
   "cell_type": "code",
   "execution_count": 12,
   "metadata": {},
   "outputs": [
    {
     "name": "stdout",
     "output_type": "stream",
     "text": [
      "0.6973180076628352\n",
      "0.6528497409326425\n"
     ]
    }
   ],
   "source": [
    "print(len(dfs[0].loc[dfs[0]['Coder 1'] == dfs[0]['Coder 2 / Final']])/len(dfs[0]))\n",
    "print(len(dfs[1].loc[dfs[1]['Coder 1'] == dfs[1]['Coder 2 / Final']])/len(dfs[1]))"
   ]
  },
  {
   "cell_type": "code",
   "execution_count": 6,
   "metadata": {
    "collapsed": true
   },
   "outputs": [
    {
     "name": "stdout",
     "output_type": "stream",
     "text": [
      "              precision    recall  f1-score   support\n",
      "\n",
      "           0       0.78      0.68      0.73        47\n",
      "           1       0.47      0.56      0.51        25\n",
      "           2       0.82      0.81      0.81        78\n",
      "           3       0.38      0.42      0.40        12\n",
      "           4       0.68      0.69      0.68        99\n",
      "\n",
      "    accuracy                           0.70       261\n",
      "   macro avg       0.63      0.63      0.63       261\n",
      "weighted avg       0.71      0.70      0.70       261\n",
      "\n"
     ]
    },
    {
     "data": {
      "image/png": "[encoded data removed]",
      "text/plain": [
       "<Figure size 720x504 with 2 Axes>"
      ]
     },
     "metadata": {
      "needs_background": "light"
     },
     "output_type": "display_data"
    }
   ],
   "source": [
    "y_real_1 = dfs[0]['Coder 2 / Final'].astype(int)\n",
    "y_pred_1 = dfs[0]['Coder 1'].astype(int)\n",
    "results = confusion_matrix(y_real_1, y_pred_1)\n",
    "df_cm_1 = pd.DataFrame(results, index = range(5),\n",
    "                  columns = range(5))\n",
    "plt.figure(figsize = (10,7))\n",
    "sns.set(font_scale=1.4)\n",
    "sns.heatmap(df_cm_1, annot=True, cmap=\"YlGnBu\")\n",
    "print(classification_report(y_real_1, y_pred_1))"
   ]
  },
  {
   "cell_type": "code",
   "execution_count": 7,
   "metadata": {
    "collapsed": true
   },
   "outputs": [
    {
     "name": "stdout",
     "output_type": "stream",
     "text": [
      "              precision    recall  f1-score   support\n",
      "\n",
      "           0       0.68      0.86      0.76        58\n",
      "           1       0.80      0.30      0.43        27\n",
      "           2       0.68      0.84      0.75        49\n",
      "           3       0.57      0.50      0.53         8\n",
      "           4       0.55      0.45      0.49        51\n",
      "\n",
      "    accuracy                           0.65       193\n",
      "   macro avg       0.66      0.59      0.59       193\n",
      "weighted avg       0.66      0.65      0.63       193\n",
      "\n"
     ]
    },
    {
     "data": {
      "image/png": "[encoded data removed]",
      "text/plain": [
       "<Figure size 720x504 with 2 Axes>"
      ]
     },
     "metadata": {},
     "output_type": "display_data"
    }
   ],
   "source": [
    "y_real_2 = dfs[1]['Coder 2 / Final'].astype(int)\n",
    "y_pred_2 = dfs[1]['Coder 1'].astype(int)\n",
    "results = confusion_matrix(y_real_2, y_pred_2)\n",
    "df_cm_2 = pd.DataFrame(results, index = range(5),\n",
    "                  columns = range(5))\n",
    "plt.figure(figsize = (10,7))\n",
    "sns.set(font_scale=1.4)\n",
    "sns.heatmap(df_cm_2, annot=True, cmap=\"YlGnBu\")\n",
    "print(classification_report(y_real_2, y_pred_2))"
   ]
  },
  {
   "cell_type": "code",
   "execution_count": 8,
   "metadata": {
    "collapsed": true
   },
   "outputs": [
    {
     "name": "stdout",
     "output_type": "stream",
     "text": [
      "              precision    recall  f1-score   support\n",
      "\n",
      "           0       0.71      0.78      0.75       105\n",
      "           1       0.55      0.42      0.48        52\n",
      "           2       0.76      0.82      0.79       127\n",
      "           3       0.45      0.45      0.45        20\n",
      "           4       0.64      0.61      0.62       150\n",
      "\n",
      "    accuracy                           0.68       454\n",
      "   macro avg       0.62      0.62      0.62       454\n",
      "weighted avg       0.67      0.68      0.67       454\n",
      "\n"
     ]
    },
    {
     "data": {
      "image/png": "[encoded data removed]",
      "text/plain": [
       "<Figure size 720x504 with 2 Axes>"
      ]
     },
     "metadata": {},
     "output_type": "display_data"
    }
   ],
   "source": [
    "y_real = np.concatenate([y_real_1,y_real_2])\n",
    "y_pred = np.concatenate([y_pred_1,y_pred_2])\n",
    "\n",
    "df_cm = df_cm_1 + df_cm_2\n",
    "plt.figure(figsize = (10,7))\n",
    "sns.set(font_scale=1.4)\n",
    "sns.heatmap(df_cm, annot=True, cmap=\"YlGnBu\")\n",
    "print(classification_report(y_real, y_pred))"
   ]
  },
  {
   "cell_type": "code",
   "execution_count": 61,
   "metadata": {},
   "outputs": [],
   "source": [
    "#Fitting the Tokenizer on the docs:\n",
    "docs = [' '.join(list(df['Utterance'].astype(str))) for df in dfs]\n",
    "t = Tokenizer(filters='¡!\"\\'#$%&()*+,./:;<=>@[\\\\]^_-`{|}~\\t\\n',num_words=2000)\n",
    "t.fit_on_texts(docs)"
   ]
  },
  {
   "cell_type": "code",
   "execution_count": 19,
   "metadata": {},
   "outputs": [
    {
     "name": "stdout",
     "output_type": "stream",
     "text": [
      "Processing Document 1\n",
      "Processing Document 2\n",
      "Done!\n"
     ]
    }
   ],
   "source": [
    "#Add Previous and Next Utterance, Number of Words and Relative Position:\n",
    "i = 1\n",
    "max_length = 20\n",
    "for df in dfs_test:\n",
    "    print('Processing Document '+str(i))\n",
    "    i+=1\n",
    "    df['Relative Position'] = df.index/len(df)\n",
    "    df['Number of Words'] = df.apply(lambda row: len(row['Utterance'].split()), axis = 1)\n",
    "    df['Number of Words'] = df['Number of Words']/df['Number of Words'].max()\n",
    "    df['Tokenized Utterance'] = df.apply(lambda row: t.texts_to_sequences([str(row['Utterance'])])[0], axis = 1)\n",
    "    df['Previous Tokenized Utterance'] = df['Tokenized Utterance'].shift(1)\n",
    "    df['Next Tokenized Utterance'] = df['Tokenized Utterance'].shift(-1)\n",
    "    df = df.dropna()\n",
    "print('Done!')"
   ]
  },
  {
   "cell_type": "code",
   "execution_count": 76,
   "metadata": {},
   "outputs": [],
   "source": [
    "#Split Training and Test Set\n",
    "documents_numbers = range(2)\n",
    "couple = {0}\n",
    "\n",
    "#Split Training and Test Set\n",
    "training_dfs = [dfs[i] for i in (set(documents_numbers)-couple)]\n",
    "all_data_train = pd.concat(training_dfs).reset_index()[['Tokenized Utterance','Previous Tokenized Utterance',\n",
    "                                                            'Next Tokenized Utterance' ,'Relative Position',\n",
    "                                                            'Number of Words','Coder 1','Coder 2 / Final']].dropna()\n",
    "\n",
    "X_u_train = pad_sequences(all_data_train['Tokenized Utterance'],maxlen=max_length ,padding='post')\n",
    "X_pu_train = pad_sequences(all_data_train['Previous Tokenized Utterance'],maxlen=max_length ,padding='post')\n",
    "X_nu_train = pad_sequences(all_data_train['Next Tokenized Utterance'],maxlen=max_length ,padding='post')\n",
    "\n",
    "X_r_train = all_data_train['Relative Position']\n",
    "X_n_train = all_data_train['Number of Words']\n",
    "\n",
    "y_train_1 = keras.utils.to_categorical(all_data_train['Coder 1'], num_classes=5, dtype='float32')\n",
    "y_train_2 = keras.utils.to_categorical(all_data_train['Coder 2 / Final'], num_classes=5, dtype='float32')\n",
    "    \n",
    "test_dfs = [dfs[i] for i in couple]\n",
    "\n",
    "all_data_test = pd.concat(test_dfs).reset_index()[['Tokenized Utterance','Previous Tokenized Utterance',\n",
    "                                                            'Next Tokenized Utterance' ,'Relative Position',\n",
    "                                                            'Number of Words','Coder 1','Coder 2 / Final']].dropna()\n",
    "\n",
    "X_u_test = pad_sequences(all_data_test['Tokenized Utterance'],maxlen=max_length ,padding='post')\n",
    "X_pu_test = pad_sequences(all_data_test['Previous Tokenized Utterance'],maxlen=max_length ,padding='post')\n",
    "X_nu_test = pad_sequences(all_data_test['Next Tokenized Utterance'],maxlen=max_length ,padding='post')\n",
    "\n",
    "X_r_test = all_data_test['Relative Position']\n",
    "X_n_test = all_data_test['Number of Words']\n",
    "\n",
    "y_test_1 = keras.utils.to_categorical(all_data_test['Coder 1'], num_classes=5, dtype='float32')\n",
    "y_test_2 = keras.utils.to_categorical(all_data_test['Coder 2 / Final'], num_classes=5, dtype='float32')"
   ]
  },
  {
   "cell_type": "code",
   "execution_count": 24,
   "metadata": {},
   "outputs": [
    {
     "name": "stderr",
     "output_type": "stream",
     "text": [
      "/Users/pablouribepizarro/anaconda3/lib/python3.7/site-packages/smart_open/smart_open_lib.py:398: UserWarning: This function is deprecated, use smart_open.open instead. See the migration notes for details: https://github.com/RaRe-Technologies/smart_open/blob/master/README.rst#migrating-to-the-new-open-function\n",
      "  'See the migration notes for details: %s' % _MIGRATION_NOTES_URL\n"
     ]
    }
   ],
   "source": [
    "#Create Embedding Matrix:\n",
    "#Load the Embeddings\n",
    "from gensim.models import KeyedVectors\n",
    "path = r'/Users/pablouribepizarro/Desktop/CIAE/CIBL/finnish_4B_parsebank_skgram.bin'\n",
    "wv = KeyedVectors.load_word2vec_format(path,binary=True, encoding='UTF-8',limit=500000,unicode_errors='replace') \n",
    "\n",
    "#Build the Embedding Matrix\n",
    "max_vocab = 10000\n",
    "embedding_matrix = np.zeros((max_vocab, 200))\n",
    "for word, i in t.word_index.items():\n",
    "    try:\n",
    "        embedding_vector = wv.get_vector(word)\n",
    "        embedding_matrix[i] = embedding_vector\n",
    "    except:\n",
    "        pass "
   ]
  },
  {
   "cell_type": "code",
   "execution_count": 25,
   "metadata": {},
   "outputs": [
    {
     "name": "stdout",
     "output_type": "stream",
     "text": [
      "WARNING:tensorflow:From /Users/pablouribepizarro/anaconda3/lib/python3.7/site-packages/keras/backend/tensorflow_backend.py:517: The name tf.placeholder is deprecated. Please use tf.compat.v1.placeholder instead.\n",
      "\n",
      "WARNING:tensorflow:From /Users/pablouribepizarro/anaconda3/lib/python3.7/site-packages/keras/backend/tensorflow_backend.py:74: The name tf.get_default_graph is deprecated. Please use tf.compat.v1.get_default_graph instead.\n",
      "\n",
      "WARNING:tensorflow:From /Users/pablouribepizarro/anaconda3/lib/python3.7/site-packages/keras/backend/tensorflow_backend.py:4138: The name tf.random_uniform is deprecated. Please use tf.random.uniform instead.\n",
      "\n",
      "WARNING:tensorflow:From /Users/pablouribepizarro/anaconda3/lib/python3.7/site-packages/keras/backend/tensorflow_backend.py:174: The name tf.get_default_session is deprecated. Please use tf.compat.v1.get_default_session instead.\n",
      "\n",
      "WARNING:tensorflow:From /Users/pablouribepizarro/anaconda3/lib/python3.7/site-packages/keras/backend/tensorflow_backend.py:181: The name tf.ConfigProto is deprecated. Please use tf.compat.v1.ConfigProto instead.\n",
      "\n",
      "WARNING:tensorflow:From /Users/pablouribepizarro/anaconda3/lib/python3.7/site-packages/keras/optimizers.py:790: The name tf.train.Optimizer is deprecated. Please use tf.compat.v1.train.Optimizer instead.\n",
      "\n"
     ]
    }
   ],
   "source": [
    "#Shared Encoder:\n",
    "vocab_size = 10000\n",
    "max_length = 20\n",
    "\n",
    "from keras.activations import softmax\n",
    "\n",
    "def softMaxAxis1(x):\n",
    "    return softmax(x,axis=1)\n",
    "\n",
    "#Utterance inputs\n",
    "utterance_input = Input(shape=(max_length,), dtype='int32', name='utterance_input')\n",
    "#Previous\n",
    "previous_utterance_input = Input(shape=(max_length,), dtype='int32', name='p_utterance_input')\n",
    "#Next\n",
    "next_utterance_input = Input(shape=(max_length,), dtype='int32', name='n_utterance_input')\n",
    "\n",
    "#Relative Position input\n",
    "rel_position_input = Input(shape=(1,), dtype='float32', name='rel_position_input')\n",
    "#Number of words input\n",
    "n_words_input = Input(shape=(1,), dtype='float32', name='n_words_input')\n",
    "\n",
    "#Embedding Layer\n",
    "emb = Embedding(output_dim=200, input_dim=vocab_size, input_length=max_length, weights=[embedding_matrix],trainable=True)\n",
    "\n",
    "embedded_previous = emb(previous_utterance_input)\n",
    "embedded_utterance = emb(utterance_input)\n",
    "embedded_next = emb(next_utterance_input)\n",
    "\n",
    "\n",
    "x = concatenate([embedded_previous,embedded_utterance,embedded_next],axis = 1)\n",
    "\n",
    "attention = TimeDistributed(Dense(1))\n",
    "attention_parameters = attention(x)\n",
    "attention_weigths = Activation(softMaxAxis1)(attention_parameters)\n",
    "\n",
    "weighted_encoddings = Lambda(lambda x: x[0] * x[1])([x, attention_weigths])\n",
    "\n",
    "#Decoder:\n",
    "\n",
    "decoder = Lambda(lambda x: K.sum(x, axis=1))\n",
    "\n",
    "#decoder = LSTM(10) -> Lento, malos resultados\n",
    "#decoder = Flatten() -> Rápido, resultados moderados\n",
    "\n",
    "x = decoder(weighted_encoddings)\n",
    "\n",
    "\n",
    "\n",
    "x = concatenate([x,rel_position_input,n_words_input])\n",
    "\n",
    "x = Dense(64, activation='relu')(x)\n",
    "\n",
    "main_output = Dense(5, activation='softmax', name='main_output')(x)\n",
    "\n",
    "\n",
    "model_7_full = Model(inputs=[previous_utterance_input,utterance_input,next_utterance_input, \n",
    "                             rel_position_input,n_words_input], outputs=[main_output])\n",
    "model_7_full.compile(loss='categorical_crossentropy',\n",
    "              optimizer='adam',\n",
    "              metrics=['accuracy'])\n",
    "\n",
    "model_7_full.name = 'pte_simple_at'\n",
    "\n",
    "model_7_full.save_weights(r'/Users/pablouribepizarro/Desktop/CIAE/CIBL/model_weights/'+str(model_7_full.name)+'.h5')\n",
    "\n",
    "model_7_full.save(r'/Users/pablouribepizarro/Desktop/CIAE/CIBL/models/attention/'+str(model_7_full.name)+'.h5')"
   ]
  },
  {
   "cell_type": "markdown",
   "metadata": {},
   "source": [
    "### Model 1 - Coder 1"
   ]
  },
  {
   "cell_type": "code",
   "execution_count": 93,
   "metadata": {
    "collapsed": true
   },
   "outputs": [
    {
     "name": "stdout",
     "output_type": "stream",
     "text": [
      "Train on 191 samples, validate on 259 samples\n",
      "Epoch 1/40\n",
      "191/191 [==============================] - 1s 3ms/step - loss: 1.6022 - acc: 0.1466 - val_loss: 1.6054 - val_acc: 0.1506\n",
      "\n",
      "Epoch 00001: val_acc improved from -inf to 0.15058, saving model to /Users/pablouribepizarro/Desktop/CIAE/CIBL/model_weights/pte_simple_at_testing1.h5\n",
      "Epoch 2/40\n",
      "191/191 [==============================] - 1s 3ms/step - loss: 1.5720 - acc: 0.2618 - val_loss: 1.5925 - val_acc: 0.2896\n",
      "\n",
      "Epoch 00002: val_acc improved from 0.15058 to 0.28958, saving model to /Users/pablouribepizarro/Desktop/CIAE/CIBL/model_weights/pte_simple_at_testing1.h5\n",
      "Epoch 3/40\n",
      "191/191 [==============================] - 0s 2ms/step - loss: 1.5288 - acc: 0.4660 - val_loss: 1.5811 - val_acc: 0.3282\n",
      "\n",
      "Epoch 00003: val_acc improved from 0.28958 to 0.32819, saving model to /Users/pablouribepizarro/Desktop/CIAE/CIBL/model_weights/pte_simple_at_testing1.h5\n",
      "Epoch 4/40\n",
      "191/191 [==============================] - 0s 2ms/step - loss: 1.4829 - acc: 0.5183 - val_loss: 1.5728 - val_acc: 0.3359\n",
      "\n",
      "Epoch 00004: val_acc improved from 0.32819 to 0.33591, saving model to /Users/pablouribepizarro/Desktop/CIAE/CIBL/model_weights/pte_simple_at_testing1.h5\n",
      "Epoch 5/40\n",
      "191/191 [==============================] - 1s 3ms/step - loss: 1.4403 - acc: 0.5654 - val_loss: 1.5687 - val_acc: 0.3398\n",
      "\n",
      "Epoch 00005: val_acc improved from 0.33591 to 0.33977, saving model to /Users/pablouribepizarro/Desktop/CIAE/CIBL/model_weights/pte_simple_at_testing1.h5\n",
      "Epoch 6/40\n",
      "191/191 [==============================] - 1s 3ms/step - loss: 1.4002 - acc: 0.6178 - val_loss: 1.5670 - val_acc: 0.3398\n",
      "\n",
      "Epoch 00006: val_acc did not improve from 0.33977\n",
      "Epoch 7/40\n",
      "191/191 [==============================] - 0s 2ms/step - loss: 1.3583 - acc: 0.6230 - val_loss: 1.5650 - val_acc: 0.3436\n",
      "\n",
      "Epoch 00007: val_acc improved from 0.33977 to 0.34363, saving model to /Users/pablouribepizarro/Desktop/CIAE/CIBL/model_weights/pte_simple_at_testing1.h5\n",
      "Epoch 8/40\n",
      "191/191 [==============================] - 1s 3ms/step - loss: 1.3208 - acc: 0.6178 - val_loss: 1.5602 - val_acc: 0.3514\n",
      "\n",
      "Epoch 00008: val_acc improved from 0.34363 to 0.35135, saving model to /Users/pablouribepizarro/Desktop/CIAE/CIBL/model_weights/pte_simple_at_testing1.h5\n",
      "Epoch 9/40\n",
      "191/191 [==============================] - 1s 3ms/step - loss: 1.2822 - acc: 0.5969 - val_loss: 1.5503 - val_acc: 0.3398\n",
      "\n",
      "Epoch 00009: val_acc did not improve from 0.35135\n",
      "Epoch 10/40\n",
      "191/191 [==============================] - 1s 3ms/step - loss: 1.2440 - acc: 0.5602 - val_loss: 1.5361 - val_acc: 0.3436\n",
      "\n",
      "Epoch 00010: val_acc did not improve from 0.35135\n",
      "Epoch 11/40\n",
      "191/191 [==============================] - 1s 3ms/step - loss: 1.2099 - acc: 0.5236 - val_loss: 1.5110 - val_acc: 0.3436\n",
      "\n",
      "Epoch 00011: val_acc did not improve from 0.35135\n",
      "Epoch 12/40\n",
      "191/191 [==============================] - 1s 3ms/step - loss: 1.1777 - acc: 0.4974 - val_loss: 1.4894 - val_acc: 0.3436\n",
      "\n",
      "Epoch 00012: val_acc did not improve from 0.35135\n",
      "Epoch 13/40\n",
      "191/191 [==============================] - 0s 3ms/step - loss: 1.1458 - acc: 0.4817 - val_loss: 1.4672 - val_acc: 0.3436\n",
      "\n",
      "Epoch 00013: val_acc did not improve from 0.35135\n",
      "Epoch 14/40\n",
      "191/191 [==============================] - 0s 2ms/step - loss: 1.1146 - acc: 0.4974 - val_loss: 1.4421 - val_acc: 0.3436\n",
      "\n",
      "Epoch 00014: val_acc did not improve from 0.35135\n",
      "Epoch 15/40\n",
      "191/191 [==============================] - 0s 2ms/step - loss: 1.0854 - acc: 0.5183 - val_loss: 1.4239 - val_acc: 0.3436\n",
      "\n",
      "Epoch 00015: val_acc did not improve from 0.35135\n",
      "Epoch 16/40\n",
      "191/191 [==============================] - 0s 2ms/step - loss: 1.0563 - acc: 0.5445 - val_loss: 1.4120 - val_acc: 0.3398\n",
      "\n",
      "Epoch 00016: val_acc did not improve from 0.35135\n",
      "Epoch 17/40\n",
      "191/191 [==============================] - 0s 2ms/step - loss: 1.0238 - acc: 0.5916 - val_loss: 1.4131 - val_acc: 0.3398\n",
      "\n",
      "Epoch 00017: val_acc did not improve from 0.35135\n",
      "Epoch 18/40\n",
      "191/191 [==============================] - 0s 2ms/step - loss: 0.9913 - acc: 0.6283 - val_loss: 1.4195 - val_acc: 0.3398\n",
      "\n",
      "Epoch 00018: val_acc did not improve from 0.35135\n",
      "Epoch 19/40\n",
      "191/191 [==============================] - 0s 2ms/step - loss: 0.9556 - acc: 0.6702 - val_loss: 1.4319 - val_acc: 0.3436\n",
      "\n",
      "Epoch 00019: val_acc did not improve from 0.35135\n",
      "Epoch 20/40\n",
      "191/191 [==============================] - 0s 2ms/step - loss: 0.9184 - acc: 0.7120 - val_loss: 1.4269 - val_acc: 0.3398\n",
      "\n",
      "Epoch 00020: val_acc did not improve from 0.35135\n",
      "Epoch 21/40\n",
      "191/191 [==============================] - 0s 2ms/step - loss: 0.8752 - acc: 0.7696 - val_loss: 1.4267 - val_acc: 0.3668\n",
      "\n",
      "Epoch 00021: val_acc improved from 0.35135 to 0.36680, saving model to /Users/pablouribepizarro/Desktop/CIAE/CIBL/model_weights/pte_simple_at_testing1.h5\n",
      "Epoch 22/40\n",
      "191/191 [==============================] - 0s 2ms/step - loss: 0.8296 - acc: 0.8010 - val_loss: 1.4288 - val_acc: 0.3668\n",
      "\n",
      "Epoch 00022: val_acc did not improve from 0.36680\n",
      "Epoch 23/40\n",
      "191/191 [==============================] - 0s 2ms/step - loss: 0.7808 - acc: 0.8272 - val_loss: 1.4264 - val_acc: 0.3707\n",
      "\n",
      "Epoch 00023: val_acc improved from 0.36680 to 0.37066, saving model to /Users/pablouribepizarro/Desktop/CIAE/CIBL/model_weights/pte_simple_at_testing1.h5\n"
     ]
    }
   ],
   "source": [
    "#Load Initial Random Weights:\n",
    "model_7_full.load_weights(r'/Users/pablouribepizarro/Desktop/CIAE/CIBL/model_weights/'+str(model_7_full.name)+'.h5')\n",
    "\n",
    "#Checkpoint\n",
    "checkpoint_7_full = ModelCheckpoint('/Users/pablouribepizarro/Desktop/CIAE/CIBL/model_weights/'+str(model_7_full.name)+'_testing1.h5', \n",
    "                             verbose=1, monitor='val_acc',save_best_only=True, mode='auto')\n",
    "\n",
    "EA = EarlyStopping(monitor='val_loss', patience=7)\n",
    "\n",
    "#Fit Model:\n",
    "history = model_7_full.fit({'p_utterance_input': X_pu_train,\n",
    "                            'utterance_input': X_u_train,\n",
    "                            'n_utterance_input': X_nu_train,\n",
    "                            'rel_position_input': X_r_train,\n",
    "                            'n_words_input': X_n_train},\n",
    "                            {'main_output': y_train_1}, validation_data= \n",
    "                           ({'p_utterance_input': X_pu_test,\n",
    "                            'utterance_input': X_u_test,\n",
    "                            'n_utterance_input': X_nu_test,\n",
    "                            'rel_position_input': X_r_test,\n",
    "                            'n_words_input': X_n_test},\n",
    "                            {'main_output': y_test_1}),\n",
    "                           epochs=40, batch_size=64,\n",
    "                            shuffle=True, callbacks = [checkpoint_7_full,EA])"
   ]
  },
  {
   "cell_type": "code",
   "execution_count": 99,
   "metadata": {
    "collapsed": true
   },
   "outputs": [
    {
     "name": "stdout",
     "output_type": "stream",
     "text": [
      "              precision    recall  f1-score   support\n",
      "\n",
      "           0       0.23      0.78      0.35        40\n",
      "           1       0.00      0.00      0.00        30\n",
      "           2       0.57      0.70      0.63        77\n",
      "           3       0.00      0.00      0.00        13\n",
      "           4       0.38      0.11      0.17        99\n",
      "\n",
      "    accuracy                           0.37       259\n",
      "   macro avg       0.24      0.32      0.23       259\n",
      "weighted avg       0.35      0.37      0.31       259\n",
      "\n"
     ]
    },
    {
     "data": {
      "text/plain": [
       "<matplotlib.axes._subplots.AxesSubplot at 0x1a49d4a5f8>"
      ]
     },
     "execution_count": 99,
     "metadata": {},
     "output_type": "execute_result"
    },
    {
     "data": {
      "image/png": "[encoded data removed]",
      "text/plain": [
       "<Figure size 720x504 with 2 Axes>"
      ]
     },
     "metadata": {},
     "output_type": "display_data"
    }
   ],
   "source": [
    "model_7_full.load_weights(r'/Users/pablouribepizarro/Desktop/CIAE/CIBL/model_weights/'+str(model_7_full.name)+'_testing1.h5')\n",
    "y_real = y_test_1.argmax(axis=-1)\n",
    "y_pred = model_7_full.predict({'p_utterance_input': X_pu_test,\n",
    "                            'utterance_input': X_u_test,\n",
    "                            'n_utterance_input': X_nu_test,\n",
    "                            'rel_position_input': X_r_test,\n",
    "                            'n_words_input': X_n_test}).argmax(axis=-1)\n",
    "results = confusion_matrix(y_real, y_pred)\n",
    "df_cm = pd.DataFrame(results, index = range(5),\n",
    "                  columns = range(5))\n",
    "plt.figure(figsize = (10,7))\n",
    "sns.set(font_scale=1.4)\n",
    "print(classification_report(y_real, y_pred))\n",
    "sns.heatmap(df_cm, annot=True, cmap=\"YlGnBu\")"
   ]
  },
  {
   "cell_type": "markdown",
   "metadata": {},
   "source": [
    "### Model 1 - Coder 2"
   ]
  },
  {
   "cell_type": "code",
   "execution_count": 102,
   "metadata": {
    "collapsed": true
   },
   "outputs": [
    {
     "name": "stdout",
     "output_type": "stream",
     "text": [
      "              precision    recall  f1-score   support\n",
      "\n",
      "           0       0.26      0.78      0.40        46\n",
      "           1       0.00      0.00      0.00        25\n",
      "           2       0.56      0.68      0.62        78\n",
      "           3       0.00      0.00      0.00        12\n",
      "           4       0.52      0.15      0.24        98\n",
      "\n",
      "    accuracy                           0.40       259\n",
      "   macro avg       0.27      0.32      0.25       259\n",
      "weighted avg       0.41      0.40      0.35       259\n",
      "\n"
     ]
    },
    {
     "data": {
      "text/plain": [
       "<matplotlib.axes._subplots.AxesSubplot at 0x1a4a229cf8>"
      ]
     },
     "execution_count": 102,
     "metadata": {},
     "output_type": "execute_result"
    },
    {
     "data": {
      "image/png": "[encoded data removed]",
      "text/plain": [
       "<Figure size 720x504 with 2 Axes>"
      ]
     },
     "metadata": {},
     "output_type": "display_data"
    }
   ],
   "source": [
    "model_7_full.load_weights(r'/Users/pablouribepizarro/Desktop/CIAE/CIBL/model_weights/'+str(model_7_full.name)+'_testing1.h5')\n",
    "y_real = y_test_2.argmax(axis=-1)\n",
    "y_pred = model_7_full.predict({'p_utterance_input': X_pu_test,\n",
    "                            'utterance_input': X_u_test,\n",
    "                            'n_utterance_input': X_nu_test,\n",
    "                            'rel_position_input': X_r_test,\n",
    "                            'n_words_input': X_n_test}).argmax(axis=-1)\n",
    "results = confusion_matrix(y_real, y_pred)\n",
    "df_cm = pd.DataFrame(results, index = range(5),\n",
    "                  columns = range(5))\n",
    "plt.figure(figsize = (10,7))\n",
    "sns.set(font_scale=1.4)\n",
    "print(classification_report(y_real, y_pred))\n",
    "sns.heatmap(df_cm, annot=True, cmap=\"YlGnBu\")"
   ]
  },
  {
   "cell_type": "markdown",
   "metadata": {},
   "source": [
    "### Model 2 - Coder 2"
   ]
  },
  {
   "cell_type": "code",
   "execution_count": 97,
   "metadata": {
    "collapsed": true
   },
   "outputs": [
    {
     "name": "stdout",
     "output_type": "stream",
     "text": [
      "Train on 191 samples, validate on 259 samples\n",
      "Epoch 1/40\n",
      "191/191 [==============================] - 0s 2ms/step - loss: 1.6009 - acc: 0.1099 - val_loss: 1.6059 - val_acc: 0.1197\n",
      "\n",
      "Epoch 00001: val_acc improved from -inf to 0.11969, saving model to /Users/pablouribepizarro/Desktop/CIAE/CIBL/model_weights/pte_simple_at_testing2.h5\n",
      "Epoch 2/40\n",
      "191/191 [==============================] - 1s 3ms/step - loss: 1.5799 - acc: 0.1990 - val_loss: 1.5876 - val_acc: 0.1931\n",
      "\n",
      "Epoch 00002: val_acc improved from 0.11969 to 0.19305, saving model to /Users/pablouribepizarro/Desktop/CIAE/CIBL/model_weights/pte_simple_at_testing2.h5\n",
      "Epoch 3/40\n",
      "191/191 [==============================] - 0s 2ms/step - loss: 1.5523 - acc: 0.3037 - val_loss: 1.5670 - val_acc: 0.3282\n",
      "\n",
      "Epoch 00003: val_acc improved from 0.19305 to 0.32819, saving model to /Users/pablouribepizarro/Desktop/CIAE/CIBL/model_weights/pte_simple_at_testing2.h5\n",
      "Epoch 4/40\n",
      "191/191 [==============================] - 0s 2ms/step - loss: 1.5244 - acc: 0.4188 - val_loss: 1.5458 - val_acc: 0.3514\n",
      "\n",
      "Epoch 00004: val_acc improved from 0.32819 to 0.35135, saving model to /Users/pablouribepizarro/Desktop/CIAE/CIBL/model_weights/pte_simple_at_testing2.h5\n",
      "Epoch 5/40\n",
      "191/191 [==============================] - 1s 3ms/step - loss: 1.4932 - acc: 0.4974 - val_loss: 1.5260 - val_acc: 0.3629\n",
      "\n",
      "Epoch 00005: val_acc improved from 0.35135 to 0.36293, saving model to /Users/pablouribepizarro/Desktop/CIAE/CIBL/model_weights/pte_simple_at_testing2.h5\n",
      "Epoch 6/40\n",
      "191/191 [==============================] - 0s 2ms/step - loss: 1.4657 - acc: 0.4869 - val_loss: 1.5034 - val_acc: 0.3552\n",
      "\n",
      "Epoch 00006: val_acc did not improve from 0.36293\n",
      "Epoch 7/40\n",
      "191/191 [==============================] - 0s 2ms/step - loss: 1.4350 - acc: 0.4764 - val_loss: 1.4797 - val_acc: 0.3514\n",
      "\n",
      "Epoch 00007: val_acc did not improve from 0.36293\n",
      "Epoch 8/40\n",
      "191/191 [==============================] - 1s 3ms/step - loss: 1.4054 - acc: 0.4817 - val_loss: 1.4552 - val_acc: 0.3591\n",
      "\n",
      "Epoch 00008: val_acc did not improve from 0.36293\n",
      "Epoch 9/40\n",
      "191/191 [==============================] - 1s 3ms/step - loss: 1.3755 - acc: 0.4764 - val_loss: 1.4288 - val_acc: 0.3707\n",
      "\n",
      "Epoch 00009: val_acc improved from 0.36293 to 0.37066, saving model to /Users/pablouribepizarro/Desktop/CIAE/CIBL/model_weights/pte_simple_at_testing2.h5\n",
      "Epoch 10/40\n",
      "191/191 [==============================] - 0s 3ms/step - loss: 1.3476 - acc: 0.4660 - val_loss: 1.4008 - val_acc: 0.3745\n",
      "\n",
      "Epoch 00010: val_acc improved from 0.37066 to 0.37452, saving model to /Users/pablouribepizarro/Desktop/CIAE/CIBL/model_weights/pte_simple_at_testing2.h5\n",
      "Epoch 11/40\n",
      "191/191 [==============================] - 0s 3ms/step - loss: 1.3190 - acc: 0.5026 - val_loss: 1.3733 - val_acc: 0.3900\n",
      "\n",
      "Epoch 00011: val_acc improved from 0.37452 to 0.38996, saving model to /Users/pablouribepizarro/Desktop/CIAE/CIBL/model_weights/pte_simple_at_testing2.h5\n",
      "Epoch 12/40\n",
      "191/191 [==============================] - 1s 3ms/step - loss: 1.2911 - acc: 0.5445 - val_loss: 1.3482 - val_acc: 0.4093\n",
      "\n",
      "Epoch 00012: val_acc improved from 0.38996 to 0.40927, saving model to /Users/pablouribepizarro/Desktop/CIAE/CIBL/model_weights/pte_simple_at_testing2.h5\n",
      "Epoch 13/40\n",
      "191/191 [==============================] - 0s 2ms/step - loss: 1.2661 - acc: 0.5497 - val_loss: 1.3240 - val_acc: 0.4286\n",
      "\n",
      "Epoch 00013: val_acc improved from 0.40927 to 0.42857, saving model to /Users/pablouribepizarro/Desktop/CIAE/CIBL/model_weights/pte_simple_at_testing2.h5\n",
      "Epoch 14/40\n",
      "191/191 [==============================] - 0s 2ms/step - loss: 1.2392 - acc: 0.5497 - val_loss: 1.3052 - val_acc: 0.4710\n",
      "\n",
      "Epoch 00014: val_acc improved from 0.42857 to 0.47104, saving model to /Users/pablouribepizarro/Desktop/CIAE/CIBL/model_weights/pte_simple_at_testing2.h5\n",
      "Epoch 15/40\n",
      "191/191 [==============================] - 0s 3ms/step - loss: 1.2121 - acc: 0.5654 - val_loss: 1.2938 - val_acc: 0.4749\n",
      "\n",
      "Epoch 00015: val_acc improved from 0.47104 to 0.47490, saving model to /Users/pablouribepizarro/Desktop/CIAE/CIBL/model_weights/pte_simple_at_testing2.h5\n",
      "Epoch 16/40\n",
      "191/191 [==============================] - 0s 3ms/step - loss: 1.1801 - acc: 0.5707 - val_loss: 1.2890 - val_acc: 0.4788\n",
      "\n",
      "Epoch 00016: val_acc improved from 0.47490 to 0.47876, saving model to /Users/pablouribepizarro/Desktop/CIAE/CIBL/model_weights/pte_simple_at_testing2.h5\n",
      "Epoch 17/40\n",
      "191/191 [==============================] - 0s 3ms/step - loss: 1.1446 - acc: 0.5707 - val_loss: 1.2844 - val_acc: 0.4903\n",
      "\n",
      "Epoch 00017: val_acc improved from 0.47876 to 0.49035, saving model to /Users/pablouribepizarro/Desktop/CIAE/CIBL/model_weights/pte_simple_at_testing2.h5\n",
      "Epoch 18/40\n",
      "191/191 [==============================] - 0s 2ms/step - loss: 1.1045 - acc: 0.5916 - val_loss: 1.2788 - val_acc: 0.4942\n",
      "\n",
      "Epoch 00018: val_acc improved from 0.49035 to 0.49421, saving model to /Users/pablouribepizarro/Desktop/CIAE/CIBL/model_weights/pte_simple_at_testing2.h5\n",
      "Epoch 19/40\n",
      "191/191 [==============================] - 0s 3ms/step - loss: 1.0594 - acc: 0.6649 - val_loss: 1.2700 - val_acc: 0.5135\n",
      "\n",
      "Epoch 00019: val_acc improved from 0.49421 to 0.51351, saving model to /Users/pablouribepizarro/Desktop/CIAE/CIBL/model_weights/pte_simple_at_testing2.h5\n",
      "Epoch 20/40\n",
      "191/191 [==============================] - 0s 2ms/step - loss: 1.0059 - acc: 0.7225 - val_loss: 1.2713 - val_acc: 0.5097\n",
      "\n",
      "Epoch 00020: val_acc did not improve from 0.51351\n",
      "Epoch 21/40\n",
      "191/191 [==============================] - 1s 3ms/step - loss: 0.9489 - acc: 0.7592 - val_loss: 1.2693 - val_acc: 0.5174\n",
      "\n",
      "Epoch 00021: val_acc improved from 0.51351 to 0.51737, saving model to /Users/pablouribepizarro/Desktop/CIAE/CIBL/model_weights/pte_simple_at_testing2.h5\n",
      "Epoch 22/40\n",
      "191/191 [==============================] - 1s 3ms/step - loss: 0.8851 - acc: 0.8220 - val_loss: 1.2641 - val_acc: 0.5290\n",
      "\n",
      "Epoch 00022: val_acc improved from 0.51737 to 0.52896, saving model to /Users/pablouribepizarro/Desktop/CIAE/CIBL/model_weights/pte_simple_at_testing2.h5\n",
      "Epoch 23/40\n",
      "191/191 [==============================] - 1s 3ms/step - loss: 0.8128 - acc: 0.8586 - val_loss: 1.2665 - val_acc: 0.5367\n",
      "\n",
      "Epoch 00023: val_acc improved from 0.52896 to 0.53668, saving model to /Users/pablouribepizarro/Desktop/CIAE/CIBL/model_weights/pte_simple_at_testing2.h5\n",
      "Epoch 24/40\n",
      "191/191 [==============================] - 1s 3ms/step - loss: 0.7367 - acc: 0.8848 - val_loss: 1.2658 - val_acc: 0.5444\n",
      "\n",
      "Epoch 00024: val_acc improved from 0.53668 to 0.54440, saving model to /Users/pablouribepizarro/Desktop/CIAE/CIBL/model_weights/pte_simple_at_testing2.h5\n",
      "Epoch 25/40\n",
      "191/191 [==============================] - 1s 3ms/step - loss: 0.6566 - acc: 0.9005 - val_loss: 1.2614 - val_acc: 0.5560\n",
      "\n",
      "Epoch 00025: val_acc improved from 0.54440 to 0.55598, saving model to /Users/pablouribepizarro/Desktop/CIAE/CIBL/model_weights/pte_simple_at_testing2.h5\n",
      "Epoch 26/40\n",
      "191/191 [==============================] - 1s 3ms/step - loss: 0.5751 - acc: 0.9058 - val_loss: 1.2601 - val_acc: 0.5444\n",
      "\n",
      "Epoch 00026: val_acc did not improve from 0.55598\n",
      "Epoch 27/40\n",
      "191/191 [==============================] - 1s 3ms/step - loss: 0.4981 - acc: 0.9162 - val_loss: 1.2618 - val_acc: 0.5212\n",
      "\n",
      "Epoch 00027: val_acc did not improve from 0.55598\n",
      "Epoch 28/40\n",
      "191/191 [==============================] - 1s 3ms/step - loss: 0.4275 - acc: 0.9267 - val_loss: 1.2692 - val_acc: 0.4981\n",
      "\n",
      "Epoch 00028: val_acc did not improve from 0.55598\n",
      "Epoch 29/40\n",
      "191/191 [==============================] - 1s 3ms/step - loss: 0.3608 - acc: 0.9372 - val_loss: 1.2899 - val_acc: 0.4826\n",
      "\n",
      "Epoch 00029: val_acc did not improve from 0.55598\n",
      "Epoch 30/40\n",
      "191/191 [==============================] - 1s 3ms/step - loss: 0.3057 - acc: 0.9372 - val_loss: 1.3122 - val_acc: 0.4788\n",
      "\n",
      "Epoch 00030: val_acc did not improve from 0.55598\n",
      "Epoch 31/40\n",
      "191/191 [==============================] - 0s 3ms/step - loss: 0.2586 - acc: 0.9476 - val_loss: 1.3343 - val_acc: 0.4826\n",
      "\n",
      "Epoch 00031: val_acc did not improve from 0.55598\n",
      "Epoch 32/40\n",
      "191/191 [==============================] - 1s 3ms/step - loss: 0.2209 - acc: 0.9529 - val_loss: 1.3597 - val_acc: 0.4749\n",
      "\n",
      "Epoch 00032: val_acc did not improve from 0.55598\n",
      "Epoch 33/40\n",
      "191/191 [==============================] - 1s 3ms/step - loss: 0.1876 - acc: 0.9529 - val_loss: 1.3842 - val_acc: 0.4672\n",
      "\n",
      "Epoch 00033: val_acc did not improve from 0.55598\n"
     ]
    }
   ],
   "source": [
    "#Load Initial Random Weights:\n",
    "model_7_full.load_weights(r'/Users/pablouribepizarro/Desktop/CIAE/CIBL/model_weights/'+str(model_7_full.name)+'.h5')\n",
    "\n",
    "#Checkpoint\n",
    "checkpoint_7_full = ModelCheckpoint('/Users/pablouribepizarro/Desktop/CIAE/CIBL/model_weights/'+str(model_7_full.name)+'_testing2.h5', \n",
    "                             verbose=1, monitor='val_acc',save_best_only=True, mode='auto')\n",
    "\n",
    "EA = EarlyStopping(monitor='val_loss', patience=7)\n",
    "\n",
    "#Fit Model:\n",
    "history = model_7_full.fit({'p_utterance_input': X_pu_train,\n",
    "                            'utterance_input': X_u_train,\n",
    "                            'n_utterance_input': X_nu_train,\n",
    "                            'rel_position_input': X_r_train,\n",
    "                            'n_words_input': X_n_train},\n",
    "                            {'main_output': y_train_2}, validation_data= \n",
    "                           ({'p_utterance_input': X_pu_test,\n",
    "                            'utterance_input': X_u_test,\n",
    "                            'n_utterance_input': X_nu_test,\n",
    "                            'rel_position_input': X_r_test,\n",
    "                            'n_words_input': X_n_test},\n",
    "                            {'main_output': y_test_2}),\n",
    "                           epochs=40, batch_size=64,\n",
    "                            shuffle=True, callbacks = [checkpoint_7_full,EA])"
   ]
  },
  {
   "cell_type": "code",
   "execution_count": 100,
   "metadata": {
    "collapsed": true
   },
   "outputs": [
    {
     "name": "stdout",
     "output_type": "stream",
     "text": [
      "              precision    recall  f1-score   support\n",
      "\n",
      "           0       0.33      0.67      0.44        46\n",
      "           1       0.78      0.28      0.41        25\n",
      "           2       0.69      0.72      0.70        78\n",
      "           3       0.00      0.00      0.00        12\n",
      "           4       0.67      0.51      0.58        98\n",
      "\n",
      "    accuracy                           0.56       259\n",
      "   macro avg       0.49      0.44      0.43       259\n",
      "weighted avg       0.59      0.56      0.55       259\n",
      "\n"
     ]
    },
    {
     "data": {
      "text/plain": [
       "<matplotlib.axes._subplots.AxesSubplot at 0x1a49ee35c0>"
      ]
     },
     "execution_count": 100,
     "metadata": {},
     "output_type": "execute_result"
    },
    {
     "data": {
      "image/png": "[encoded data removed]",
      "text/plain": [
       "<Figure size 720x504 with 2 Axes>"
      ]
     },
     "metadata": {},
     "output_type": "display_data"
    }
   ],
   "source": [
    "model_7_full.load_weights(r'/Users/pablouribepizarro/Desktop/CIAE/CIBL/model_weights/'+str(model_7_full.name)+'_testing2.h5')\n",
    "y_real = y_test_2.argmax(axis=-1)\n",
    "y_pred = model_7_full.predict({'p_utterance_input': X_pu_test,\n",
    "                            'utterance_input': X_u_test,\n",
    "                            'n_utterance_input': X_nu_test,\n",
    "                            'rel_position_input': X_r_test,\n",
    "                            'n_words_input': X_n_test}).argmax(axis=-1)\n",
    "results = confusion_matrix(y_real, y_pred)\n",
    "df_cm = pd.DataFrame(results, index = range(5),\n",
    "                  columns = range(5))\n",
    "plt.figure(figsize = (10,7))\n",
    "sns.set(font_scale=1.4)\n",
    "print(classification_report(y_real, y_pred))\n",
    "sns.heatmap(df_cm, annot=True, cmap=\"YlGnBu\")"
   ]
  },
  {
   "cell_type": "markdown",
   "metadata": {},
   "source": [
    "### Model 2 - Coder 1"
   ]
  },
  {
   "cell_type": "code",
   "execution_count": 101,
   "metadata": {
    "collapsed": true
   },
   "outputs": [
    {
     "name": "stdout",
     "output_type": "stream",
     "text": [
      "              precision    recall  f1-score   support\n",
      "\n",
      "           0       0.28      0.65      0.39        40\n",
      "           1       0.56      0.17      0.26        30\n",
      "           2       0.65      0.69      0.67        77\n",
      "           3       0.00      0.00      0.00        13\n",
      "           4       0.57      0.43      0.49        99\n",
      "\n",
      "    accuracy                           0.49       259\n",
      "   macro avg       0.41      0.39      0.36       259\n",
      "weighted avg       0.52      0.49      0.48       259\n",
      "\n"
     ]
    },
    {
     "data": {
      "text/plain": [
       "<matplotlib.axes._subplots.AxesSubplot at 0x1a4a087a20>"
      ]
     },
     "execution_count": 101,
     "metadata": {},
     "output_type": "execute_result"
    },
    {
     "data": {
      "image/png": "[encoded data removed]",
      "text/plain": [
       "<Figure size 720x504 with 2 Axes>"
      ]
     },
     "metadata": {},
     "output_type": "display_data"
    }
   ],
   "source": [
    "model_7_full.load_weights(r'/Users/pablouribepizarro/Desktop/CIAE/CIBL/model_weights/'+str(model_7_full.name)+'_testing2.h5')\n",
    "y_real = y_test_1.argmax(axis=-1)\n",
    "y_pred = model_7_full.predict({'p_utterance_input': X_pu_test,\n",
    "                            'utterance_input': X_u_test,\n",
    "                            'n_utterance_input': X_nu_test,\n",
    "                            'rel_position_input': X_r_test,\n",
    "                            'n_words_input': X_n_test}).argmax(axis=-1)\n",
    "results = confusion_matrix(y_real, y_pred)\n",
    "df_cm = pd.DataFrame(results, index = range(5),\n",
    "                  columns = range(5))\n",
    "plt.figure(figsize = (10,7))\n",
    "sns.set(font_scale=1.4)\n",
    "print(classification_report(y_real, y_pred))\n",
    "sns.heatmap(df_cm, annot=True, cmap=\"YlGnBu\")"
   ]
  },
  {
   "cell_type": "code",
   "execution_count": 14,
   "metadata": {},
   "outputs": [
    {
     "name": "stdout",
     "output_type": "stream",
     "text": [
      "/Users/pablouribepizarro/Desktop/CIAE/CIBL/Raw/inquiry_lessons/Group2_2017_Scaffold1.xlsx\n",
      "/Users/pablouribepizarro/Desktop/CIAE/CIBL/Raw/inquiry_lessons/Group3C_2017_Scaffold2.xlsx\n",
      "/Users/pablouribepizarro/Desktop/CIAE/CIBL/Raw/inquiry_lessons/Group4_2017_Scaffold1.xlsx\n",
      "/Users/pablouribepizarro/Desktop/CIAE/CIBL/Raw/inquiry_lessons/Group9_2016_No_scaffold.xlsx\n",
      "/Users/pablouribepizarro/Desktop/CIAE/CIBL/Raw/inquiry_lessons/Group4B_2017_Scaffold2.xlsx\n",
      "/Users/pablouribepizarro/Desktop/CIAE/CIBL/Raw/inquiry_lessons/Group3_2016_No_scaffold.xlsx\n",
      "/Users/pablouribepizarro/Desktop/CIAE/CIBL/Raw/inquiry_lessons/Group5_2017_Scaffold2.xlsx\n",
      "/Users/pablouribepizarro/Desktop/CIAE/CIBL/Raw/inquiry_lessons/Group5_2016_No_scaffold.xlsx\n",
      "/Users/pablouribepizarro/Desktop/CIAE/CIBL/Raw/inquiry_lessons/Group6A_2017_Scaffold1.xlsx\n",
      "/Users/pablouribepizarro/Desktop/CIAE/CIBL/Raw/inquiry_lessons/Group12_2016_No_scaffold.xlsx\n",
      "/Users/pablouribepizarro/Desktop/CIAE/CIBL/Raw/inquiry_lessons/Group3_2017_Scaffold2.xlsx\n",
      "Number of Files: 11\n"
     ]
    }
   ],
   "source": [
    "local_path = r'/Users/pablouribepizarro/Desktop/CIAE/CIBL/Raw/inquiry_lessons'\n",
    "files_path = []\n",
    "# r=root, d=directories, f = files\n",
    "for r, d, f in os.walk(local_path):\n",
    "    for file in f:\n",
    "        if '.xlsx' in file:\n",
    "            files_path.append(os.path.join(r, file))\n",
    "            print(os.path.join(r, file))\n",
    "            \n",
    "n_files = len(files_path)\n",
    "print('Number of Files: '+str(n_files))"
   ]
  },
  {
   "cell_type": "code",
   "execution_count": 15,
   "metadata": {},
   "outputs": [
    {
     "data": {
      "text/html": [
       "<div>\n",
       "<style scoped>\n",
       "    .dataframe tbody tr th:only-of-type {\n",
       "        vertical-align: middle;\n",
       "    }\n",
       "\n",
       "    .dataframe tbody tr th {\n",
       "        vertical-align: top;\n",
       "    }\n",
       "\n",
       "    .dataframe thead th {\n",
       "        text-align: right;\n",
       "    }\n",
       "</style>\n",
       "<table border=\"1\" class=\"dataframe\">\n",
       "  <thead>\n",
       "    <tr style=\"text-align: right;\">\n",
       "      <th></th>\n",
       "      <th>StudentID</th>\n",
       "      <th>Student</th>\n",
       "      <th>time_start</th>\n",
       "      <th>time_end</th>\n",
       "      <th>Phase</th>\n",
       "      <th>Phase_start</th>\n",
       "      <th>Phase_end</th>\n",
       "      <th>Utterance</th>\n",
       "    </tr>\n",
       "  </thead>\n",
       "  <tbody>\n",
       "    <tr>\n",
       "      <th>0</th>\n",
       "      <td>O2</td>\n",
       "      <td>NaN</td>\n",
       "      <td>NaN</td>\n",
       "      <td>NaN</td>\n",
       "      <td>0</td>\n",
       "      <td>1.0</td>\n",
       "      <td>NaN</td>\n",
       "      <td>Satunnaiskävely.</td>\n",
       "    </tr>\n",
       "    <tr>\n",
       "      <th>1</th>\n",
       "      <td>O1</td>\n",
       "      <td>NaN</td>\n",
       "      <td>NaN</td>\n",
       "      <td>NaN</td>\n",
       "      <td>0</td>\n",
       "      <td>NaN</td>\n",
       "      <td>NaN</td>\n",
       "      <td>[lukee tehtävänantoa]</td>\n",
       "    </tr>\n",
       "    <tr>\n",
       "      <th>2</th>\n",
       "      <td>O1</td>\n",
       "      <td>NaN</td>\n",
       "      <td>NaN</td>\n",
       "      <td>NaN</td>\n",
       "      <td>0</td>\n",
       "      <td>NaN</td>\n",
       "      <td>1.0</td>\n",
       "      <td>Voi voi. [käynnistää videon]</td>\n",
       "    </tr>\n",
       "    <tr>\n",
       "      <th>3</th>\n",
       "      <td>O1</td>\n",
       "      <td>NaN</td>\n",
       "      <td>NaN</td>\n",
       "      <td>NaN</td>\n",
       "      <td>0</td>\n",
       "      <td>1.0</td>\n",
       "      <td>NaN</td>\n",
       "      <td>Missä se vaeltaa siellä ? Onks se, ei. Ei, se ...</td>\n",
       "    </tr>\n",
       "    <tr>\n",
       "      <th>4</th>\n",
       "      <td>O2</td>\n",
       "      <td>NaN</td>\n",
       "      <td>NaN</td>\n",
       "      <td>NaN</td>\n",
       "      <td>0</td>\n",
       "      <td>NaN</td>\n",
       "      <td>NaN</td>\n",
       "      <td>[epäselvä]</td>\n",
       "    </tr>\n",
       "  </tbody>\n",
       "</table>\n",
       "</div>"
      ],
      "text/plain": [
       "  StudentID  Student  time_start  time_end  Phase  Phase_start  Phase_end  \\\n",
       "0        O2      NaN         NaN       NaN      0          1.0        NaN   \n",
       "1        O1      NaN         NaN       NaN      0          NaN        NaN   \n",
       "2        O1      NaN         NaN       NaN      0          NaN        1.0   \n",
       "3        O1      NaN         NaN       NaN      0          1.0        NaN   \n",
       "4        O2      NaN         NaN       NaN      0          NaN        NaN   \n",
       "\n",
       "                                           Utterance  \n",
       "0                                   Satunnaiskävely.  \n",
       "1                              [lukee tehtävänantoa]  \n",
       "2                       Voi voi. [käynnistää videon]  \n",
       "3  Missä se vaeltaa siellä ? Onks se, ei. Ei, se ...  \n",
       "4                                         [epäselvä]  "
      ]
     },
     "execution_count": 15,
     "metadata": {},
     "output_type": "execute_result"
    }
   ],
   "source": [
    "dfs = []\n",
    "for path in files_path:\n",
    "    df = pd.read_excel(path)\n",
    "    df = df[np.isfinite(df['Phase'])]\n",
    "    df['Phase'] = df['Phase'].astype(int)-1\n",
    "    df['Utterance'] = df['Utterance'].apply(lambda row: re.sub(r\"(\\d+)\", lambda x: num2words.num2words(int(x.group(0))), row))\n",
    "    df['Utterance'] = df['Utterance'].apply(lambda row: row.replace('?',' ?'))\n",
    "    dfs.append(df)\n",
    "docs_size = pd.Series([df.shape[0] for df in dfs])\n",
    "dfs[0].head()"
   ]
  },
  {
   "cell_type": "code",
   "execution_count": 16,
   "metadata": {},
   "outputs": [],
   "source": [
    "#Fitting the Tokenizer on the docs:\n",
    "docs = [' '.join(list(df['Utterance'].astype(str))) for df in dfs]\n",
    "t = Tokenizer(filters='¡!\"\\'#$%&()*+,./:;<=>@[\\\\]^_-`{|}~\\t\\n',num_words=2000)\n",
    "t.fit_on_texts(docs)"
   ]
  },
  {
   "cell_type": "code",
   "execution_count": 17,
   "metadata": {},
   "outputs": [
    {
     "name": "stdout",
     "output_type": "stream",
     "text": [
      "Processing Document 1\n",
      "Processing Document 2\n",
      "Processing Document 3\n",
      "Processing Document 4\n",
      "Processing Document 5\n",
      "Processing Document 6\n",
      "Processing Document 7\n",
      "Processing Document 8\n",
      "Processing Document 9\n",
      "Processing Document 10\n",
      "Processing Document 11\n",
      "Done!\n"
     ]
    }
   ],
   "source": [
    "#Add Previous and Next Utterance, Number of Words and Relative Position:\n",
    "i = 1\n",
    "max_length = 20\n",
    "for df in dfs:\n",
    "    print('Processing Document '+str(i))\n",
    "    i+=1\n",
    "    df['Relative Position'] = df.index/len(df)\n",
    "    df['Number of Words'] = df.apply(lambda row: len(row['Utterance'].split()), axis = 1)\n",
    "    df['Number of Words'] = df['Number of Words']/df['Number of Words'].max()\n",
    "    df['Tokenized Utterance'] = df.apply(lambda row: t.texts_to_sequences([str(row['Utterance'])])[0], axis = 1)\n",
    "    df['Previous Tokenized Utterance'] = df['Tokenized Utterance'].shift(1)\n",
    "    df['Next Tokenized Utterance'] = df['Tokenized Utterance'].shift(-1)\n",
    "    df = df.dropna()\n",
    "print('Done!')"
   ]
  },
  {
   "cell_type": "code",
   "execution_count": 22,
   "metadata": {},
   "outputs": [
    {
     "name": "stderr",
     "output_type": "stream",
     "text": [
      "/Users/pablouribepizarro/anaconda3/lib/python3.7/site-packages/ipykernel_launcher.py:7: FutureWarning: Sorting because non-concatenation axis is not aligned. A future version\n",
      "of pandas will change to not sort by default.\n",
      "\n",
      "To accept the future behavior, pass 'sort=False'.\n",
      "\n",
      "To retain the current behavior and silence the warning, pass 'sort=True'.\n",
      "\n",
      "  import sys\n"
     ]
    }
   ],
   "source": [
    "#Split Training and Test Set\n",
    "documents_numbers = range(11)\n",
    "couple = {1,8}\n",
    "\n",
    "#Split Training and Test Set\n",
    "training_dfs = [dfs[i] for i in (set(documents_numbers)-couple)]\n",
    "all_data_train = pd.concat(training_dfs).reset_index()[['Tokenized Utterance','Previous Tokenized Utterance',\n",
    "                                                            'Next Tokenized Utterance' ,'Relative Position',\n",
    "                                                            'Number of Words','Phase']].dropna()\n",
    "\n",
    "X_u_train = pad_sequences(all_data_train['Tokenized Utterance'],maxlen=max_length ,padding='post')\n",
    "X_pu_train = pad_sequences(all_data_train['Previous Tokenized Utterance'],maxlen=max_length ,padding='post')\n",
    "X_nu_train = pad_sequences(all_data_train['Next Tokenized Utterance'],maxlen=max_length ,padding='post')\n",
    "\n",
    "X_r_train = all_data_train['Relative Position']\n",
    "X_n_train = all_data_train['Number of Words']\n",
    "\n",
    "y_train = keras.utils.to_categorical(all_data_train['Phase'], num_classes=5, dtype='float32')\n",
    "    \n",
    "\n",
    "all_data_test = pd.concat(dfs_test).reset_index()[['Tokenized Utterance','Previous Tokenized Utterance',\n",
    "                                                            'Next Tokenized Utterance' ,'Relative Position',\n",
    "                                                            'Number of Words','Coder 1','Coder 2 / Final']].dropna()\n",
    "\n",
    "all_data_test = all_data_test.loc[all_data_test['Coder 1'] == all_data_test['Coder 2 / Final']]\n",
    "\n",
    "X_u_test = pad_sequences(all_data_test['Tokenized Utterance'],maxlen=max_length ,padding='post')\n",
    "X_pu_test = pad_sequences(all_data_test['Previous Tokenized Utterance'],maxlen=max_length ,padding='post')\n",
    "X_nu_test = pad_sequences(all_data_test['Next Tokenized Utterance'],maxlen=max_length ,padding='post')\n",
    "\n",
    "X_r_test = all_data_test['Relative Position']\n",
    "X_n_test = all_data_test['Number of Words']\n",
    "\n",
    "y_test = keras.utils.to_categorical(all_data_test['Coder 1'], num_classes=5, dtype='float32')"
   ]
  },
  {
   "cell_type": "code",
   "execution_count": 26,
   "metadata": {
    "scrolled": true
   },
   "outputs": [
    {
     "name": "stdout",
     "output_type": "stream",
     "text": [
      "WARNING:tensorflow:From /Users/pablouribepizarro/anaconda3/lib/python3.7/site-packages/tensorflow/python/ops/math_grad.py:1250: add_dispatch_support.<locals>.wrapper (from tensorflow.python.ops.array_ops) is deprecated and will be removed in a future version.\n",
      "Instructions for updating:\n",
      "Use tf.where in 2.0, which has the same broadcast rule as np.where\n",
      "Train on 1507 samples, validate on 305 samples\n",
      "Epoch 1/40\n",
      "1507/1507 [==============================] - 5s 3ms/step - loss: 1.4827 - acc: 0.3344 - val_loss: 1.3498 - val_acc: 0.3934\n",
      "\n",
      "Epoch 00001: val_acc improved from -inf to 0.39344, saving model to /Users/pablouribepizarro/Desktop/CIAE/CIBL/model_weights/pte_simple_at_testing.h5\n",
      "Epoch 2/40\n",
      "1507/1507 [==============================] - 3s 2ms/step - loss: 1.2859 - acc: 0.4519 - val_loss: 1.1401 - val_acc: 0.5279\n",
      "\n",
      "Epoch 00002: val_acc improved from 0.39344 to 0.52787, saving model to /Users/pablouribepizarro/Desktop/CIAE/CIBL/model_weights/pte_simple_at_testing.h5\n",
      "Epoch 3/40\n",
      "1507/1507 [==============================] - 3s 2ms/step - loss: 1.1825 - acc: 0.5727 - val_loss: 1.1075 - val_acc: 0.5836\n",
      "\n",
      "Epoch 00003: val_acc improved from 0.52787 to 0.58361, saving model to /Users/pablouribepizarro/Desktop/CIAE/CIBL/model_weights/pte_simple_at_testing.h5\n",
      "Epoch 4/40\n",
      "1507/1507 [==============================] - 3s 2ms/step - loss: 1.0509 - acc: 0.6443 - val_loss: 1.0180 - val_acc: 0.6361\n",
      "\n",
      "Epoch 00004: val_acc improved from 0.58361 to 0.63607, saving model to /Users/pablouribepizarro/Desktop/CIAE/CIBL/model_weights/pte_simple_at_testing.h5\n",
      "Epoch 5/40\n",
      "1507/1507 [==============================] - 4s 2ms/step - loss: 0.8731 - acc: 0.6961 - val_loss: 0.9379 - val_acc: 0.6426\n",
      "\n",
      "Epoch 00005: val_acc improved from 0.63607 to 0.64262, saving model to /Users/pablouribepizarro/Desktop/CIAE/CIBL/model_weights/pte_simple_at_testing.h5\n",
      "Epoch 6/40\n",
      "1507/1507 [==============================] - 3s 2ms/step - loss: 0.6843 - acc: 0.7731 - val_loss: 0.9012 - val_acc: 0.6721\n",
      "\n",
      "Epoch 00006: val_acc improved from 0.64262 to 0.67213, saving model to /Users/pablouribepizarro/Desktop/CIAE/CIBL/model_weights/pte_simple_at_testing.h5\n",
      "Epoch 7/40\n",
      "1507/1507 [==============================] - 3s 2ms/step - loss: 0.5220 - acc: 0.8242 - val_loss: 0.9171 - val_acc: 0.6656\n",
      "\n",
      "Epoch 00007: val_acc did not improve from 0.67213\n",
      "Epoch 8/40\n",
      "1507/1507 [==============================] - 3s 2ms/step - loss: 0.4015 - acc: 0.8613 - val_loss: 0.9598 - val_acc: 0.6525\n",
      "\n",
      "Epoch 00008: val_acc did not improve from 0.67213\n",
      "Epoch 9/40\n",
      "1507/1507 [==============================] - 3s 2ms/step - loss: 0.3085 - acc: 0.8991 - val_loss: 1.0255 - val_acc: 0.6393\n",
      "\n",
      "Epoch 00009: val_acc did not improve from 0.67213\n",
      "Epoch 10/40\n",
      "1507/1507 [==============================] - 3s 2ms/step - loss: 0.2419 - acc: 0.9250 - val_loss: 1.1755 - val_acc: 0.6230\n",
      "\n",
      "Epoch 00010: val_acc did not improve from 0.67213\n",
      "Epoch 11/40\n",
      "1507/1507 [==============================] - 3s 2ms/step - loss: 0.1936 - acc: 0.9336 - val_loss: 1.2728 - val_acc: 0.6066\n",
      "\n",
      "Epoch 00011: val_acc did not improve from 0.67213\n",
      "Epoch 12/40\n",
      "1507/1507 [==============================] - 3s 2ms/step - loss: 0.1581 - acc: 0.9536 - val_loss: 1.3372 - val_acc: 0.6098\n",
      "\n",
      "Epoch 00012: val_acc did not improve from 0.67213\n",
      "Epoch 13/40\n",
      "1507/1507 [==============================] - 4s 2ms/step - loss: 0.1323 - acc: 0.9628 - val_loss: 1.4517 - val_acc: 0.5967\n",
      "\n",
      "Epoch 00013: val_acc did not improve from 0.67213\n"
     ]
    }
   ],
   "source": [
    "#Load Initial Random Weights:\n",
    "model_7_full.load_weights(r'/Users/pablouribepizarro/Desktop/CIAE/CIBL/model_weights/'+str(model_7_full.name)+'.h5')\n",
    "\n",
    "#Checkpoint\n",
    "checkpoint_7_full = ModelCheckpoint('/Users/pablouribepizarro/Desktop/CIAE/CIBL/model_weights/'+str(model_7_full.name)+'_testing.h5', \n",
    "                             verbose=1, monitor='val_acc',save_best_only=True, mode='auto')\n",
    "\n",
    "EA = EarlyStopping(monitor='val_loss', patience=7)\n",
    "\n",
    "#Fit Model:\n",
    "history = model_7_full.fit({'p_utterance_input': X_pu_train,\n",
    "                            'utterance_input': X_u_train,\n",
    "                            'n_utterance_input': X_nu_train,\n",
    "                            'rel_position_input': X_r_train,\n",
    "                            'n_words_input': X_n_train},\n",
    "                            {'main_output': y_train}, validation_data= \n",
    "                           ({'p_utterance_input': X_pu_test,\n",
    "                            'utterance_input': X_u_test,\n",
    "                            'n_utterance_input': X_nu_test,\n",
    "                            'rel_position_input': X_r_test,\n",
    "                            'n_words_input': X_n_test},\n",
    "                            {'main_output': y_test}),\n",
    "                           epochs=40, batch_size=64,\n",
    "                            shuffle=True, callbacks = [checkpoint_7_full,EA])"
   ]
  },
  {
   "cell_type": "code",
   "execution_count": 27,
   "metadata": {},
   "outputs": [
    {
     "name": "stdout",
     "output_type": "stream",
     "text": [
      "              precision    recall  f1-score   support\n",
      "\n",
      "           0       0.71      0.67      0.69        81\n",
      "           1       0.60      0.41      0.49        22\n",
      "           2       0.83      0.70      0.76       104\n",
      "           3       0.00      0.00      0.00         9\n",
      "           4       0.55      0.78      0.64        89\n",
      "\n",
      "    accuracy                           0.67       305\n",
      "   macro avg       0.54      0.51      0.52       305\n",
      "weighted avg       0.68      0.67      0.67       305\n",
      "\n"
     ]
    },
    {
     "data": {
      "text/plain": [
       "<matplotlib.axes._subplots.AxesSubplot at 0x1a657fa0b8>"
      ]
     },
     "execution_count": 27,
     "metadata": {},
     "output_type": "execute_result"
    },
    {
     "data": {
      "image/png": "[encoded data removed]",
      "text/plain": [
       "<Figure size 720x504 with 2 Axes>"
      ]
     },
     "metadata": {
      "needs_background": "light"
     },
     "output_type": "display_data"
    }
   ],
   "source": [
    "model_7_full.load_weights(r'/Users/pablouribepizarro/Desktop/CIAE/CIBL/model_weights/'+str(model_7_full.name)+'_testing.h5')\n",
    "y_real = y_test.argmax(axis=-1)\n",
    "y_pred = model_7_full.predict({'p_utterance_input': X_pu_test,\n",
    "                            'utterance_input': X_u_test,\n",
    "                            'n_utterance_input': X_nu_test,\n",
    "                            'rel_position_input': X_r_test,\n",
    "                            'n_words_input': X_n_test}).argmax(axis=-1)\n",
    "results = confusion_matrix(y_real, y_pred)\n",
    "df_cm = pd.DataFrame(results, index = range(5),\n",
    "                  columns = range(5))\n",
    "plt.figure(figsize = (10,7))\n",
    "sns.set(font_scale=1.4)\n",
    "print(classification_report(y_real, y_pred))\n",
    "sns.heatmap(df_cm, annot=True, cmap=\"YlGnBu\")"
   ]
  }
 ],
 "metadata": {
  "kernelspec": {
   "display_name": "Python 3",
   "language": "python",
   "name": "python3"
  },
  "language_info": {
   "codemirror_mode": {
    "name": "ipython",
    "version": 3
   },
   "file_extension": ".py",
   "mimetype": "text/x-python",
   "name": "python",
   "nbconvert_exporter": "python",
   "pygments_lexer": "ipython3",
   "version": "3.7.3"
  }
 },
 "nbformat": 4,
 "nbformat_minor": 2
}
