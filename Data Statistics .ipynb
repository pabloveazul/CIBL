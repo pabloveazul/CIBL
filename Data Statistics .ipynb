{
 "cells": [
  {
   "cell_type": "markdown",
   "metadata": {},
   "source": [
    "### Data Statistics:\n",
    "\n",
    "In this script we obtain some basics statistics concerning our data-base made up of 11 group transcriptions. This analysis contains:\n",
    "\n",
    "1. The distribution of utterances\n",
    "2. The distribution of words \n",
    "3. Word frequency and word counting\n",
    "4. Physics words frequency\n",
    "\n"
   ]
  },
  {
   "cell_type": "code",
   "execution_count": 21,
   "metadata": {},
   "outputs": [],
   "source": [
    "import numpy as np\n",
    "import os\n",
    "import pandas as pd\n",
    "import seaborn as sns\n",
    "from numpy import array\n",
    "from sklearn.manifold import TSNE\n",
    "from sklearn.decomposition import PCA\n",
    "import keras\n",
    "import seaborn as sns\n",
    "import matplotlib.pyplot as plt\n",
    "import re\n",
    "import num2words\n",
    "from keras.preprocessing.text import Tokenizer\n",
    "%matplotlib inline"
   ]
  },
  {
   "cell_type": "code",
   "execution_count": 14,
   "metadata": {},
   "outputs": [
    {
     "name": "stdout",
     "output_type": "stream",
     "text": [
      "Total Files: 11\n"
     ]
    }
   ],
   "source": [
    "#Set local path of your computer where data files are saved\n",
    "local_path = r'/Users/pablouribepizarro/Desktop/CIAE/CIBL'\n",
    "\n",
    "files_path = []\n",
    "# r=root, d=directories, f = files\n",
    "for r, d, f in os.walk(local_path+'/Raw/inquiry_lessons'):\n",
    "    for file in f:\n",
    "        if '.xlsx' in file:\n",
    "            files_path.append(os.path.join(r, file))\n",
    "            \n",
    "n_files = len(files_path)\n",
    "print('Total Files: {}'.format(n_files))"
   ]
  },
  {
   "cell_type": "code",
   "execution_count": 15,
   "metadata": {},
   "outputs": [
    {
     "data": {
      "text/html": [
       "<div>\n",
       "<style scoped>\n",
       "    .dataframe tbody tr th:only-of-type {\n",
       "        vertical-align: middle;\n",
       "    }\n",
       "\n",
       "    .dataframe tbody tr th {\n",
       "        vertical-align: top;\n",
       "    }\n",
       "\n",
       "    .dataframe thead th {\n",
       "        text-align: right;\n",
       "    }\n",
       "</style>\n",
       "<table border=\"1\" class=\"dataframe\">\n",
       "  <thead>\n",
       "    <tr style=\"text-align: right;\">\n",
       "      <th></th>\n",
       "      <th>StudentID</th>\n",
       "      <th>Student</th>\n",
       "      <th>time_start</th>\n",
       "      <th>time_end</th>\n",
       "      <th>Phase</th>\n",
       "      <th>Phase_start</th>\n",
       "      <th>Phase_end</th>\n",
       "      <th>Utterance</th>\n",
       "      <th>Number of Words</th>\n",
       "    </tr>\n",
       "  </thead>\n",
       "  <tbody>\n",
       "    <tr>\n",
       "      <th>0</th>\n",
       "      <td>O2</td>\n",
       "      <td>NaN</td>\n",
       "      <td>NaN</td>\n",
       "      <td>NaN</td>\n",
       "      <td>0</td>\n",
       "      <td>1.0</td>\n",
       "      <td>NaN</td>\n",
       "      <td>Satunnaiskävely.</td>\n",
       "      <td>1</td>\n",
       "    </tr>\n",
       "    <tr>\n",
       "      <th>1</th>\n",
       "      <td>O1</td>\n",
       "      <td>NaN</td>\n",
       "      <td>NaN</td>\n",
       "      <td>NaN</td>\n",
       "      <td>0</td>\n",
       "      <td>NaN</td>\n",
       "      <td>NaN</td>\n",
       "      <td>[lukee tehtävänantoa]</td>\n",
       "      <td>2</td>\n",
       "    </tr>\n",
       "    <tr>\n",
       "      <th>2</th>\n",
       "      <td>O1</td>\n",
       "      <td>NaN</td>\n",
       "      <td>NaN</td>\n",
       "      <td>NaN</td>\n",
       "      <td>0</td>\n",
       "      <td>NaN</td>\n",
       "      <td>1.0</td>\n",
       "      <td>Voi voi. [käynnistää videon]</td>\n",
       "      <td>4</td>\n",
       "    </tr>\n",
       "    <tr>\n",
       "      <th>3</th>\n",
       "      <td>O1</td>\n",
       "      <td>NaN</td>\n",
       "      <td>NaN</td>\n",
       "      <td>NaN</td>\n",
       "      <td>0</td>\n",
       "      <td>1.0</td>\n",
       "      <td>NaN</td>\n",
       "      <td>Missä se vaeltaa siellä ? Onks se, ei. Ei, se ...</td>\n",
       "      <td>17</td>\n",
       "    </tr>\n",
       "    <tr>\n",
       "      <th>4</th>\n",
       "      <td>O2</td>\n",
       "      <td>NaN</td>\n",
       "      <td>NaN</td>\n",
       "      <td>NaN</td>\n",
       "      <td>0</td>\n",
       "      <td>NaN</td>\n",
       "      <td>NaN</td>\n",
       "      <td>[epäselvä]</td>\n",
       "      <td>1</td>\n",
       "    </tr>\n",
       "  </tbody>\n",
       "</table>\n",
       "</div>"
      ],
      "text/plain": [
       "  StudentID  Student  time_start  time_end  Phase  Phase_start  Phase_end  \\\n",
       "0        O2      NaN         NaN       NaN      0          1.0        NaN   \n",
       "1        O1      NaN         NaN       NaN      0          NaN        NaN   \n",
       "2        O1      NaN         NaN       NaN      0          NaN        1.0   \n",
       "3        O1      NaN         NaN       NaN      0          1.0        NaN   \n",
       "4        O2      NaN         NaN       NaN      0          NaN        NaN   \n",
       "\n",
       "                                           Utterance  Number of Words  \n",
       "0                                   Satunnaiskävely.                1  \n",
       "1                              [lukee tehtävänantoa]                2  \n",
       "2                       Voi voi. [käynnistää videon]                4  \n",
       "3  Missä se vaeltaa siellä ? Onks se, ei. Ei, se ...               17  \n",
       "4                                         [epäselvä]                1  "
      ]
     },
     "execution_count": 15,
     "metadata": {},
     "output_type": "execute_result"
    }
   ],
   "source": [
    "#Build a list of data frames containing each group's transcription:\n",
    "dfs = []\n",
    "for path in files_path:\n",
    "    df = pd.read_excel(path)\n",
    "    df = df[np.isfinite(df['Phase'])]\n",
    "    df['Phase'] = df['Phase'].astype(int)-1\n",
    "    #Transform raw numbers into digits:\n",
    "    df['Utterance'] = df['Utterance'].apply(lambda row: re.sub(r\"(\\d+)\", lambda x: num2words.num2words(int(x.group(0))), row))\n",
    "    #Consider '?' as a new word:\n",
    "    df['Utterance'] = df['Utterance'].apply(lambda row: row.replace('?',' ?'))\n",
    "    #Add the number of words:\n",
    "    df['Number of Words'] = df.apply(lambda row: len(row['Utterance'].split()), axis = 1)\n",
    "    dfs.append(df)\n",
    "docs_size = pd.Series([df.shape[0] for df in dfs])\n",
    "dfs[0].head()"
   ]
  },
  {
   "cell_type": "code",
   "execution_count": 16,
   "metadata": {},
   "outputs": [
    {
     "name": "stdout",
     "output_type": "stream",
     "text": [
      "Mean #utterances per group: 180.0\n",
      "Total #utterances: 1980\n"
     ]
    },
    {
     "data": {
      "image/png": "[encoded data removed]",
      "text/plain": [
       "<Figure size 432x288 with 1 Axes>"
      ]
     },
     "metadata": {},
     "output_type": "display_data"
    }
   ],
   "source": [
    "#Obtain the distribution of utterances in the data set:\n",
    "sns.set(); \n",
    "ax = sns.distplot(docs_size,kde=False,bins=10)\n",
    "print('Mean #utterances per group: '+str(docs_size.mean()))\n",
    "print('Total #utterances: '+str(docs_size.sum()))"
   ]
  },
  {
   "cell_type": "code",
   "execution_count": 17,
   "metadata": {},
   "outputs": [
    {
     "name": "stderr",
     "output_type": "stream",
     "text": [
      "/Users/pablouribepizarro/anaconda3/lib/python3.7/site-packages/ipykernel_launcher.py:4: FutureWarning: Sorting because non-concatenation axis is not aligned. A future version\n",
      "of pandas will change to not sort by default.\n",
      "\n",
      "To accept the future behavior, pass 'sort=False'.\n",
      "\n",
      "To retain the current behavior and silence the warning, pass 'sort=True'.\n",
      "\n",
      "  after removing the cwd from sys.path.\n"
     ]
    },
    {
     "name": "stdout",
     "output_type": "stream",
     "text": [
      "Mean number of words per utterance: 11.086363636363636\n",
      "#Utterances with > 20 words: 254\n",
      "#Utterances with < 20 words: 1700\n"
     ]
    },
    {
     "data": {
      "image/png": "[encoded data removed]",
      "text/plain": [
       "<Figure size 432x288 with 1 Axes>"
      ]
     },
     "metadata": {},
     "output_type": "display_data"
    }
   ],
   "source": [
    "#Obtain the distribution of the number of words in each utterance:\n",
    "\n",
    "#Concatenate all dataframes:\n",
    "all_data = pd.concat(dfs)\n",
    "all_data['Number of Words'].hist()\n",
    "\n",
    "#Mean number:\n",
    "print('Mean number of words per utterance: '+str(all_data['Number of Words'].mean()))\n",
    "\n",
    "#A padding process will be done afterwards, fixing the utterance length will be set to 20:\n",
    "print('#Utterances with > 20 words: '+str(len(all_data.loc[all_data['Number of Words']>20])))\n",
    "print('#Utterances with < 20 words: '+str(len(all_data.loc[all_data['Number of Words']<20])))"
   ]
  },
  {
   "cell_type": "markdown",
   "metadata": {},
   "source": [
    "This indicates that fixing the utterance length to 20 words will truncate 254 utterances and add zero-tokens to 1700 utterances, while the mean number of words per utterances is about 11 words."
   ]
  },
  {
   "cell_type": "code",
   "execution_count": 18,
   "metadata": {},
   "outputs": [],
   "source": [
    "#Join all documents:\n",
    "docs = [' '.join(list(df['Utterance'].astype(str))) for df in dfs]\n",
    "#Set a tokenizer (the character ? is considered as a new words, thus it is not filtered):\n",
    "t = Tokenizer(filters='¡!\"\\'#$%&()*+,./:;<=>?@[\\\\]^_`{|}~\\t\\n')\n",
    "#Fit the tokenizer:\n",
    "t.fit_on_texts(docs)"
   ]
  },
  {
   "cell_type": "code",
   "execution_count": 19,
   "metadata": {},
   "outputs": [
    {
     "data": {
      "text/plain": [
       "3500"
      ]
     },
     "execution_count": 19,
     "metadata": {},
     "output_type": "execute_result"
    }
   ],
   "source": [
    "#Get the last token number:\n",
    "t.word_index.get(list(t.word_index)[-1])"
   ]
  },
  {
   "cell_type": "markdown",
   "metadata": {},
   "source": [
    "This means that our vocabulary has 3500 different words. "
   ]
  },
  {
   "cell_type": "code",
   "execution_count": 20,
   "metadata": {},
   "outputs": [],
   "source": [
    "#Top 30 most frequent words:\n",
    "common_words = [key for key in list(t.word_index)[0:30]]\n",
    "common_words_count = [t.word_counts.get(word) for word in common_words]\n",
    "common_words_df = pd.DataFrame()\n",
    "common_words_df['Words'] = common_words\n",
    "common_words_df['Count'] = common_words_count\n",
    "common_words_df = common_words_df.sort_values('Count',ascending=False)"
   ]
  },
  {
   "cell_type": "code",
   "execution_count": 22,
   "metadata": {},
   "outputs": [
    {
     "data": {
      "image/png": "[encoded data removed]",
      "text/plain": [
       "<Figure size 720x504 with 1 Axes>"
      ]
     },
     "metadata": {
      "needs_background": "light"
     },
     "output_type": "display_data"
    }
   ],
   "source": [
    "#Word frequency:\n",
    "fig, ax = plt.subplots(figsize=(10,7))\n",
    "ax = sns.barplot(y=\"Words\", x=\"Count\", data=common_words_df)"
   ]
  },
  {
   "cell_type": "code",
   "execution_count": 23,
   "metadata": {},
   "outputs": [],
   "source": [
    "#List of Finnish physics concepts:\n",
    "finnish_list = ['liike','nopeus','kiihtyvyys','voima','lämpö', 'lämpötila', 'entropia', 'entalpia',\n",
    "                'teho', 'energia', 'sähkö', 'paine',\n",
    "                'colyymi', 'kemialliset', 'mahdollinen',\n",
    "                'carnot', 'maxwell', 'boltzmann', 'gibbs',\n",
    "                'tyttö', 'mies', 'nainen', 'poika', 'aurinko',\n",
    "                'kuu', 'työ','moottori','auto','ajoneuvo',\n",
    "               'vesi','kaasu','valo','kone','sykli','termodynamiikka',\n",
    "               'määrä','laskeminen','reaktio','höyry','ongelma','tilastollinen',\n",
    "                'ilma','pumppu','laki','järjestelmä']"
   ]
  },
  {
   "cell_type": "code",
   "execution_count": 24,
   "metadata": {},
   "outputs": [],
   "source": [
    "physics_words_count = [t.word_counts.get(word) for word in finnish_list]\n",
    "physics_words_df = pd.DataFrame()\n",
    "physics_words_df['Words'] = finnish_list\n",
    "physics_words_df['Count'] = physics_words_count\n",
    "physics_words_df = physics_words_df.sort_values('Count',ascending=False)"
   ]
  },
  {
   "cell_type": "code",
   "execution_count": 26,
   "metadata": {},
   "outputs": [
    {
     "data": {
      "image/png": "[encoded data removed]",
      "text/plain": [
       "<Figure size 720x504 with 1 Axes>"
      ]
     },
     "metadata": {
      "needs_background": "light"
     },
     "output_type": "display_data"
    }
   ],
   "source": [
    "#Physics Word frequency:\n",
    "fig, ax = plt.subplots(figsize=(10,7))\n",
    "ax = sns.barplot(y=\"Words\", x=\"Count\", data=physics_words_df,)"
   ]
  }
 ],
 "metadata": {
  "kernelspec": {
   "display_name": "Python 3",
   "language": "python",
   "name": "python3"
  },
  "language_info": {
   "codemirror_mode": {
    "name": "ipython",
    "version": 3
   },
   "file_extension": ".py",
   "mimetype": "text/x-python",
   "name": "python",
   "nbconvert_exporter": "python",
   "pygments_lexer": "ipython3",
   "version": "3.7.3"
  }
 },
 "nbformat": 4,
 "nbformat_minor": 2
}
