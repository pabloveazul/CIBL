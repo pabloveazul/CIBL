{
 "cells": [
  {
   "cell_type": "markdown",
   "metadata": {},
   "source": [
    "### Model Evaluation\n",
    "\n",
    "In this script we add the code to evaluate the models of the different proposed models. You will find here:\n",
    "\n",
    "1. The preprocessing process of the data\n",
    "2. The evaluation method: cross-validation with 2 groups for testing, 9 for training\n",
    "3. The Mean Confusion Matrix\n",
    "4. Precission and Recall\n",
    "\n",
    "In order to evaluate a model, copy and paste the .h5 file of the model into the 'Evaluation' folder inside the 'models' folder. An example of the mean confusion matrix of the 'pe_dif_at' model is shown below."
   ]
  },
  {
   "cell_type": "code",
   "execution_count": 15,
   "metadata": {},
   "outputs": [],
   "source": [
    "#Importing Libraries\n",
    "import numpy as np\n",
    "import os\n",
    "import pandas as pd\n",
    "from numpy import array\n",
    "import keras_self_attention\n",
    "import seaborn as sns\n",
    "import matplotlib.pyplot as plt\n",
    "import re\n",
    "import num2words\n",
    "from tensorflow.keras import backend\n",
    "from keras.preprocessing.text import one_hot\n",
    "from keras.preprocessing.text import Tokenizer\n",
    "from keras.preprocessing.sequence import pad_sequences\n",
    "from keras.models import Sequential\n",
    "from keras.layers import Dense, Flatten, Dropout, Lambda, Input, concatenate,BatchNormalization, Activation, Multiply\n",
    "from keras.layers.embeddings import Embedding\n",
    "from keras.layers import LSTM,Conv1D,MaxPooling1D, Bidirectional, GRU, RepeatVector, TimeDistributed\n",
    "from keras.models import Model\n",
    "from keras.activations import softmax\n",
    "from keras import backend as K\n",
    "from keras.callbacks import ModelCheckpoint, EarlyStopping\n",
    "from sklearn.manifold import TSNE\n",
    "from sklearn.decomposition import PCA\n",
    "from sklearn.model_selection import train_test_split\n",
    "from sklearn.metrics import confusion_matrix, accuracy_score, classification_report\n",
    "from itertools import combinations\n",
    "from keras_self_attention import SeqSelfAttention\n",
    "from scipy.stats import entropy\n",
    "import keras\n",
    "\n",
    "%matplotlib inline"
   ]
  },
  {
   "cell_type": "code",
   "execution_count": 16,
   "metadata": {},
   "outputs": [
    {
     "name": "stdout",
     "output_type": "stream",
     "text": [
      "Total Files: 11\n"
     ]
    }
   ],
   "source": [
    "#Set local path of your computer where data files are saved\n",
    "local_path = r'/Users/pablouribepizarro/Desktop/CIAE/CIBL'\n",
    "\n",
    "files_path = []\n",
    "# r=root, d=directories, f = files\n",
    "for r, d, f in os.walk(local_path+'/Raw/inquiry_lessons'):\n",
    "    for file in f:\n",
    "        if '.xlsx' in file:\n",
    "            files_path.append(os.path.join(r, file))\n",
    "            \n",
    "n_files = len(files_path)\n",
    "print('Total Files: {}'.format(n_files))"
   ]
  },
  {
   "cell_type": "markdown",
   "metadata": {},
   "source": [
    "#### Data Preprocessing:"
   ]
  },
  {
   "cell_type": "code",
   "execution_count": 17,
   "metadata": {},
   "outputs": [
    {
     "data": {
      "text/html": [
       "<div>\n",
       "<style scoped>\n",
       "    .dataframe tbody tr th:only-of-type {\n",
       "        vertical-align: middle;\n",
       "    }\n",
       "\n",
       "    .dataframe tbody tr th {\n",
       "        vertical-align: top;\n",
       "    }\n",
       "\n",
       "    .dataframe thead th {\n",
       "        text-align: right;\n",
       "    }\n",
       "</style>\n",
       "<table border=\"1\" class=\"dataframe\">\n",
       "  <thead>\n",
       "    <tr style=\"text-align: right;\">\n",
       "      <th></th>\n",
       "      <th>StudentID</th>\n",
       "      <th>Student</th>\n",
       "      <th>time_start</th>\n",
       "      <th>time_end</th>\n",
       "      <th>Phase</th>\n",
       "      <th>Phase_start</th>\n",
       "      <th>Phase_end</th>\n",
       "      <th>Utterance</th>\n",
       "      <th>Number of Words</th>\n",
       "    </tr>\n",
       "  </thead>\n",
       "  <tbody>\n",
       "    <tr>\n",
       "      <th>0</th>\n",
       "      <td>O2</td>\n",
       "      <td>NaN</td>\n",
       "      <td>NaN</td>\n",
       "      <td>NaN</td>\n",
       "      <td>0</td>\n",
       "      <td>1.0</td>\n",
       "      <td>NaN</td>\n",
       "      <td>Satunnaiskävely.</td>\n",
       "      <td>1</td>\n",
       "    </tr>\n",
       "    <tr>\n",
       "      <th>1</th>\n",
       "      <td>O1</td>\n",
       "      <td>NaN</td>\n",
       "      <td>NaN</td>\n",
       "      <td>NaN</td>\n",
       "      <td>0</td>\n",
       "      <td>NaN</td>\n",
       "      <td>NaN</td>\n",
       "      <td>[lukee tehtävänantoa]</td>\n",
       "      <td>2</td>\n",
       "    </tr>\n",
       "    <tr>\n",
       "      <th>2</th>\n",
       "      <td>O1</td>\n",
       "      <td>NaN</td>\n",
       "      <td>NaN</td>\n",
       "      <td>NaN</td>\n",
       "      <td>0</td>\n",
       "      <td>NaN</td>\n",
       "      <td>1.0</td>\n",
       "      <td>Voi voi. [käynnistää videon]</td>\n",
       "      <td>4</td>\n",
       "    </tr>\n",
       "    <tr>\n",
       "      <th>3</th>\n",
       "      <td>O1</td>\n",
       "      <td>NaN</td>\n",
       "      <td>NaN</td>\n",
       "      <td>NaN</td>\n",
       "      <td>0</td>\n",
       "      <td>1.0</td>\n",
       "      <td>NaN</td>\n",
       "      <td>Missä se vaeltaa siellä ? Onks se, ei. Ei, se ...</td>\n",
       "      <td>17</td>\n",
       "    </tr>\n",
       "    <tr>\n",
       "      <th>4</th>\n",
       "      <td>O2</td>\n",
       "      <td>NaN</td>\n",
       "      <td>NaN</td>\n",
       "      <td>NaN</td>\n",
       "      <td>0</td>\n",
       "      <td>NaN</td>\n",
       "      <td>NaN</td>\n",
       "      <td>[epäselvä]</td>\n",
       "      <td>1</td>\n",
       "    </tr>\n",
       "  </tbody>\n",
       "</table>\n",
       "</div>"
      ],
      "text/plain": [
       "  StudentID  Student  time_start  time_end  Phase  Phase_start  Phase_end  \\\n",
       "0        O2      NaN         NaN       NaN      0          1.0        NaN   \n",
       "1        O1      NaN         NaN       NaN      0          NaN        NaN   \n",
       "2        O1      NaN         NaN       NaN      0          NaN        1.0   \n",
       "3        O1      NaN         NaN       NaN      0          1.0        NaN   \n",
       "4        O2      NaN         NaN       NaN      0          NaN        NaN   \n",
       "\n",
       "                                           Utterance  Number of Words  \n",
       "0                                   Satunnaiskävely.                1  \n",
       "1                              [lukee tehtävänantoa]                2  \n",
       "2                       Voi voi. [käynnistää videon]                4  \n",
       "3  Missä se vaeltaa siellä ? Onks se, ei. Ei, se ...               17  \n",
       "4                                         [epäselvä]                1  "
      ]
     },
     "execution_count": 17,
     "metadata": {},
     "output_type": "execute_result"
    }
   ],
   "source": [
    "#Build a list of data frames containing each group's transcription:\n",
    "dfs = []\n",
    "for path in files_path:\n",
    "    df = pd.read_excel(path)\n",
    "    df = df[np.isfinite(df['Phase'])]\n",
    "    df['Phase'] = df['Phase'].astype(int)-1\n",
    "    #Transform raw numbers into digits:\n",
    "    df['Utterance'] = df['Utterance'].apply(lambda row: re.sub(r\"(\\d+)\", lambda x: num2words.num2words(int(x.group(0))), row))\n",
    "    #Consider '?' as a new word:\n",
    "    df['Utterance'] = df['Utterance'].apply(lambda row: row.replace('?',' ?'))\n",
    "    #Add the number of words:\n",
    "    df['Number of Words'] = df.apply(lambda row: len(row['Utterance'].split()), axis = 1)\n",
    "    dfs.append(df)\n",
    "docs_size = pd.Series([df.shape[0] for df in dfs])\n",
    "dfs[0].head()"
   ]
  },
  {
   "cell_type": "code",
   "execution_count": 18,
   "metadata": {},
   "outputs": [],
   "source": [
    "#Fitting the Tokenizer on the docs:\n",
    "docs = [' '.join(list(df['Utterance'].astype(str))) for df in dfs]\n",
    "t = Tokenizer(filters='¡!\"\\'#$%&()*+,./:;<=>@[\\\\]^_-`{|}~\\t\\n',num_words=2000)\n",
    "t.fit_on_texts(docs)"
   ]
  },
  {
   "cell_type": "code",
   "execution_count": 19,
   "metadata": {},
   "outputs": [
    {
     "name": "stdout",
     "output_type": "stream",
     "text": [
      "Processing Document 1\n",
      "Processing Document 2\n",
      "Processing Document 3\n",
      "Processing Document 4\n",
      "Processing Document 5\n",
      "Processing Document 6\n",
      "Processing Document 7\n",
      "Processing Document 8\n",
      "Processing Document 9\n",
      "Processing Document 10\n",
      "Processing Document 11\n",
      "Done!\n"
     ]
    }
   ],
   "source": [
    "#Add Previous and Next Utterance, Number of Words and Relative Position:\n",
    "i = 1\n",
    "max_length = 20\n",
    "for df in dfs:\n",
    "    print('Processing Document '+str(i))\n",
    "    i+=1\n",
    "    df['Relative Position'] = df.index/len(df)\n",
    "    #Normalize Number of Utterance\n",
    "    df['Number of Words'] = df['Number of Words']/df['Number of Words'].max()\n",
    "    df['Tokenized Utterance'] = df.apply(lambda row: t.texts_to_sequences([str(row['Utterance'])])[0], axis = 1)\n",
    "    df['Previous Tokenized Utterance'] = df['Tokenized Utterance'].shift(1)\n",
    "    df['Next Tokenized Utterance'] = df['Tokenized Utterance'].shift(-1)\n",
    "    df['Previous Utterance'] = df['Utterance'].shift(1)\n",
    "    df['Next Utterance'] = df['Utterance'].shift(-1)\n",
    "    df = df.dropna()\n",
    "print('Done!')"
   ]
  },
  {
   "cell_type": "markdown",
   "metadata": {},
   "source": [
    "#### Model Evaluation:"
   ]
  },
  {
   "cell_type": "code",
   "execution_count": 20,
   "metadata": {},
   "outputs": [],
   "source": [
    "def model_evaluation(models,n_epochs):\n",
    "    documents_numbers = range(11)\n",
    "    couples = list(map(set, combinations(documents_numbers, 2)))\n",
    "    max_length = 20\n",
    "    n_models = len(models)\n",
    "    dics_test = {}\n",
    "    dics_train = {}\n",
    "    for model in models:\n",
    "        dics_test[model.name] = {}\n",
    "        dics_train[model.name] = {}\n",
    "    for couple in couples:\n",
    "        #Split Training and Test Set\n",
    "        training_dfs = [dfs[i] for i in (set(documents_numbers)-couple)]\n",
    "        all_data_train = pd.concat(training_dfs).reset_index()[['Tokenized Utterance','Previous Tokenized Utterance',\n",
    "                                                                    'Next Tokenized Utterance' ,'Relative Position',\n",
    "                                                                    'Number of Words','Phase']].dropna()\n",
    "\n",
    "        X_u_train = pad_sequences(all_data_train['Tokenized Utterance'],maxlen=max_length ,padding='post')\n",
    "        X_pu_train = pad_sequences(all_data_train['Previous Tokenized Utterance'],maxlen=max_length ,padding='post')\n",
    "        X_nu_train = pad_sequences(all_data_train['Next Tokenized Utterance'],maxlen=max_length ,padding='post')\n",
    "\n",
    "        X_r_train = all_data_train['Relative Position']\n",
    "        X_n_train = all_data_train['Number of Words']\n",
    "\n",
    "        y_train = keras.utils.to_categorical(all_data_train['Phase'], num_classes=5, dtype='float32')\n",
    "\n",
    "        test_dfs = [dfs[i] for i in couple]\n",
    "\n",
    "        all_data_test = pd.concat(test_dfs).reset_index()[['Tokenized Utterance','Previous Tokenized Utterance',\n",
    "                                                                    'Next Tokenized Utterance' ,'Relative Position',\n",
    "                                                                    'Number of Words','Phase']].dropna()\n",
    "\n",
    "        X_u_test = pad_sequences(all_data_test['Tokenized Utterance'],maxlen=max_length ,padding='post')\n",
    "        X_pu_test = pad_sequences(all_data_test['Previous Tokenized Utterance'],maxlen=max_length ,padding='post')\n",
    "        X_nu_test = pad_sequences(all_data_test['Next Tokenized Utterance'],maxlen=max_length ,padding='post')\n",
    "\n",
    "        X_r_test = all_data_test['Relative Position']\n",
    "        X_n_test = all_data_test['Number of Words']\n",
    "\n",
    "        y_test = keras.utils.to_categorical(all_data_test['Phase'], num_classes=5, dtype='float32')\n",
    "\n",
    "        for model in models:\n",
    "            print('Evaluating Model '+str(model.name))\n",
    "            \n",
    "            #Load initial random weights\n",
    "            model.load_weights(r'/Users/pablouribepizarro/Desktop/CIAE/CIBL/model_weights/'+str(model.name)+'.h5')\n",
    "    \n",
    "            #Train and Save Best Model\n",
    "            checkpoint_iter_2_full = ModelCheckpoint('/Users/pablouribepizarro/Desktop/CIAE/CIBL/model_weights/'+str(model.name)+'_'+str(list(couple)[0])+str(list(couple)[1])+'.h5', \n",
    "                             verbose=False, monitor='val_acc',save_best_only=True, mode='auto')\n",
    "            \n",
    "            EA = EarlyStopping(monitor='val_loss', patience=7)\n",
    "\n",
    "            history = model.fit({'p_utterance_input': X_pu_train,\n",
    "                            'utterance_input': X_u_train,\n",
    "                            'n_utterance_input': X_nu_train,\n",
    "                            'rel_position_input': X_r_train,\n",
    "                            'n_words_input': X_n_train},\n",
    "                            {'main_output': y_train}, validation_data= \n",
    "                           ({'p_utterance_input': X_pu_test,\n",
    "                            'utterance_input': X_u_test,\n",
    "                            'n_utterance_input': X_nu_test,\n",
    "                            'rel_position_input': X_r_test,\n",
    "                            'n_words_input': X_n_test},\n",
    "                            {'main_output': y_test}),\n",
    "                           epochs=n_epochs, batch_size=64,\n",
    "                            shuffle=True, callbacks = [checkpoint_iter_2_full,EA], verbose = False)\n",
    "    \n",
    "            model.load_weights(r'/Users/pablouribepizarro/Desktop/CIAE/CIBL/model_weights/'+str(model.name)+'_'+str(list(couple)[0])+str(list(couple)[1])+'.h5')\n",
    "            \n",
    "            #Save Accuracy Score: Test\n",
    "            y_real = y_test.argmax(axis=-1)\n",
    "            y_pred = model.predict({'p_utterance_input': X_pu_test,\n",
    "                            'utterance_input': X_u_test,\n",
    "                            'n_utterance_input': X_nu_test,\n",
    "                            'rel_position_input': X_r_test,\n",
    "                            'n_words_input': X_n_test}).argmax(axis=-1)\n",
    "    \n",
    "            print('Accuracy Test for pair: '+str(list(couple)[0])+'-'+str(list(couple)[1])+' :'+str(accuracy_score(y_real, y_pred)))\n",
    "            dics_test[model.name][str(couple)] = accuracy_score(y_real, y_pred)\n",
    "            partial_avg_test = np.array(list(dics_test[model.name].values())).mean()\n",
    "            print('Partial Test mean: '+str(partial_avg_test))\n",
    "            \n",
    "            #Save Accuracy Score: Train\n",
    "            y_real = y_train.argmax(axis=-1)\n",
    "            y_pred = model.predict({'p_utterance_input': X_pu_train,\n",
    "                            'utterance_input': X_u_train,\n",
    "                            'n_utterance_input': X_nu_train,\n",
    "                            'rel_position_input': X_r_train,\n",
    "                            'n_words_input': X_n_train}).argmax(axis=-1)\n",
    "    \n",
    "            print('Accuracy Train for pair: '+str(list(couple)[0])+'-'+str(list(couple)[1])+' :'+str(accuracy_score(y_real, y_pred)))\n",
    "            dics_train[model.name][str(couple)] = accuracy_score(y_real, y_pred)\n",
    "            partial_avg_train = np.array(list(dics_train[model.name].values())).mean()\n",
    "            print('Partial Train mean: '+str(partial_avg_train))\n",
    "            \n",
    "    return(dics_test,dics_train)"
   ]
  },
  {
   "cell_type": "code",
   "execution_count": 21,
   "metadata": {},
   "outputs": [],
   "source": [
    "def softMaxAxis1(x):\n",
    "    return softmax(x,axis=1)"
   ]
  },
  {
   "cell_type": "code",
   "execution_count": 22,
   "metadata": {},
   "outputs": [
    {
     "name": "stdout",
     "output_type": "stream",
     "text": [
      "pe_dif_at.h5\n"
     ]
    }
   ],
   "source": [
    "# Import Models to Evaluate:\n",
    "from keras.models import load_model\n",
    "local_model_path = local_path+'/models/Evaluation'\n",
    "models_path = []\n",
    "models = []\n",
    "global max_length\n",
    "# r=root, d=directories, f = files\n",
    "for r, d, f in os.walk(local_model_path):\n",
    "    for file in f:\n",
    "        if '.h5' in file:\n",
    "            print(file)\n",
    "            models_path.append(os.path.join(r, file))\n",
    "            models.append(load_model(os.path.join(r, file), custom_objects={\"softMaxAxis1\": softMaxAxis1}))"
   ]
  },
  {
   "cell_type": "code",
   "execution_count": null,
   "metadata": {},
   "outputs": [],
   "source": [
    "#Evaluate models (40 epochs)\n",
    "res = model_evaluation(models,40)"
   ]
  },
  {
   "cell_type": "code",
   "execution_count": null,
   "metadata": {},
   "outputs": [],
   "source": [
    "#Save Accuracy Results in a dictionary:\n",
    "for model in models:\n",
    "    f = open(local_path+'/Results/Accuracy/'+str(model.name)+'_test.txt',\"w\")\n",
    "    model_dic_test = res[0][model.name]\n",
    "    f.write(str(model_dic_test))\n",
    "    f.close()\n",
    "\n",
    "    f = open(local_path+'/Results/Accuracy/'+str(model.name)+'_train.txt',\"w\")\n",
    "    model_dic_train = res[1][model.name]\n",
    "    f.write(str(model_dic_train))\n",
    "    f.close()"
   ]
  },
  {
   "cell_type": "code",
   "execution_count": null,
   "metadata": {},
   "outputs": [],
   "source": [
    "#Plot Accuracy Distributions\n",
    "acc = pd.DataFrame()\n",
    "for model in models:\n",
    "    acc['Test Set Couple'] = list(res[0][model.name].keys())\n",
    "    acc[str(model.name)+' Test'] = list(res[0][model.name].values())\n",
    "    acc[str(model.name)+' Train'] = list(res[1][model.name].values())\n",
    "\n",
    "acc.to_csv(local_path+'/Results/Comparative/acc.csv')\n",
    "\n",
    "plt.figure(figsize = (16,10))\n",
    "sns.set(font_scale=0.5)\n",
    "ax = sns.violinplot(data=acc)"
   ]
  },
  {
   "cell_type": "markdown",
   "metadata": {},
   "source": [
    "#### Obtain Confusion Matrix:"
   ]
  },
  {
   "cell_type": "code",
   "execution_count": 23,
   "metadata": {},
   "outputs": [],
   "source": [
    "def obtain_confusion_matrix(models):\n",
    "    documents_numbers = range(11)\n",
    "    couples = list(map(set, combinations(documents_numbers, 2)))\n",
    "    max_length = 20\n",
    "    n_models = len(models)\n",
    "    dics_test = {}\n",
    "    dics_train = {}\n",
    "    for model in models:\n",
    "        dics_test[model.name] = {}\n",
    "        dics_train[model.name] = {}\n",
    "    for couple in couples:\n",
    "        #Split Training and Test Set\n",
    "        training_dfs = [dfs[i] for i in (set(documents_numbers)-couple)]\n",
    "        all_data_train = pd.concat(training_dfs).reset_index()[['Tokenized Utterance','Previous Tokenized Utterance',\n",
    "                                                                    'Next Tokenized Utterance' ,'Relative Position',\n",
    "                                                                    'Number of Words','Phase']].dropna()\n",
    "\n",
    "        X_u_train = pad_sequences(all_data_train['Tokenized Utterance'],maxlen=max_length ,padding='post')\n",
    "        X_pu_train = pad_sequences(all_data_train['Previous Tokenized Utterance'],maxlen=max_length ,padding='post')\n",
    "        X_nu_train = pad_sequences(all_data_train['Next Tokenized Utterance'],maxlen=max_length ,padding='post')\n",
    "\n",
    "        X_r_train = all_data_train['Relative Position']\n",
    "        X_n_train = all_data_train['Number of Words']\n",
    "\n",
    "        y_train = keras.utils.to_categorical(all_data_train['Phase'], num_classes=5, dtype='float32')\n",
    "\n",
    "        test_dfs = [dfs[i] for i in couple]\n",
    "\n",
    "        all_data_test = pd.concat(test_dfs).reset_index()[['Tokenized Utterance','Previous Tokenized Utterance',\n",
    "                                                                    'Next Tokenized Utterance' ,'Relative Position',\n",
    "                                                                    'Number of Words','Phase']].dropna()\n",
    "\n",
    "        X_u_test = pad_sequences(all_data_test['Tokenized Utterance'],maxlen=max_length ,padding='post')\n",
    "        X_pu_test = pad_sequences(all_data_test['Previous Tokenized Utterance'],maxlen=max_length ,padding='post')\n",
    "        X_nu_test = pad_sequences(all_data_test['Next Tokenized Utterance'],maxlen=max_length ,padding='post')\n",
    "\n",
    "        X_r_test = all_data_test['Relative Position']\n",
    "        X_n_test = all_data_test['Number of Words']\n",
    "\n",
    "        y_test = keras.utils.to_categorical(all_data_test['Phase'], num_classes=5, dtype='float32')\n",
    "    \n",
    "        for model in models:\n",
    "            print('Evaluating Model '+str(model.name))\n",
    "            model.load_weights(r'/Users/pablouribepizarro/Desktop/CIAE/CIBL/model_weights/'+str(model.name)+'_'+str(list(couple)[0])+str(list(couple)[1])+'.h5')\n",
    "            \n",
    "            #Save Accuracy Score: Test\n",
    "            y_real = y_test.argmax(axis=-1)\n",
    "            y_pred = model.predict({'p_utterance_input': X_pu_test,\n",
    "                            'utterance_input': X_u_test,\n",
    "                            'n_utterance_input': X_nu_test,\n",
    "                            'rel_position_input': X_r_test,\n",
    "                            'n_words_input': X_n_test}).argmax(axis=-1)\n",
    "    \n",
    "            dics_test[model.name][str(couple)] = confusion_matrix(y_real, y_pred)\n",
    "            \n",
    "            #Save Accuracy Score: Train\n",
    "            y_real = y_train.argmax(axis=-1)\n",
    "            y_pred = model.predict({'p_utterance_input': X_pu_train,\n",
    "                            'utterance_input': X_u_train,\n",
    "                            'n_utterance_input': X_nu_train,\n",
    "                            'rel_position_input': X_r_train,\n",
    "                            'n_words_input': X_n_train}).argmax(axis=-1)\n",
    "        \n",
    "            dics_train[model.name][str(couple)] = confusion_matrix(y_real, y_pred)\n",
    "        \n",
    "    return(dics_test,dics_train)"
   ]
  },
  {
   "cell_type": "code",
   "execution_count": 24,
   "metadata": {
    "scrolled": true
   },
   "outputs": [
    {
     "name": "stderr",
     "output_type": "stream",
     "text": [
      "/Users/pablouribepizarro/anaconda3/lib/python3.7/site-packages/ipykernel_launcher.py:14: FutureWarning: Sorting because non-concatenation axis is not aligned. A future version\n",
      "of pandas will change to not sort by default.\n",
      "\n",
      "To accept the future behavior, pass 'sort=False'.\n",
      "\n",
      "To retain the current behavior and silence the warning, pass 'sort=True'.\n",
      "\n",
      "  \n"
     ]
    },
    {
     "name": "stdout",
     "output_type": "stream",
     "text": [
      "Evaluating Model pe_dif_at\n",
      "Evaluating Model pe_dif_at\n"
     ]
    },
    {
     "name": "stderr",
     "output_type": "stream",
     "text": [
      "/Users/pablouribepizarro/anaconda3/lib/python3.7/site-packages/ipykernel_launcher.py:29: FutureWarning: Sorting because non-concatenation axis is not aligned. A future version\n",
      "of pandas will change to not sort by default.\n",
      "\n",
      "To accept the future behavior, pass 'sort=False'.\n",
      "\n",
      "To retain the current behavior and silence the warning, pass 'sort=True'.\n",
      "\n"
     ]
    },
    {
     "name": "stdout",
     "output_type": "stream",
     "text": [
      "Evaluating Model pe_dif_at\n",
      "Evaluating Model pe_dif_at\n",
      "Evaluating Model pe_dif_at\n",
      "Evaluating Model pe_dif_at\n",
      "Evaluating Model pe_dif_at\n",
      "Evaluating Model pe_dif_at\n",
      "Evaluating Model pe_dif_at\n",
      "Evaluating Model pe_dif_at\n",
      "Evaluating Model pe_dif_at\n",
      "Evaluating Model pe_dif_at\n",
      "Evaluating Model pe_dif_at\n",
      "Evaluating Model pe_dif_at\n",
      "Evaluating Model pe_dif_at\n",
      "Evaluating Model pe_dif_at\n",
      "Evaluating Model pe_dif_at\n",
      "Evaluating Model pe_dif_at\n",
      "Evaluating Model pe_dif_at\n",
      "Evaluating Model pe_dif_at\n",
      "Evaluating Model pe_dif_at\n",
      "Evaluating Model pe_dif_at\n",
      "Evaluating Model pe_dif_at\n",
      "Evaluating Model pe_dif_at\n",
      "Evaluating Model pe_dif_at\n",
      "Evaluating Model pe_dif_at\n",
      "Evaluating Model pe_dif_at\n",
      "Evaluating Model pe_dif_at\n",
      "Evaluating Model pe_dif_at\n",
      "Evaluating Model pe_dif_at\n",
      "Evaluating Model pe_dif_at\n",
      "Evaluating Model pe_dif_at\n",
      "Evaluating Model pe_dif_at\n",
      "Evaluating Model pe_dif_at\n",
      "Evaluating Model pe_dif_at\n",
      "Evaluating Model pe_dif_at\n",
      "Evaluating Model pe_dif_at\n",
      "Evaluating Model pe_dif_at\n",
      "Evaluating Model pe_dif_at\n",
      "Evaluating Model pe_dif_at\n",
      "Evaluating Model pe_dif_at\n",
      "Evaluating Model pe_dif_at\n",
      "Evaluating Model pe_dif_at\n",
      "Evaluating Model pe_dif_at\n",
      "Evaluating Model pe_dif_at\n",
      "Evaluating Model pe_dif_at\n",
      "Evaluating Model pe_dif_at\n",
      "Evaluating Model pe_dif_at\n",
      "Evaluating Model pe_dif_at\n",
      "Evaluating Model pe_dif_at\n",
      "Evaluating Model pe_dif_at\n",
      "Evaluating Model pe_dif_at\n",
      "Evaluating Model pe_dif_at\n",
      "Evaluating Model pe_dif_at\n",
      "Evaluating Model pe_dif_at\n"
     ]
    }
   ],
   "source": [
    "cm_dif_at = obtain_confusion_matrix(models)"
   ]
  },
  {
   "cell_type": "code",
   "execution_count": 25,
   "metadata": {},
   "outputs": [],
   "source": [
    "#Calculate Average Confusion Matrix\n",
    "average_cm = sum([cm/cm.sum() for cm in np.array(list(cm_dif_at[0]['pe_dif_at'].values()))])/len(list(cm_dif_at[0]['pe_dif_at'].values()))"
   ]
  },
  {
   "cell_type": "code",
   "execution_count": 26,
   "metadata": {},
   "outputs": [
    {
     "data": {
      "text/plain": [
       "<matplotlib.axes._subplots.AxesSubplot at 0x1a4aae6f98>"
      ]
     },
     "execution_count": 26,
     "metadata": {},
     "output_type": "execute_result"
    },
    {
     "data": {
      "image/png": "[encoded data removed]",
      "text/plain": [
       "<Figure size 720x504 with 2 Axes>"
      ]
     },
     "metadata": {
      "needs_background": "light"
     },
     "output_type": "display_data"
    }
   ],
   "source": [
    "#Plot the confusion matrix\n",
    "df_cm = pd.DataFrame(average_cm, index = range(5),\n",
    "                  columns = range(5))\n",
    "plt.figure(figsize = (10,7))\n",
    "sns.set(font_scale=1.4)\n",
    "sns.heatmap(df_cm, annot=True, cmap=\"YlGnBu\")"
   ]
  },
  {
   "cell_type": "markdown",
   "metadata": {},
   "source": [
    "#### Precision and Recall:"
   ]
  },
  {
   "cell_type": "code",
   "execution_count": 27,
   "metadata": {},
   "outputs": [
    {
     "name": "stdout",
     "output_type": "stream",
     "text": [
      "Precision: [0.59792818 0.46973679 0.66789854 0.23497794 0.54432581]\n",
      "Recall: [0.65942921 0.19601522 0.6326868  0.05581505 0.66924523]\n"
     ]
    }
   ],
   "source": [
    "true_pos = np.diag(average_cm)\n",
    "false_pos = np.sum(average_cm, axis=0) - true_pos\n",
    "false_neg = np.sum(average_cm, axis=1) - true_pos\n",
    "\n",
    "#Calculate Precision and Recall of the Model:\n",
    "precision = (true_pos / (true_pos + false_pos))\n",
    "recall = (true_pos / (true_pos + false_neg))\n",
    "acc = np.sum(true_pos)/np.sum(average_cm)\n",
    "\n",
    "print('Precision: {}'.format(precision))\n",
    "print('Recall: {}'.format(recall))"
   ]
  }
 ],
 "metadata": {
  "kernelspec": {
   "display_name": "Python 3",
   "language": "python",
   "name": "python3"
  },
  "language_info": {
   "codemirror_mode": {
    "name": "ipython",
    "version": 3
   },
   "file_extension": ".py",
   "mimetype": "text/x-python",
   "name": "python",
   "nbconvert_exporter": "python",
   "pygments_lexer": "ipython3",
   "version": "3.7.3"
  }
 },
 "nbformat": 4,
 "nbformat_minor": 2
}
