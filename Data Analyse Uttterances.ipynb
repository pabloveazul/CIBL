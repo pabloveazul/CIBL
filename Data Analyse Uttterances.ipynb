{
 "cells": [
  {
   "cell_type": "markdown",
   "metadata": {},
   "source": [
    "# Utterances Data Analyse"
   ]
  },
  {
   "cell_type": "code",
   "execution_count": 40,
   "metadata": {},
   "outputs": [],
   "source": [
    "import numpy as np\n",
    "import os\n",
    "import pandas as pd\n",
    "from numpy import array\n",
    "from tensorflow.keras import backend\n",
    "from keras.preprocessing.text import one_hot\n",
    "from keras.preprocessing.text import Tokenizer\n",
    "from keras.preprocessing.sequence import pad_sequences\n",
    "from keras.models import Sequential\n",
    "from keras.layers import Dense\n",
    "from keras.layers import Flatten\n",
    "from keras.layers import Dropout\n",
    "from keras.layers import Lambda\n",
    "from keras.layers import Input\n",
    "from keras.layers import concatenate\n",
    "from keras.layers.embeddings import Embedding\n",
    "from keras.layers import LSTM,Conv1D,MaxPooling1D\n",
    "from keras.models import Model\n",
    "from keras import backend as K\n",
    "from keras.callbacks import ModelCheckpoint\n",
    "from sklearn.manifold import TSNE\n",
    "from sklearn.decomposition import PCA\n",
    "import keras\n",
    "import seaborn as sns\n",
    "import matplotlib.pyplot as plt\n",
    "import re\n",
    "import num2words\n",
    "%matplotlib inline"
   ]
  },
  {
   "cell_type": "code",
   "execution_count": 6,
   "metadata": {},
   "outputs": [
    {
     "name": "stdout",
     "output_type": "stream",
     "text": [
      "11\n"
     ]
    }
   ],
   "source": [
    "local_path = r'/Users/pablouribepizarro/Desktop/CIAE/CIBL/Raw/inquiry_lessons'\n",
    "files_path = []\n",
    "# r=root, d=directories, f = files\n",
    "for r, d, f in os.walk(local_path):\n",
    "    for file in f:\n",
    "        if '.xlsx' in file:\n",
    "            files_path.append(os.path.join(r, file))\n",
    "            \n",
    "n_files = len(files_path)\n",
    "print(n_files)"
   ]
  },
  {
   "cell_type": "code",
   "execution_count": 7,
   "metadata": {},
   "outputs": [
    {
     "data": {
      "text/html": [
       "<div>\n",
       "<style scoped>\n",
       "    .dataframe tbody tr th:only-of-type {\n",
       "        vertical-align: middle;\n",
       "    }\n",
       "\n",
       "    .dataframe tbody tr th {\n",
       "        vertical-align: top;\n",
       "    }\n",
       "\n",
       "    .dataframe thead th {\n",
       "        text-align: right;\n",
       "    }\n",
       "</style>\n",
       "<table border=\"1\" class=\"dataframe\">\n",
       "  <thead>\n",
       "    <tr style=\"text-align: right;\">\n",
       "      <th></th>\n",
       "      <th>StudentID</th>\n",
       "      <th>Student</th>\n",
       "      <th>time_start</th>\n",
       "      <th>time_end</th>\n",
       "      <th>Phase</th>\n",
       "      <th>Phase_start</th>\n",
       "      <th>Phase_end</th>\n",
       "      <th>Utterance</th>\n",
       "    </tr>\n",
       "  </thead>\n",
       "  <tbody>\n",
       "    <tr>\n",
       "      <th>0</th>\n",
       "      <td>O2</td>\n",
       "      <td>NaN</td>\n",
       "      <td>NaN</td>\n",
       "      <td>NaN</td>\n",
       "      <td>0</td>\n",
       "      <td>1.0</td>\n",
       "      <td>NaN</td>\n",
       "      <td>Satunnaiskävely.</td>\n",
       "    </tr>\n",
       "    <tr>\n",
       "      <th>1</th>\n",
       "      <td>O1</td>\n",
       "      <td>NaN</td>\n",
       "      <td>NaN</td>\n",
       "      <td>NaN</td>\n",
       "      <td>0</td>\n",
       "      <td>NaN</td>\n",
       "      <td>NaN</td>\n",
       "      <td>[lukee tehtävänantoa]</td>\n",
       "    </tr>\n",
       "    <tr>\n",
       "      <th>2</th>\n",
       "      <td>O1</td>\n",
       "      <td>NaN</td>\n",
       "      <td>NaN</td>\n",
       "      <td>NaN</td>\n",
       "      <td>0</td>\n",
       "      <td>NaN</td>\n",
       "      <td>1.0</td>\n",
       "      <td>Voi voi. [käynnistää videon]</td>\n",
       "    </tr>\n",
       "    <tr>\n",
       "      <th>3</th>\n",
       "      <td>O1</td>\n",
       "      <td>NaN</td>\n",
       "      <td>NaN</td>\n",
       "      <td>NaN</td>\n",
       "      <td>0</td>\n",
       "      <td>1.0</td>\n",
       "      <td>NaN</td>\n",
       "      <td>Missä se vaeltaa siellä? Onks se, ei. Ei, se e...</td>\n",
       "    </tr>\n",
       "    <tr>\n",
       "      <th>4</th>\n",
       "      <td>O2</td>\n",
       "      <td>NaN</td>\n",
       "      <td>NaN</td>\n",
       "      <td>NaN</td>\n",
       "      <td>0</td>\n",
       "      <td>NaN</td>\n",
       "      <td>NaN</td>\n",
       "      <td>[epäselvä]</td>\n",
       "    </tr>\n",
       "  </tbody>\n",
       "</table>\n",
       "</div>"
      ],
      "text/plain": [
       "  StudentID  Student  time_start  time_end  Phase  Phase_start  Phase_end  \\\n",
       "0        O2      NaN         NaN       NaN      0          1.0        NaN   \n",
       "1        O1      NaN         NaN       NaN      0          NaN        NaN   \n",
       "2        O1      NaN         NaN       NaN      0          NaN        1.0   \n",
       "3        O1      NaN         NaN       NaN      0          1.0        NaN   \n",
       "4        O2      NaN         NaN       NaN      0          NaN        NaN   \n",
       "\n",
       "                                           Utterance  \n",
       "0                                   Satunnaiskävely.  \n",
       "1                              [lukee tehtävänantoa]  \n",
       "2                       Voi voi. [käynnistää videon]  \n",
       "3  Missä se vaeltaa siellä? Onks se, ei. Ei, se e...  \n",
       "4                                         [epäselvä]  "
      ]
     },
     "execution_count": 7,
     "metadata": {},
     "output_type": "execute_result"
    }
   ],
   "source": [
    "dfs = []\n",
    "for path in files_path:\n",
    "    df = pd.read_excel(path)\n",
    "    df = df[np.isfinite(df['Phase'])]\n",
    "    df['Phase'] = df['Phase'].astype(int)-1\n",
    "    df['Utterance'] = df['Utterance'].apply(lambda row: re.sub(r\"(\\d+)\", lambda x: num2words.num2words(int(x.group(0))), row))\n",
    "    dfs.append(df)\n",
    "docs_size = pd.Series([df.shape[0] for df in dfs])\n",
    "dfs[0].head()"
   ]
  },
  {
   "cell_type": "code",
   "execution_count": 8,
   "metadata": {},
   "outputs": [
    {
     "data": {
      "image/png": "[encoded data removed]",
      "text/plain": [
       "<Figure size 432x288 with 1 Axes>"
      ]
     },
     "metadata": {},
     "output_type": "display_data"
    }
   ],
   "source": [
    "sns.set(); \n",
    "ax = sns.distplot(docs_size,kde=False,bins=5)"
   ]
  },
  {
   "cell_type": "code",
   "execution_count": 9,
   "metadata": {},
   "outputs": [],
   "source": [
    "docs = [' '.join(list(df['Utterance'].astype(str))) for df in dfs]"
   ]
  },
  {
   "cell_type": "code",
   "execution_count": 10,
   "metadata": {},
   "outputs": [],
   "source": [
    "t = Tokenizer(filters='¡!\"\\'#$%&()*+,./:;<=>?@[\\\\]^_`{|}~\\t\\n')\n",
    "t.fit_on_texts(docs)"
   ]
  },
  {
   "cell_type": "code",
   "execution_count": 11,
   "metadata": {},
   "outputs": [],
   "source": [
    "encoded_docs = [array(t.texts_to_sequences([d])[0]) for d in docs]\n",
    "encoded_docs[0]\n",
    "docs_size_words = pd.Series([len(doc) for doc in encoded_docs])"
   ]
  },
  {
   "cell_type": "code",
   "execution_count": 12,
   "metadata": {},
   "outputs": [
    {
     "data": {
      "image/png": "[encoded data removed]",
      "text/plain": [
       "<Figure size 432x288 with 1 Axes>"
      ]
     },
     "metadata": {},
     "output_type": "display_data"
    }
   ],
   "source": [
    "sns.set(); \n",
    "ax = sns.distplot(docs_size_words,kde=False,bins=5)"
   ]
  },
  {
   "cell_type": "code",
   "execution_count": 13,
   "metadata": {},
   "outputs": [
    {
     "name": "stdout",
     "output_type": "stream",
     "text": [
      "3238\n"
     ]
    }
   ],
   "source": [
    "padded_docs = pad_sequences(encoded_docs, padding='post')\n",
    "max_length = len(padded_docs[0])\n",
    "print(max_length)"
   ]
  },
  {
   "cell_type": "code",
   "execution_count": 14,
   "metadata": {},
   "outputs": [],
   "source": [
    "common_words = [key for key in list(t.word_index)[0:30]]\n",
    "common_words_count = [t.word_counts.get(word) for word in common_words]\n",
    "common_words_df = pd.DataFrame()\n",
    "common_words_df['Words'] = common_words\n",
    "common_words_df['Count'] = common_words_count\n",
    "common_words_df = common_words_df.sort_values('Count',ascending=False)"
   ]
  },
  {
   "cell_type": "code",
   "execution_count": 15,
   "metadata": {},
   "outputs": [
    {
     "data": {
      "image/png": "[encoded data removed]",
      "text/plain": [
       "<Figure size 720x504 with 1 Axes>"
      ]
     },
     "metadata": {},
     "output_type": "display_data"
    }
   ],
   "source": [
    "import seaborn as sns\n",
    "fig, ax = plt.subplots(figsize=(10,7))\n",
    "ax = sns.barplot(y=\"Words\", x=\"Count\", data=common_words_df)"
   ]
  },
  {
   "cell_type": "code",
   "execution_count": 16,
   "metadata": {},
   "outputs": [],
   "source": [
    "list_of_words = ['movement','speed','acceleration','force','heat','temperature','entropy','enthalpy',\n",
    "                 'power','energy','electricity','pressure',\n",
    "                 'volume','chemical','potential',\n",
    "                 'Carnot','Maxwell','Boltzmann','Gibbs',\n",
    "                 'girl','man','woman','boy','sun',\n",
    "                 'moon','work','motor','car','vehicle',\n",
    "                'water','gas','light','machine','cycle','thermodynamics',\n",
    "                'number','calculation','reaction','steam','problem','engine','statistical',\n",
    "                'air','pump','law','system']\n",
    "finnish_list = ['liike','nopeus','kiihtyvyys','voima','lämpö', 'lämpötila', 'entropia', 'entalpia',\n",
    "                'teho', 'energia', 'sähkö', 'paine',\n",
    "                'colyymi', 'kemialliset', 'mahdollinen',\n",
    "                'carnot', 'maxwell', 'boltzmann', 'gibbs',\n",
    "                'tyttö', 'mies', 'nainen', 'poika', 'aurinko',\n",
    "                'kuu', 'työ','moottori','auto','ajoneuvo',\n",
    "               'vesi','kaasu','valo','kone','sykli','termodynamiikka',\n",
    "               'määrä','laskeminen','reaktio','höyry','ongelma','tilastollinen',\n",
    "                'ilma','pumppu','laki','järjestelmä']\n",
    "dictionary = dict(zip(finnish_list, list_of_words))"
   ]
  },
  {
   "cell_type": "code",
   "execution_count": 17,
   "metadata": {},
   "outputs": [],
   "source": [
    "physics_words_count = [t.word_counts.get(word) for word in finnish_list]\n",
    "physics_words_df = pd.DataFrame()\n",
    "physics_words_df['Words'] = finnish_list\n",
    "physics_words_df['Count'] = physics_words_count\n",
    "physics_words_df = physics_words_df.sort_values('Count',ascending=False)"
   ]
  },
  {
   "cell_type": "code",
   "execution_count": 18,
   "metadata": {},
   "outputs": [
    {
     "data": {
      "image/png": "[encoded data removed]",
      "text/plain": [
       "<Figure size 720x504 with 1 Axes>"
      ]
     },
     "metadata": {},
     "output_type": "display_data"
    }
   ],
   "source": [
    "import seaborn as sns\n",
    "fig, ax = plt.subplots(figsize=(10,7))\n",
    "ax = sns.barplot(y=\"Words\", x=\"Count\", data=physics_words_df,)"
   ]
  },
  {
   "cell_type": "code",
   "execution_count": 19,
   "metadata": {},
   "outputs": [
    {
     "data": {
      "text/plain": [
       "3500"
      ]
     },
     "execution_count": 19,
     "metadata": {},
     "output_type": "execute_result"
    }
   ],
   "source": [
    "t.word_index.get(list(t.word_index)[-1])"
   ]
  },
  {
   "cell_type": "code",
   "execution_count": 20,
   "metadata": {},
   "outputs": [
    {
     "name": "stdout",
     "output_type": "stream",
     "text": [
      "3238\n"
     ]
    }
   ],
   "source": [
    "padded_docs = pad_sequences(encoded_docs, padding='post')\n",
    "max_length = len(padded_docs[0])\n",
    "print(max_length)\n",
    "vocab_size = 10000"
   ]
  },
  {
   "cell_type": "code",
   "execution_count": 21,
   "metadata": {},
   "outputs": [
    {
     "name": "stdout",
     "output_type": "stream",
     "text": [
      "Processing Document 0\n",
      "Processing Document 1\n",
      "Processing Document 2\n",
      "Processing Document 3\n",
      "Processing Document 4\n",
      "Processing Document 5\n",
      "Processing Document 6\n",
      "Processing Document 7\n",
      "Processing Document 8\n",
      "Processing Document 9\n",
      "Processing Document 10\n",
      "Done!\n"
     ]
    }
   ],
   "source": [
    "i = 0\n",
    "max_length = 30\n",
    "for df in dfs:\n",
    "    print('Processing Document '+str(i))\n",
    "    i+=1\n",
    "    df['Relative Position'] = df.index/len(df)\n",
    "    df['Number of Words'] = df.apply(lambda row: len(row['Utterance'].split()), axis = 1)\n",
    "    df['Tokenized Utterance'] = df.apply(lambda row: t.texts_to_sequences([str(row['Utterance'])])[0], axis = 1)\n",
    "    df['Previous Tokenized Utterance'] = df['Tokenized Utterance'].shift(1)\n",
    "    df['Next Tokenized Utterance'] = df['Tokenized Utterance'].shift(-1)\n",
    "    df = df.dropna()\n",
    "print('Done!')"
   ]
  },
  {
   "cell_type": "markdown",
   "metadata": {},
   "source": [
    "## Splitting Training and Test Set"
   ]
  },
  {
   "cell_type": "code",
   "execution_count": 24,
   "metadata": {},
   "outputs": [
    {
     "name": "stderr",
     "output_type": "stream",
     "text": [
      "/Users/pablouribepizarro/anaconda3/lib/python3.7/site-packages/ipykernel_launcher.py:2: FutureWarning: Sorting because non-concatenation axis is not aligned. A future version\n",
      "of pandas will change to not sort by default.\n",
      "\n",
      "To accept the future behavior, pass 'sort=False'.\n",
      "\n",
      "To retain the current behavior and silence the warning, pass 'sort=True'.\n",
      "\n",
      "  \n"
     ]
    }
   ],
   "source": [
    "max_length = 20\n",
    "all_data = pd.concat(dfs).reset_index()[['Tokenized Utterance','Previous Tokenized Utterance','Next Tokenized Utterance' ,'Phase']].dropna()\n",
    "X = np.concatenate((pad_sequences(all_data['Tokenized Utterance'],maxlen=max_length ,padding='post'),\n",
    "     pad_sequences(all_data['Previous Tokenized Utterance'],maxlen=max_length ,padding='post'),\n",
    "     pad_sequences(all_data['Next Tokenized Utterance'],maxlen=max_length ,padding='post')), axis=1)\n",
    "y = keras.utils.to_categorical(all_data['Phase'], num_classes=5, dtype='float32')\n",
    "from sklearn.model_selection import train_test_split\n",
    "X_train, X_test, y_train, y_test = train_test_split(X, y, test_size=0.2, random_state=42)\n",
    "#TO DO: mirar palabras del test set fuera del training set "
   ]
  },
  {
   "cell_type": "markdown",
   "metadata": {},
   "source": [
    "## 2.1 Trainable Embedding Layer - Simple NN "
   ]
  },
  {
   "cell_type": "code",
   "execution_count": 43,
   "metadata": {},
   "outputs": [],
   "source": [
    "#Mirar Callbacks, Dropout, Batch-Normalization\n",
    "model = Sequential()\n",
    "model.add(Embedding(vocab_size, output_dim=200,input_length=max_length*3))\n",
    "#model.add(Flatten()) #Flatten ---> Sum\n",
    "model.add(Lambda(lambda x: K.sum(x, axis=1))) #Sum\n",
    "model.add(Dense(64,activation='relu'))\n",
    "model.add(Dropout(0.3))\n",
    "model.add(Dense(5, activation='softmax'))\n",
    "\n",
    "model.compile(loss='categorical_crossentropy',\n",
    "              optimizer='adam',\n",
    "              metrics=['accuracy'])\n",
    "\n",
    "model.save_weights(r'/Users/pablouribepizarro/Desktop/CIAE/CIBL/model_weights/model.h5')\n",
    "\n"
   ]
  },
  {
   "cell_type": "code",
   "execution_count": 97,
   "metadata": {},
   "outputs": [
    {
     "name": "stdout",
     "output_type": "stream",
     "text": [
      "_________________________________________________________________\n",
      "Layer (type)                 Output Shape              Param #   \n",
      "=================================================================\n",
      "embedding_11 (Embedding)     (None, 60, 200)           2000000   \n",
      "_________________________________________________________________\n",
      "lambda_10 (Lambda)           (None, 200)               0         \n",
      "_________________________________________________________________\n",
      "dense_20 (Dense)             (None, 64)                12864     \n",
      "_________________________________________________________________\n",
      "dropout_11 (Dropout)         (None, 64)                0         \n",
      "_________________________________________________________________\n",
      "dense_21 (Dense)             (None, 5)                 325       \n",
      "=================================================================\n",
      "Total params: 2,013,189\n",
      "Trainable params: 2,013,189\n",
      "Non-trainable params: 0\n",
      "_________________________________________________________________\n"
     ]
    }
   ],
   "source": [
    "model.summary()"
   ]
  },
  {
   "cell_type": "code",
   "execution_count": 98,
   "metadata": {
    "scrolled": true
   },
   "outputs": [
    {
     "name": "stdout",
     "output_type": "stream",
     "text": [
      "Train on 1566 samples, validate on 392 samples\n",
      "Epoch 1/20\n",
      " - 4s - loss: 1.3769 - acc: 0.4464 - val_loss: 1.1085 - val_acc: 0.6097\n",
      "\n",
      "Epoch 00001: val_acc improved from -inf to 0.60969, saving model to /Users/pablouribepizarro/Desktop/CIAE/CIBL/model_weights/model-001-0.446360-0.609694.h5\n",
      "Epoch 2/20\n",
      " - 2s - loss: 0.9151 - acc: 0.6903 - val_loss: 0.9073 - val_acc: 0.7117\n",
      "\n",
      "Epoch 00002: val_acc improved from 0.60969 to 0.71173, saving model to /Users/pablouribepizarro/Desktop/CIAE/CIBL/model_weights/model-002-0.690294-0.711735.h5\n",
      "Epoch 3/20\n",
      " - 2s - loss: 0.6365 - acc: 0.8001 - val_loss: 0.7640 - val_acc: 0.7296\n",
      "\n",
      "Epoch 00003: val_acc improved from 0.71173 to 0.72959, saving model to /Users/pablouribepizarro/Desktop/CIAE/CIBL/model_weights/model-003-0.800128-0.729592.h5\n",
      "Epoch 4/20\n",
      " - 2s - loss: 0.4393 - acc: 0.8697 - val_loss: 0.7080 - val_acc: 0.7628\n",
      "\n",
      "Epoch 00004: val_acc improved from 0.72959 to 0.76276, saving model to /Users/pablouribepizarro/Desktop/CIAE/CIBL/model_weights/model-004-0.869732-0.762755.h5\n",
      "Epoch 5/20\n",
      " - 2s - loss: 0.3051 - acc: 0.9157 - val_loss: 0.6903 - val_acc: 0.7730\n",
      "\n",
      "Epoch 00005: val_acc improved from 0.76276 to 0.77296, saving model to /Users/pablouribepizarro/Desktop/CIAE/CIBL/model_weights/model-005-0.915709-0.772959.h5\n",
      "Epoch 6/20\n",
      " - 2s - loss: 0.2395 - acc: 0.9368 - val_loss: 0.6425 - val_acc: 0.7755\n",
      "\n",
      "Epoch 00006: val_acc improved from 0.77296 to 0.77551, saving model to /Users/pablouribepizarro/Desktop/CIAE/CIBL/model_weights/model-006-0.936782-0.775510.h5\n",
      "Epoch 7/20\n",
      " - 3s - loss: 0.1821 - acc: 0.9483 - val_loss: 0.6732 - val_acc: 0.7857\n",
      "\n",
      "Epoch 00007: val_acc improved from 0.77551 to 0.78571, saving model to /Users/pablouribepizarro/Desktop/CIAE/CIBL/model_weights/model-007-0.948276-0.785714.h5\n",
      "Epoch 8/20\n",
      " - 3s - loss: 0.1336 - acc: 0.9674 - val_loss: 0.7182 - val_acc: 0.7628\n",
      "\n",
      "Epoch 00008: val_acc did not improve from 0.78571\n",
      "Epoch 9/20\n",
      " - 2s - loss: 0.1250 - acc: 0.9693 - val_loss: 0.7071 - val_acc: 0.8087\n",
      "\n",
      "Epoch 00009: val_acc improved from 0.78571 to 0.80867, saving model to /Users/pablouribepizarro/Desktop/CIAE/CIBL/model_weights/model-009-0.969349-0.808673.h5\n",
      "Epoch 10/20\n",
      " - 3s - loss: 0.0926 - acc: 0.9815 - val_loss: 0.7283 - val_acc: 0.7883\n",
      "\n",
      "Epoch 00010: val_acc did not improve from 0.80867\n",
      "Epoch 11/20\n",
      " - 2s - loss: 0.0740 - acc: 0.9808 - val_loss: 0.7276 - val_acc: 0.8061\n",
      "\n",
      "Epoch 00011: val_acc did not improve from 0.80867\n",
      "Epoch 12/20\n",
      " - 2s - loss: 0.0650 - acc: 0.9815 - val_loss: 0.7480 - val_acc: 0.7857\n",
      "\n",
      "Epoch 00012: val_acc did not improve from 0.80867\n",
      "Epoch 13/20\n",
      " - 2s - loss: 0.0686 - acc: 0.9821 - val_loss: 0.7849 - val_acc: 0.8010\n",
      "\n",
      "Epoch 00013: val_acc did not improve from 0.80867\n",
      "Epoch 14/20\n",
      " - 2s - loss: 0.0526 - acc: 0.9891 - val_loss: 0.7844 - val_acc: 0.8189\n",
      "\n",
      "Epoch 00014: val_acc improved from 0.80867 to 0.81888, saving model to /Users/pablouribepizarro/Desktop/CIAE/CIBL/model_weights/model-014-0.989144-0.818878.h5\n",
      "Epoch 15/20\n",
      " - 2s - loss: 0.0488 - acc: 0.9898 - val_loss: 0.8515 - val_acc: 0.7985\n",
      "\n",
      "Epoch 00015: val_acc did not improve from 0.81888\n",
      "Epoch 16/20\n",
      " - 2s - loss: 0.0354 - acc: 0.9898 - val_loss: 0.8629 - val_acc: 0.8036\n",
      "\n",
      "Epoch 00016: val_acc did not improve from 0.81888\n",
      "Epoch 17/20\n",
      " - 2s - loss: 0.0327 - acc: 0.9943 - val_loss: 0.8845 - val_acc: 0.8112\n",
      "\n",
      "Epoch 00017: val_acc did not improve from 0.81888\n",
      "Epoch 18/20\n",
      " - 2s - loss: 0.0251 - acc: 0.9949 - val_loss: 0.8869 - val_acc: 0.8163\n",
      "\n",
      "Epoch 00018: val_acc did not improve from 0.81888\n",
      "Epoch 19/20\n",
      " - 2s - loss: 0.0258 - acc: 0.9949 - val_loss: 0.9132 - val_acc: 0.8112\n",
      "\n",
      "Epoch 00019: val_acc did not improve from 0.81888\n",
      "Epoch 20/20\n",
      " - 3s - loss: 0.0289 - acc: 0.9930 - val_loss: 0.9297 - val_acc: 0.8036\n",
      "\n",
      "Epoch 00020: val_acc did not improve from 0.81888\n"
     ]
    },
    {
     "data": {
      "image/png": "[encoded data removed]",
      "text/plain": [
       "<Figure size 432x288 with 1 Axes>"
      ]
     },
     "metadata": {
      "needs_background": "light"
     },
     "output_type": "display_data"
    }
   ],
   "source": [
    "checkpoint = ModelCheckpoint('/Users/pablouribepizarro/Desktop/CIAE/CIBL/model_weights/model-{epoch:03d}-{acc:03f}-{val_acc:03f}.h5', \n",
    "                             verbose=1, monitor='val_acc',save_best_only=True, mode='auto')\n",
    "\n",
    "history = model.fit(X_train, y_train, epochs=20, batch_size=64, \n",
    "                      validation_data=(X_test, y_test), verbose=2, shuffle=True, callbacks=[checkpoint])\n",
    "# plot history\n",
    "plt.plot(history.history['loss'], label='train')\n",
    "plt.plot(history.history['val_loss'], label='test')\n",
    "plt.legend()\n",
    "plt.show()"
   ]
  },
  {
   "cell_type": "code",
   "execution_count": 99,
   "metadata": {},
   "outputs": [],
   "source": [
    "from numpy import argmax\n",
    "y_pred = model.predict(X_test).argmax(axis=-1)\n",
    "y_real = y_test.argmax(axis=-1)"
   ]
  },
  {
   "cell_type": "code",
   "execution_count": 157,
   "metadata": {},
   "outputs": [
    {
     "data": {
      "text/plain": [
       "0.532967032967033"
      ]
     },
     "execution_count": 157,
     "metadata": {},
     "output_type": "execute_result"
    }
   ],
   "source": [
    "from sklearn.metrics import confusion_matrix \n",
    "from sklearn.metrics import accuracy_score \n",
    "from sklearn.metrics import classification_report\n",
    "results = confusion_matrix(y_real, y_pred)\n",
    "accuracy_score(y_real, y_pred)"
   ]
  },
  {
   "cell_type": "code",
   "execution_count": 101,
   "metadata": {
    "scrolled": true
   },
   "outputs": [
    {
     "name": "stdout",
     "output_type": "stream",
     "text": [
      "[[ 94   0   3   1  10]\n",
      " [  3  33   6   0   0]\n",
      " [  4   0  81   2  15]\n",
      " [  0   0   2   4   5]\n",
      " [  8   0  10   8 103]]\n",
      "              precision    recall  f1-score   support\n",
      "\n",
      "           0       0.86      0.87      0.87       108\n",
      "           1       1.00      0.79      0.88        42\n",
      "           2       0.79      0.79      0.79       102\n",
      "           3       0.27      0.36      0.31        11\n",
      "           4       0.77      0.80      0.79       129\n",
      "\n",
      "    accuracy                           0.80       392\n",
      "   macro avg       0.74      0.72      0.73       392\n",
      "weighted avg       0.81      0.80      0.81       392\n",
      "\n"
     ]
    }
   ],
   "source": [
    "print(results)\n",
    "print(classification_report(y_real, y_pred))"
   ]
  },
  {
   "cell_type": "code",
   "execution_count": 102,
   "metadata": {},
   "outputs": [
    {
     "data": {
      "text/plain": [
       "<matplotlib.axes._subplots.AxesSubplot at 0x1a4b929c50>"
      ]
     },
     "execution_count": 102,
     "metadata": {},
     "output_type": "execute_result"
    },
    {
     "data": {
      "image/png": "[encoded data removed]",
      "text/plain": [
       "<Figure size 720x504 with 2 Axes>"
      ]
     },
     "metadata": {
      "needs_background": "light"
     },
     "output_type": "display_data"
    }
   ],
   "source": [
    "import seaborn as sns\n",
    "df_cm = pd.DataFrame(results, index = range(5),\n",
    "                  columns = range(5))\n",
    "plt.figure(figsize = (10,7))\n",
    "sns.set(font_scale=1.4)\n",
    "sns.heatmap(df_cm, annot=True, cmap=\"YlGnBu\")"
   ]
  },
  {
   "cell_type": "markdown",
   "metadata": {},
   "source": [
    "## 2.2 Vector Representation of Learned Embeddings "
   ]
  },
  {
   "cell_type": "code",
   "execution_count": 83,
   "metadata": {},
   "outputs": [],
   "source": [
    "embeddings = model.layers[0].get_weights()[0]\n",
    "#Tokenizer\n",
    "words_embeddings = [embeddings[t.texts_to_sequences([word])[0][0]] for word in list(t.word_index.keys())]"
   ]
  },
  {
   "cell_type": "code",
   "execution_count": 84,
   "metadata": {},
   "outputs": [],
   "source": [
    "#Proyection in 2 components\n",
    "\n",
    "\n",
    "#embeddings_proyected = TSNE(n_components=2).fit_transform(words_embeddings)\n",
    "embeddings_proyected = PCA().fit_transform(words_embeddings)"
   ]
  },
  {
   "cell_type": "code",
   "execution_count": 85,
   "metadata": {},
   "outputs": [],
   "source": [
    "word_df = pd.DataFrame(embeddings_proyected)\n",
    "word_df['Finnish'] = list(t.word_index.keys())"
   ]
  },
  {
   "cell_type": "code",
   "execution_count": 86,
   "metadata": {},
   "outputs": [
    {
     "data": {
      "image/png": "[encoded data removed]",
      "text/plain": [
       "<Figure size 432x432 with 1 Axes>"
      ]
     },
     "metadata": {
      "needs_background": "light"
     },
     "output_type": "display_data"
    }
   ],
   "source": [
    "import matplotlib.pyplot as plt\n",
    "%matplotlib inline\n",
    "\n",
    "plt.figure(figsize=(6,6))\n",
    "data = word_df.loc[word_df['Finnish'].isin(finnish_list)].reset_index()\n",
    "#data = word_df.sample(50).reset_index()\n",
    "types = [dictionary.get(name) for name in data['Finnish'].values]\n",
    "#types = data['Finnish']\n",
    "x_coords = data[0]\n",
    "y_coords = data[1]\n",
    "\n",
    "for i,type in enumerate(types):\n",
    "    x = x_coords[i]\n",
    "    y = y_coords[i]\n",
    "    plt.scatter(x, y, marker='x', color='red')\n",
    "    plt.text(x, y, type, fontsize=9)\n",
    "plt.show()"
   ]
  },
  {
   "cell_type": "markdown",
   "metadata": {},
   "source": [
    "## 3.1 Trained Embeddings - Simple NN "
   ]
  },
  {
   "cell_type": "code",
   "execution_count": 107,
   "metadata": {},
   "outputs": [
    {
     "name": "stderr",
     "output_type": "stream",
     "text": [
      "/Users/pablouribepizarro/anaconda3/lib/python3.7/site-packages/smart_open/smart_open_lib.py:398: UserWarning: This function is deprecated, use smart_open.open instead. See the migration notes for details: https://github.com/RaRe-Technologies/smart_open/blob/master/README.rst#migrating-to-the-new-open-function\n",
      "  'See the migration notes for details: %s' % _MIGRATION_NOTES_URL\n"
     ]
    }
   ],
   "source": [
    "from gensim.models import KeyedVectors\n",
    "path = r'/Users/pablouribepizarro/Desktop/CIAE/CIBL/finnish_4B_parsebank_skgram.bin'\n",
    "wv = KeyedVectors.load_word2vec_format(path,binary=True, encoding='UTF-8',limit=500000,unicode_errors='replace')"
   ]
  },
  {
   "cell_type": "code",
   "execution_count": 108,
   "metadata": {},
   "outputs": [
    {
     "data": {
      "text/plain": [
       "200"
      ]
     },
     "execution_count": 108,
     "metadata": {},
     "output_type": "execute_result"
    }
   ],
   "source": [
    "len(wv.get_vector('siis'))"
   ]
  },
  {
   "cell_type": "code",
   "execution_count": 109,
   "metadata": {},
   "outputs": [],
   "source": [
    "max_vocab = 10000\n",
    "embedding_matrix = np.zeros((max_vocab, 200))\n",
    "for word, i in t.word_index.items():\n",
    "    try:\n",
    "        embedding_vector = wv.get_vector(word)\n",
    "        embedding_matrix[i] = embedding_vector\n",
    "    except:\n",
    "        pass        "
   ]
  },
  {
   "cell_type": "code",
   "execution_count": 93,
   "metadata": {},
   "outputs": [],
   "source": [
    "model_2 = Sequential()\n",
    "model_2.add(Embedding(max_vocab,weights=[embedding_matrix],trainable=False,input_length=max_length*3,output_dim=200))\n",
    "#model_2.add(Flatten()) #Flatten\n",
    "model_2.add(Lambda(lambda x: K.sum(x, axis=1))) #Sum\n",
    "model_2.add(Dense(64,activation='relu'))\n",
    "model_2.add(Dropout(0.3))\n",
    "model_2.add(Dense(5, activation='softmax'))\n",
    "\n",
    "model_2.compile(loss='categorical_crossentropy',\n",
    "              optimizer='adam',\n",
    "              metrics=['accuracy'])\n",
    "model_2.save_weights(r'/Users/pablouribepizarro/Desktop/CIAE/CIBL/model_weights/model_2.h5')"
   ]
  },
  {
   "cell_type": "code",
   "execution_count": 94,
   "metadata": {},
   "outputs": [
    {
     "name": "stdout",
     "output_type": "stream",
     "text": [
      "_________________________________________________________________\n",
      "Layer (type)                 Output Shape              Param #   \n",
      "=================================================================\n",
      "embedding_10 (Embedding)     (None, 60, 200)           2000000   \n",
      "_________________________________________________________________\n",
      "lambda_9 (Lambda)            (None, 200)               0         \n",
      "_________________________________________________________________\n",
      "dense_18 (Dense)             (None, 64)                12864     \n",
      "_________________________________________________________________\n",
      "dropout_10 (Dropout)         (None, 64)                0         \n",
      "_________________________________________________________________\n",
      "dense_19 (Dense)             (None, 5)                 325       \n",
      "=================================================================\n",
      "Total params: 2,013,189\n",
      "Trainable params: 13,189\n",
      "Non-trainable params: 2,000,000\n",
      "_________________________________________________________________\n"
     ]
    }
   ],
   "source": [
    "model_2.summary()"
   ]
  },
  {
   "cell_type": "code",
   "execution_count": 95,
   "metadata": {
    "scrolled": true
   },
   "outputs": [
    {
     "name": "stdout",
     "output_type": "stream",
     "text": [
      "Train on 1566 samples, validate on 392 samples\n",
      "Epoch 1/70\n",
      " - 2s - loss: 2.1991 - acc: 0.3436 - val_loss: 1.4734 - val_acc: 0.4617\n",
      "\n",
      "Epoch 00001: val_acc improved from -inf to 0.46173, saving model to /Users/pablouribepizarro/Desktop/CIAE/CIBL/model_weights/model_2-001-0.343550-0.461735.h5\n",
      "Epoch 2/70\n",
      " - 0s - loss: 1.3940 - acc: 0.4476 - val_loss: 1.3041 - val_acc: 0.4949\n",
      "\n",
      "Epoch 00002: val_acc improved from 0.46173 to 0.49490, saving model to /Users/pablouribepizarro/Desktop/CIAE/CIBL/model_weights/model_2-002-0.447637-0.494898.h5\n",
      "Epoch 3/70\n",
      " - 0s - loss: 1.2873 - acc: 0.4853 - val_loss: 1.2573 - val_acc: 0.5128\n",
      "\n",
      "Epoch 00003: val_acc improved from 0.49490 to 0.51276, saving model to /Users/pablouribepizarro/Desktop/CIAE/CIBL/model_weights/model_2-003-0.485313-0.512755.h5\n",
      "Epoch 4/70\n",
      " - 0s - loss: 1.2430 - acc: 0.5006 - val_loss: 1.2358 - val_acc: 0.5255\n",
      "\n",
      "Epoch 00004: val_acc improved from 0.51276 to 0.52551, saving model to /Users/pablouribepizarro/Desktop/CIAE/CIBL/model_weights/model_2-004-0.500639-0.525510.h5\n",
      "Epoch 5/70\n",
      " - 0s - loss: 1.1900 - acc: 0.5268 - val_loss: 1.2126 - val_acc: 0.5281\n",
      "\n",
      "Epoch 00005: val_acc improved from 0.52551 to 0.52806, saving model to /Users/pablouribepizarro/Desktop/CIAE/CIBL/model_weights/model_2-005-0.526820-0.528061.h5\n",
      "Epoch 6/70\n",
      " - 0s - loss: 1.1667 - acc: 0.5345 - val_loss: 1.1764 - val_acc: 0.5459\n",
      "\n",
      "Epoch 00006: val_acc improved from 0.52806 to 0.54592, saving model to /Users/pablouribepizarro/Desktop/CIAE/CIBL/model_weights/model_2-006-0.534483-0.545918.h5\n",
      "Epoch 7/70\n",
      " - 0s - loss: 1.1479 - acc: 0.5466 - val_loss: 1.1421 - val_acc: 0.5612\n",
      "\n",
      "Epoch 00007: val_acc improved from 0.54592 to 0.56122, saving model to /Users/pablouribepizarro/Desktop/CIAE/CIBL/model_weights/model_2-007-0.546616-0.561224.h5\n",
      "Epoch 8/70\n",
      " - 0s - loss: 1.0943 - acc: 0.5658 - val_loss: 1.1560 - val_acc: 0.5357\n",
      "\n",
      "Epoch 00008: val_acc did not improve from 0.56122\n",
      "Epoch 9/70\n",
      " - 0s - loss: 1.0517 - acc: 0.5811 - val_loss: 1.1173 - val_acc: 0.5536\n",
      "\n",
      "Epoch 00009: val_acc did not improve from 0.56122\n",
      "Epoch 10/70\n",
      " - 0s - loss: 1.0404 - acc: 0.5971 - val_loss: 1.1095 - val_acc: 0.5714\n",
      "\n",
      "Epoch 00010: val_acc improved from 0.56122 to 0.57143, saving model to /Users/pablouribepizarro/Desktop/CIAE/CIBL/model_weights/model_2-010-0.597063-0.571429.h5\n",
      "Epoch 11/70\n",
      " - 0s - loss: 1.0175 - acc: 0.5983 - val_loss: 1.0820 - val_acc: 0.5893\n",
      "\n",
      "Epoch 00011: val_acc improved from 0.57143 to 0.58929, saving model to /Users/pablouribepizarro/Desktop/CIAE/CIBL/model_weights/model_2-011-0.598340-0.589286.h5\n",
      "Epoch 12/70\n",
      " - 0s - loss: 0.9811 - acc: 0.6175 - val_loss: 1.0500 - val_acc: 0.6046\n",
      "\n",
      "Epoch 00012: val_acc improved from 0.58929 to 0.60459, saving model to /Users/pablouribepizarro/Desktop/CIAE/CIBL/model_weights/model_2-012-0.617497-0.604592.h5\n",
      "Epoch 13/70\n",
      " - 0s - loss: 0.9653 - acc: 0.6175 - val_loss: 1.0573 - val_acc: 0.5765\n",
      "\n",
      "Epoch 00013: val_acc did not improve from 0.60459\n",
      "Epoch 14/70\n",
      " - 0s - loss: 0.9566 - acc: 0.6341 - val_loss: 1.0446 - val_acc: 0.6020\n",
      "\n",
      "Epoch 00014: val_acc did not improve from 0.60459\n",
      "Epoch 15/70\n",
      " - 0s - loss: 0.9263 - acc: 0.6418 - val_loss: 1.0275 - val_acc: 0.5995\n",
      "\n",
      "Epoch 00015: val_acc did not improve from 0.60459\n",
      "Epoch 16/70\n",
      " - 0s - loss: 0.8965 - acc: 0.6501 - val_loss: 1.0156 - val_acc: 0.6199\n",
      "\n",
      "Epoch 00016: val_acc improved from 0.60459 to 0.61990, saving model to /Users/pablouribepizarro/Desktop/CIAE/CIBL/model_weights/model_2-016-0.650064-0.619898.h5\n",
      "Epoch 17/70\n",
      " - 0s - loss: 0.8836 - acc: 0.6545 - val_loss: 1.0082 - val_acc: 0.5995\n",
      "\n",
      "Epoch 00017: val_acc did not improve from 0.61990\n",
      "Epoch 18/70\n",
      " - 0s - loss: 0.8731 - acc: 0.6692 - val_loss: 1.0127 - val_acc: 0.6097\n",
      "\n",
      "Epoch 00018: val_acc did not improve from 0.61990\n",
      "Epoch 19/70\n",
      " - 0s - loss: 0.8434 - acc: 0.6820 - val_loss: 1.0040 - val_acc: 0.5918\n",
      "\n",
      "Epoch 00019: val_acc did not improve from 0.61990\n",
      "Epoch 20/70\n",
      " - 0s - loss: 0.8365 - acc: 0.6667 - val_loss: 0.9829 - val_acc: 0.6148\n",
      "\n",
      "Epoch 00020: val_acc did not improve from 0.61990\n",
      "Epoch 21/70\n",
      " - 0s - loss: 0.8255 - acc: 0.6877 - val_loss: 1.0186 - val_acc: 0.6224\n",
      "\n",
      "Epoch 00021: val_acc improved from 0.61990 to 0.62245, saving model to /Users/pablouribepizarro/Desktop/CIAE/CIBL/model_weights/model_2-021-0.687739-0.622449.h5\n",
      "Epoch 22/70\n",
      " - 0s - loss: 0.8254 - acc: 0.6884 - val_loss: 0.9951 - val_acc: 0.6199\n",
      "\n",
      "Epoch 00022: val_acc did not improve from 0.62245\n",
      "Epoch 23/70\n",
      " - 0s - loss: 0.7846 - acc: 0.6922 - val_loss: 1.0022 - val_acc: 0.6020\n",
      "\n",
      "Epoch 00023: val_acc did not improve from 0.62245\n",
      "Epoch 24/70\n",
      " - 0s - loss: 0.7873 - acc: 0.7056 - val_loss: 0.9967 - val_acc: 0.6173\n",
      "\n",
      "Epoch 00024: val_acc did not improve from 0.62245\n",
      "Epoch 25/70\n",
      " - 0s - loss: 0.7504 - acc: 0.7273 - val_loss: 1.0192 - val_acc: 0.6173\n",
      "\n",
      "Epoch 00025: val_acc did not improve from 0.62245\n",
      "Epoch 26/70\n",
      " - 0s - loss: 0.7594 - acc: 0.7190 - val_loss: 0.9841 - val_acc: 0.6071\n",
      "\n",
      "Epoch 00026: val_acc did not improve from 0.62245\n",
      "Epoch 27/70\n",
      " - 0s - loss: 0.7455 - acc: 0.7139 - val_loss: 0.9639 - val_acc: 0.6480\n",
      "\n",
      "Epoch 00027: val_acc improved from 0.62245 to 0.64796, saving model to /Users/pablouribepizarro/Desktop/CIAE/CIBL/model_weights/model_2-027-0.713921-0.647959.h5\n",
      "Epoch 28/70\n",
      " - 0s - loss: 0.7130 - acc: 0.7267 - val_loss: 0.9501 - val_acc: 0.6327\n",
      "\n",
      "Epoch 00028: val_acc did not improve from 0.64796\n",
      "Epoch 29/70\n",
      " - 0s - loss: 0.7105 - acc: 0.7280 - val_loss: 0.9903 - val_acc: 0.6046\n",
      "\n",
      "Epoch 00029: val_acc did not improve from 0.64796\n",
      "Epoch 30/70\n",
      " - 0s - loss: 0.7067 - acc: 0.7267 - val_loss: 0.9438 - val_acc: 0.6480\n",
      "\n",
      "Epoch 00030: val_acc did not improve from 0.64796\n",
      "Epoch 31/70\n",
      " - 0s - loss: 0.6741 - acc: 0.7452 - val_loss: 0.9615 - val_acc: 0.6454\n",
      "\n",
      "Epoch 00031: val_acc did not improve from 0.64796\n",
      "Epoch 32/70\n",
      " - 0s - loss: 0.6682 - acc: 0.7458 - val_loss: 0.9458 - val_acc: 0.6429\n",
      "\n",
      "Epoch 00032: val_acc did not improve from 0.64796\n",
      "Epoch 33/70\n",
      " - 0s - loss: 0.6670 - acc: 0.7395 - val_loss: 0.9585 - val_acc: 0.6352\n",
      "\n",
      "Epoch 00033: val_acc did not improve from 0.64796\n",
      "Epoch 34/70\n",
      " - 0s - loss: 0.6641 - acc: 0.7542 - val_loss: 0.9430 - val_acc: 0.6429\n",
      "\n",
      "Epoch 00034: val_acc did not improve from 0.64796\n",
      "Epoch 35/70\n",
      " - 0s - loss: 0.6519 - acc: 0.7669 - val_loss: 0.9369 - val_acc: 0.6760\n",
      "\n",
      "Epoch 00035: val_acc improved from 0.64796 to 0.67602, saving model to /Users/pablouribepizarro/Desktop/CIAE/CIBL/model_weights/model_2-035-0.766922-0.676020.h5\n",
      "Epoch 36/70\n",
      " - 0s - loss: 0.6277 - acc: 0.7663 - val_loss: 0.9234 - val_acc: 0.6505\n",
      "\n",
      "Epoch 00036: val_acc did not improve from 0.67602\n",
      "Epoch 37/70\n",
      " - 0s - loss: 0.6183 - acc: 0.7605 - val_loss: 0.9492 - val_acc: 0.6607\n",
      "\n",
      "Epoch 00037: val_acc did not improve from 0.67602\n",
      "Epoch 38/70\n",
      " - 0s - loss: 0.6286 - acc: 0.7548 - val_loss: 0.9512 - val_acc: 0.6327\n",
      "\n",
      "Epoch 00038: val_acc did not improve from 0.67602\n",
      "Epoch 39/70\n",
      " - 0s - loss: 0.6169 - acc: 0.7612 - val_loss: 0.9145 - val_acc: 0.6786\n",
      "\n",
      "Epoch 00039: val_acc improved from 0.67602 to 0.67857, saving model to /Users/pablouribepizarro/Desktop/CIAE/CIBL/model_weights/model_2-039-0.761175-0.678571.h5\n",
      "Epoch 40/70\n",
      " - 0s - loss: 0.5790 - acc: 0.7861 - val_loss: 0.9422 - val_acc: 0.6633\n",
      "\n",
      "Epoch 00040: val_acc did not improve from 0.67857\n",
      "Epoch 41/70\n",
      " - 0s - loss: 0.5771 - acc: 0.7835 - val_loss: 0.8916 - val_acc: 0.6735\n",
      "\n",
      "Epoch 00041: val_acc did not improve from 0.67857\n",
      "Epoch 42/70\n",
      " - 0s - loss: 0.5747 - acc: 0.7759 - val_loss: 0.9139 - val_acc: 0.6811\n",
      "\n",
      "Epoch 00042: val_acc improved from 0.67857 to 0.68112, saving model to /Users/pablouribepizarro/Desktop/CIAE/CIBL/model_weights/model_2-042-0.775862-0.681122.h5\n",
      "Epoch 43/70\n",
      " - 0s - loss: 0.5668 - acc: 0.7810 - val_loss: 0.9084 - val_acc: 0.6709\n",
      "\n",
      "Epoch 00043: val_acc did not improve from 0.68112\n",
      "Epoch 44/70\n",
      " - 0s - loss: 0.5513 - acc: 0.7912 - val_loss: 0.9109 - val_acc: 0.6990\n",
      "\n",
      "Epoch 00044: val_acc improved from 0.68112 to 0.69898, saving model to /Users/pablouribepizarro/Desktop/CIAE/CIBL/model_weights/model_2-044-0.791188-0.698980.h5\n",
      "Epoch 45/70\n",
      " - 0s - loss: 0.5527 - acc: 0.7969 - val_loss: 0.9133 - val_acc: 0.6607\n",
      "\n",
      "Epoch 00045: val_acc did not improve from 0.69898\n",
      "Epoch 46/70\n",
      " - 0s - loss: 0.5421 - acc: 0.7982 - val_loss: 0.9136 - val_acc: 0.6735\n",
      "\n",
      "Epoch 00046: val_acc did not improve from 0.69898\n",
      "Epoch 47/70\n",
      " - 0s - loss: 0.5475 - acc: 0.7880 - val_loss: 0.9113 - val_acc: 0.6760\n"
     ]
    },
    {
     "name": "stdout",
     "output_type": "stream",
     "text": [
      "\n",
      "Epoch 00047: val_acc did not improve from 0.69898\n",
      "Epoch 48/70\n",
      " - 0s - loss: 0.5364 - acc: 0.8040 - val_loss: 0.9067 - val_acc: 0.6862\n",
      "\n",
      "Epoch 00048: val_acc did not improve from 0.69898\n",
      "Epoch 49/70\n",
      " - 0s - loss: 0.5016 - acc: 0.8142 - val_loss: 0.9159 - val_acc: 0.6786\n",
      "\n",
      "Epoch 00049: val_acc did not improve from 0.69898\n",
      "Epoch 50/70\n",
      " - 0s - loss: 0.5024 - acc: 0.8123 - val_loss: 0.9144 - val_acc: 0.6913\n",
      "\n",
      "Epoch 00050: val_acc did not improve from 0.69898\n",
      "Epoch 51/70\n",
      " - 0s - loss: 0.4931 - acc: 0.8206 - val_loss: 0.9069 - val_acc: 0.7143\n",
      "\n",
      "Epoch 00051: val_acc improved from 0.69898 to 0.71429, saving model to /Users/pablouribepizarro/Desktop/CIAE/CIBL/model_weights/model_2-051-0.820562-0.714286.h5\n",
      "Epoch 52/70\n",
      " - 0s - loss: 0.5188 - acc: 0.8033 - val_loss: 0.8972 - val_acc: 0.6786\n",
      "\n",
      "Epoch 00052: val_acc did not improve from 0.71429\n",
      "Epoch 53/70\n",
      " - 0s - loss: 0.5063 - acc: 0.8110 - val_loss: 0.8987 - val_acc: 0.6888\n",
      "\n",
      "Epoch 00053: val_acc did not improve from 0.71429\n",
      "Epoch 54/70\n",
      " - 0s - loss: 0.4904 - acc: 0.8161 - val_loss: 0.8952 - val_acc: 0.6990\n",
      "\n",
      "Epoch 00054: val_acc did not improve from 0.71429\n",
      "Epoch 55/70\n",
      " - 0s - loss: 0.4797 - acc: 0.8225 - val_loss: 0.8897 - val_acc: 0.6990\n",
      "\n",
      "Epoch 00055: val_acc did not improve from 0.71429\n",
      "Epoch 56/70\n",
      " - 0s - loss: 0.4596 - acc: 0.8276 - val_loss: 0.9298 - val_acc: 0.6913\n",
      "\n",
      "Epoch 00056: val_acc did not improve from 0.71429\n",
      "Epoch 57/70\n",
      " - 0s - loss: 0.4587 - acc: 0.8238 - val_loss: 0.9736 - val_acc: 0.6760\n",
      "\n",
      "Epoch 00057: val_acc did not improve from 0.71429\n",
      "Epoch 58/70\n",
      " - 0s - loss: 0.4607 - acc: 0.8269 - val_loss: 0.9164 - val_acc: 0.7066\n",
      "\n",
      "Epoch 00058: val_acc did not improve from 0.71429\n",
      "Epoch 59/70\n",
      " - 0s - loss: 0.4606 - acc: 0.8244 - val_loss: 0.9061 - val_acc: 0.7041\n",
      "\n",
      "Epoch 00059: val_acc did not improve from 0.71429\n",
      "Epoch 60/70\n",
      " - 0s - loss: 0.4442 - acc: 0.8397 - val_loss: 0.9435 - val_acc: 0.6735\n",
      "\n",
      "Epoch 00060: val_acc did not improve from 0.71429\n",
      "Epoch 61/70\n",
      " - 0s - loss: 0.4449 - acc: 0.8333 - val_loss: 0.9327 - val_acc: 0.7041\n",
      "\n",
      "Epoch 00061: val_acc did not improve from 0.71429\n",
      "Epoch 62/70\n",
      " - 0s - loss: 0.4531 - acc: 0.8295 - val_loss: 0.9624 - val_acc: 0.6760\n",
      "\n",
      "Epoch 00062: val_acc did not improve from 0.71429\n",
      "Epoch 63/70\n",
      " - 0s - loss: 0.4192 - acc: 0.8461 - val_loss: 0.9608 - val_acc: 0.6939\n",
      "\n",
      "Epoch 00063: val_acc did not improve from 0.71429\n",
      "Epoch 64/70\n",
      " - 0s - loss: 0.4356 - acc: 0.8308 - val_loss: 0.9304 - val_acc: 0.6888\n",
      "\n",
      "Epoch 00064: val_acc did not improve from 0.71429\n",
      "Epoch 65/70\n",
      " - 0s - loss: 0.4119 - acc: 0.8493 - val_loss: 0.9570 - val_acc: 0.7092\n",
      "\n",
      "Epoch 00065: val_acc did not improve from 0.71429\n",
      "Epoch 66/70\n",
      " - 0s - loss: 0.4234 - acc: 0.8436 - val_loss: 0.9135 - val_acc: 0.7117\n",
      "\n",
      "Epoch 00066: val_acc did not improve from 0.71429\n",
      "Epoch 67/70\n",
      " - 0s - loss: 0.4287 - acc: 0.8359 - val_loss: 0.9377 - val_acc: 0.7015\n",
      "\n",
      "Epoch 00067: val_acc did not improve from 0.71429\n",
      "Epoch 68/70\n",
      " - 0s - loss: 0.4127 - acc: 0.8448 - val_loss: 0.9408 - val_acc: 0.7143\n",
      "\n",
      "Epoch 00068: val_acc did not improve from 0.71429\n",
      "Epoch 69/70\n",
      " - 0s - loss: 0.4006 - acc: 0.8531 - val_loss: 0.9024 - val_acc: 0.7117\n",
      "\n",
      "Epoch 00069: val_acc did not improve from 0.71429\n",
      "Epoch 70/70\n",
      " - 0s - loss: 0.3933 - acc: 0.8557 - val_loss: 0.9614 - val_acc: 0.6990\n",
      "\n",
      "Epoch 00070: val_acc did not improve from 0.71429\n"
     ]
    },
    {
     "data": {
      "image/png": "[encoded data removed]",
      "text/plain": [
       "<Figure size 432x288 with 1 Axes>"
      ]
     },
     "metadata": {
      "needs_background": "light"
     },
     "output_type": "display_data"
    }
   ],
   "source": [
    "checkpoint2 = ModelCheckpoint('/Users/pablouribepizarro/Desktop/CIAE/CIBL/model_weights/model_2-{epoch:03d}-{acc:03f}-{val_acc:03f}.h5', \n",
    "                             verbose=1, monitor='val_acc',save_best_only=True, mode='auto')\n",
    "\n",
    "history = model_2.fit(X_train, y_train, epochs=70, batch_size=64, \n",
    "                      validation_data=(X_test, y_test), verbose=2, shuffle=True, callbacks = [checkpoint2])\n",
    "# plot history\n",
    "plt.plot(history.history['loss'], label='train')\n",
    "plt.plot(history.history['val_loss'], label='test')\n",
    "plt.legend()\n",
    "plt.show()"
   ]
  },
  {
   "cell_type": "code",
   "execution_count": 103,
   "metadata": {},
   "outputs": [
    {
     "data": {
      "text/plain": [
       "0.6989795918367347"
      ]
     },
     "execution_count": 103,
     "metadata": {},
     "output_type": "execute_result"
    }
   ],
   "source": [
    "y_pred_2 = model_2.predict(X_test).argmax(axis=-1)\n",
    "results = confusion_matrix(y_real, y_pred_2)\n",
    "accuracy_score(y_real, y_pred_2)"
   ]
  },
  {
   "cell_type": "code",
   "execution_count": 104,
   "metadata": {},
   "outputs": [
    {
     "name": "stdout",
     "output_type": "stream",
     "text": [
      "[[77  2  5  0 24]\n",
      " [ 9 20  6  0  7]\n",
      " [ 2  0 79  0 21]\n",
      " [ 1  0  1  4  5]\n",
      " [15  0 16  4 94]]\n",
      "              precision    recall  f1-score   support\n",
      "\n",
      "           0       0.86      0.87      0.87       108\n",
      "           1       1.00      0.79      0.88        42\n",
      "           2       0.79      0.79      0.79       102\n",
      "           3       0.27      0.36      0.31        11\n",
      "           4       0.77      0.80      0.79       129\n",
      "\n",
      "    accuracy                           0.80       392\n",
      "   macro avg       0.74      0.72      0.73       392\n",
      "weighted avg       0.81      0.80      0.81       392\n",
      "\n"
     ]
    }
   ],
   "source": [
    "print(results)\n",
    "print(classification_report(y_real, y_pred))\n",
    "#AUC"
   ]
  },
  {
   "cell_type": "code",
   "execution_count": 105,
   "metadata": {},
   "outputs": [
    {
     "data": {
      "text/plain": [
       "<matplotlib.axes._subplots.AxesSubplot at 0x1a719a6780>"
      ]
     },
     "execution_count": 105,
     "metadata": {},
     "output_type": "execute_result"
    },
    {
     "data": {
      "image/png": "[encoded data removed]",
      "text/plain": [
       "<Figure size 720x504 with 2 Axes>"
      ]
     },
     "metadata": {},
     "output_type": "display_data"
    }
   ],
   "source": [
    "import seaborn as sns\n",
    "df_cm = pd.DataFrame(results, index = range(5),\n",
    "                  columns = range(5))\n",
    "plt.figure(figsize = (10,7))\n",
    "sns.set(font_scale=1.4)\n",
    "sns.heatmap(df_cm, annot=True, cmap=\"YlGnBu\")"
   ]
  },
  {
   "cell_type": "markdown",
   "metadata": {},
   "source": [
    "## 3.2 Trained Embeddings - LSTM "
   ]
  },
  {
   "cell_type": "code",
   "execution_count": 118,
   "metadata": {},
   "outputs": [],
   "source": [
    "model_3 = Sequential()\n",
    "model_3.add(Embedding(max_vocab,weights=[embedding_matrix],trainable=False,input_length=max_length*3,output_dim=200))\n",
    "model_3.add(LSTM(128, return_sequences=True,\n",
    "               input_shape=(200, max_length),recurrent_dropout = 0.1))\n",
    "model_3.add(Dropout(0.3))\n",
    "model_3.add(LSTM(128, return_sequences=True,\n",
    "               input_shape=(200, max_length),recurrent_dropout = 0.1))\n",
    "model_3.add(Dropout(0.3))\n",
    "model_3.add(LSTM(128))\n",
    "model_3.add(Dropout(0.3))\n",
    "model_3.add(Dense(5, activation='softmax'))\n",
    "\n",
    "model_3.compile(loss='categorical_crossentropy',\n",
    "              optimizer='adam',\n",
    "              metrics=['accuracy'])"
   ]
  },
  {
   "cell_type": "code",
   "execution_count": 119,
   "metadata": {},
   "outputs": [
    {
     "name": "stdout",
     "output_type": "stream",
     "text": [
      "_________________________________________________________________\n",
      "Layer (type)                 Output Shape              Param #   \n",
      "=================================================================\n",
      "embedding_13 (Embedding)     (None, 60, 200)           2000000   \n",
      "_________________________________________________________________\n",
      "lstm_4 (LSTM)                (None, 60, 128)           168448    \n",
      "_________________________________________________________________\n",
      "dropout_14 (Dropout)         (None, 60, 128)           0         \n",
      "_________________________________________________________________\n",
      "lstm_5 (LSTM)                (None, 60, 128)           131584    \n",
      "_________________________________________________________________\n",
      "dropout_15 (Dropout)         (None, 60, 128)           0         \n",
      "_________________________________________________________________\n",
      "lstm_6 (LSTM)                (None, 128)               131584    \n",
      "_________________________________________________________________\n",
      "dropout_16 (Dropout)         (None, 128)               0         \n",
      "_________________________________________________________________\n",
      "dense_24 (Dense)             (None, 5)                 645       \n",
      "=================================================================\n",
      "Total params: 2,432,261\n",
      "Trainable params: 432,261\n",
      "Non-trainable params: 2,000,000\n",
      "_________________________________________________________________\n"
     ]
    }
   ],
   "source": [
    "model_3.summary()"
   ]
  },
  {
   "cell_type": "code",
   "execution_count": 120,
   "metadata": {
    "scrolled": true
   },
   "outputs": [
    {
     "name": "stdout",
     "output_type": "stream",
     "text": [
      "Train on 1566 samples, validate on 392 samples\n",
      "Epoch 1/30\n",
      " - 30s - loss: 1.4814 - acc: 0.3531 - val_loss: 1.3803 - val_acc: 0.3801\n",
      "Epoch 2/30\n",
      " - 22s - loss: 1.3699 - acc: 0.4004 - val_loss: 1.3056 - val_acc: 0.4617\n",
      "Epoch 3/30\n",
      " - 24s - loss: 1.3028 - acc: 0.4432 - val_loss: 1.3227 - val_acc: 0.4337\n",
      "Epoch 4/30\n",
      " - 23s - loss: 1.2935 - acc: 0.4559 - val_loss: 1.2666 - val_acc: 0.4413\n",
      "Epoch 5/30\n",
      " - 24s - loss: 1.2707 - acc: 0.4515 - val_loss: 1.2407 - val_acc: 0.4617\n",
      "Epoch 6/30\n",
      " - 24s - loss: 1.2287 - acc: 0.4847 - val_loss: 1.2515 - val_acc: 0.4439\n",
      "Epoch 7/30\n",
      " - 21s - loss: 1.2447 - acc: 0.4732 - val_loss: 1.2573 - val_acc: 0.4592\n",
      "Epoch 8/30\n",
      " - 22s - loss: 1.1831 - acc: 0.5121 - val_loss: 1.2074 - val_acc: 0.4796\n",
      "Epoch 9/30\n",
      " - 24s - loss: 1.1567 - acc: 0.5338 - val_loss: 1.1898 - val_acc: 0.4949\n",
      "Epoch 10/30\n",
      " - 22s - loss: 1.0844 - acc: 0.5792 - val_loss: 1.2224 - val_acc: 0.5179\n",
      "Epoch 11/30\n",
      " - 23s - loss: 1.0785 - acc: 0.5881 - val_loss: 1.1705 - val_acc: 0.5306\n",
      "Epoch 12/30\n",
      " - 24s - loss: 1.0690 - acc: 0.5977 - val_loss: 1.2016 - val_acc: 0.4974\n",
      "Epoch 13/30\n",
      " - 23s - loss: 1.0815 - acc: 0.5830 - val_loss: 1.1485 - val_acc: 0.5689\n",
      "Epoch 14/30\n",
      " - 23s - loss: 1.0154 - acc: 0.6213 - val_loss: 1.1256 - val_acc: 0.5689\n",
      "Epoch 15/30\n",
      " - 23s - loss: 1.0047 - acc: 0.6290 - val_loss: 1.1196 - val_acc: 0.5612\n",
      "Epoch 16/30\n",
      " - 23s - loss: 0.9422 - acc: 0.6552 - val_loss: 1.1728 - val_acc: 0.5561\n",
      "Epoch 17/30\n",
      " - 23s - loss: 0.9341 - acc: 0.6513 - val_loss: 1.1481 - val_acc: 0.5536\n",
      "Epoch 18/30\n",
      " - 23s - loss: 0.9032 - acc: 0.6628 - val_loss: 1.1408 - val_acc: 0.5765\n",
      "Epoch 19/30\n",
      " - 23s - loss: 0.9077 - acc: 0.6750 - val_loss: 1.1288 - val_acc: 0.5510\n",
      "Epoch 20/30\n",
      " - 21s - loss: 0.8795 - acc: 0.6922 - val_loss: 1.1402 - val_acc: 0.5714\n",
      "Epoch 21/30\n",
      " - 21s - loss: 0.8738 - acc: 0.6865 - val_loss: 1.2630 - val_acc: 0.5204\n",
      "Epoch 22/30\n",
      " - 21s - loss: 0.9901 - acc: 0.6201 - val_loss: 1.1314 - val_acc: 0.5408\n",
      "Epoch 23/30\n",
      " - 21s - loss: 0.8363 - acc: 0.6999 - val_loss: 1.1649 - val_acc: 0.5918\n",
      "Epoch 24/30\n",
      " - 20s - loss: 0.8357 - acc: 0.7037 - val_loss: 1.0949 - val_acc: 0.5612\n",
      "Epoch 25/30\n",
      " - 24s - loss: 0.8185 - acc: 0.7165 - val_loss: 1.1652 - val_acc: 0.5689\n",
      "Epoch 26/30\n",
      " - 24s - loss: 0.7541 - acc: 0.7267 - val_loss: 1.1483 - val_acc: 0.5663\n",
      "Epoch 27/30\n",
      " - 22s - loss: 0.7229 - acc: 0.7420 - val_loss: 1.1682 - val_acc: 0.5765\n",
      "Epoch 28/30\n",
      " - 22s - loss: 0.7534 - acc: 0.7248 - val_loss: 1.1087 - val_acc: 0.5842\n",
      "Epoch 29/30\n",
      " - 23s - loss: 0.7074 - acc: 0.7503 - val_loss: 1.1077 - val_acc: 0.5842\n",
      "Epoch 30/30\n",
      " - 22s - loss: 0.6624 - acc: 0.7625 - val_loss: 1.1147 - val_acc: 0.5816\n"
     ]
    },
    {
     "data": {
      "image/png": "[encoded data removed]",
      "text/plain": [
       "<Figure size 432x288 with 1 Axes>"
      ]
     },
     "metadata": {
      "needs_background": "light"
     },
     "output_type": "display_data"
    }
   ],
   "source": [
    "history = model_3.fit(X_train, y_train, epochs=30, batch_size=128, \n",
    "                      validation_data=(X_test, y_test), verbose=2, shuffle=True)\n",
    "# plot history\n",
    "plt.plot(history.history['loss'], label='train')\n",
    "plt.plot(history.history['val_loss'], label='test')\n",
    "plt.legend()\n",
    "plt.show()"
   ]
  },
  {
   "cell_type": "code",
   "execution_count": 121,
   "metadata": {},
   "outputs": [
    {
     "data": {
      "text/plain": [
       "0.5816326530612245"
      ]
     },
     "execution_count": 121,
     "metadata": {},
     "output_type": "execute_result"
    }
   ],
   "source": [
    "y_pred_3 = model_3.predict(X_test).argmax(axis=-1)\n",
    "results = confusion_matrix(y_real, y_pred_3)\n",
    "accuracy_score(y_real, y_pred_3)"
   ]
  },
  {
   "cell_type": "code",
   "execution_count": null,
   "metadata": {},
   "outputs": [],
   "source": [
    "import seaborn as sns\n",
    "df_cm = pd.DataFrame(results, index = range(5),\n",
    "                  columns = range(5))\n",
    "plt.figure(figsize = (10,7))\n",
    "sns.set(font_scale=1.4)\n",
    "sns.heatmap(df_cm, annot=True, cmap=\"YlGnBu\")"
   ]
  },
  {
   "cell_type": "markdown",
   "metadata": {},
   "source": [
    "## 3.3 Trained Embeddings - CNN"
   ]
  },
  {
   "cell_type": "code",
   "execution_count": 106,
   "metadata": {},
   "outputs": [
    {
     "name": "stderr",
     "output_type": "stream",
     "text": [
      "W1008 00:29:02.507683 140736196957056 deprecation_wrapper.py:119] From /Users/pablouribepizarro/anaconda3/lib/python3.7/site-packages/keras/backend/tensorflow_backend.py:3976: The name tf.nn.max_pool is deprecated. Please use tf.nn.max_pool2d instead.\n",
      "\n"
     ]
    }
   ],
   "source": [
    "model_4 = Sequential()\n",
    "model_4.add(Embedding(max_vocab,weights=[embedding_matrix],trainable=False,input_length=max_length*3,output_dim=200))\n",
    "model_4.add(Conv1D(128, 10, activation='relu'))\n",
    "model_4.add(MaxPooling1D(5))\n",
    "model_4.add(Dropout(0.5))\n",
    "model_4.add(Flatten())\n",
    "model_4.add(Dense(128, activation='relu'))\n",
    "model_4.add(Dropout(0.5))\n",
    "model_4.add(Dense(5, activation='softmax'))\n",
    "\n",
    "model_4.compile(loss='categorical_crossentropy',\n",
    "              optimizer='adam',\n",
    "              metrics=['accuracy'])"
   ]
  },
  {
   "cell_type": "code",
   "execution_count": 107,
   "metadata": {
    "scrolled": true
   },
   "outputs": [
    {
     "name": "stdout",
     "output_type": "stream",
     "text": [
      "Train on 1566 samples, validate on 392 samples\n",
      "Epoch 1/40\n",
      " - 5s - loss: 1.4441 - acc: 0.3665 - val_loss: 1.3328 - val_acc: 0.4260\n",
      "Epoch 2/40\n",
      " - 3s - loss: 1.2845 - acc: 0.4604 - val_loss: 1.3172 - val_acc: 0.4413\n",
      "Epoch 3/40\n",
      " - 3s - loss: 1.1837 - acc: 0.5383 - val_loss: 1.2391 - val_acc: 0.5102\n",
      "Epoch 4/40\n",
      " - 3s - loss: 1.0635 - acc: 0.5817 - val_loss: 1.1609 - val_acc: 0.5383\n",
      "Epoch 5/40\n",
      " - 3s - loss: 0.9028 - acc: 0.6590 - val_loss: 1.1115 - val_acc: 0.5485\n",
      "Epoch 6/40\n",
      " - 3s - loss: 0.7386 - acc: 0.7248 - val_loss: 1.0254 - val_acc: 0.5944\n",
      "Epoch 7/40\n",
      " - 3s - loss: 0.5898 - acc: 0.7950 - val_loss: 0.9976 - val_acc: 0.6148\n",
      "Epoch 8/40\n",
      " - 3s - loss: 0.4649 - acc: 0.8359 - val_loss: 0.9718 - val_acc: 0.6148\n",
      "Epoch 9/40\n",
      " - 3s - loss: 0.3557 - acc: 0.8838 - val_loss: 0.9684 - val_acc: 0.6556\n",
      "Epoch 10/40\n",
      " - 3s - loss: 0.2920 - acc: 0.9106 - val_loss: 0.9776 - val_acc: 0.6531\n",
      "Epoch 11/40\n",
      " - 3s - loss: 0.2274 - acc: 0.9291 - val_loss: 0.9481 - val_acc: 0.6760\n",
      "Epoch 12/40\n",
      " - 3s - loss: 0.1597 - acc: 0.9623 - val_loss: 0.9206 - val_acc: 0.7015\n",
      "Epoch 13/40\n",
      " - 3s - loss: 0.1333 - acc: 0.9610 - val_loss: 1.0276 - val_acc: 0.6735\n",
      "Epoch 14/40\n",
      " - 3s - loss: 0.1300 - acc: 0.9662 - val_loss: 0.9848 - val_acc: 0.6709\n",
      "Epoch 15/40\n",
      " - 3s - loss: 0.1042 - acc: 0.9700 - val_loss: 1.1368 - val_acc: 0.6582\n",
      "Epoch 16/40\n",
      " - 3s - loss: 0.0837 - acc: 0.9808 - val_loss: 0.9551 - val_acc: 0.7219\n",
      "Epoch 17/40\n",
      " - 3s - loss: 0.0885 - acc: 0.9745 - val_loss: 1.0531 - val_acc: 0.6658\n",
      "Epoch 18/40\n",
      " - 3s - loss: 0.0740 - acc: 0.9808 - val_loss: 1.0729 - val_acc: 0.6837\n",
      "Epoch 19/40\n",
      " - 3s - loss: 0.0581 - acc: 0.9885 - val_loss: 0.9865 - val_acc: 0.6939\n",
      "Epoch 20/40\n",
      " - 3s - loss: 0.0608 - acc: 0.9853 - val_loss: 1.1560 - val_acc: 0.6888\n",
      "Epoch 21/40\n",
      " - 3s - loss: 0.0619 - acc: 0.9840 - val_loss: 1.0945 - val_acc: 0.6837\n",
      "Epoch 22/40\n",
      " - 3s - loss: 0.0491 - acc: 0.9898 - val_loss: 1.0498 - val_acc: 0.6862\n",
      "Epoch 23/40\n",
      " - 3s - loss: 0.0391 - acc: 0.9930 - val_loss: 1.1036 - val_acc: 0.6888\n",
      "Epoch 24/40\n",
      " - 3s - loss: 0.0394 - acc: 0.9898 - val_loss: 1.1497 - val_acc: 0.6990\n",
      "Epoch 25/40\n",
      " - 3s - loss: 0.0368 - acc: 0.9885 - val_loss: 1.2018 - val_acc: 0.7015\n",
      "Epoch 26/40\n",
      " - 3s - loss: 0.0418 - acc: 0.9866 - val_loss: 1.0825 - val_acc: 0.6964\n",
      "Epoch 27/40\n",
      " - 3s - loss: 0.0337 - acc: 0.9930 - val_loss: 1.2054 - val_acc: 0.6964\n",
      "Epoch 28/40\n",
      " - 3s - loss: 0.0296 - acc: 0.9930 - val_loss: 1.1629 - val_acc: 0.7066\n",
      "Epoch 29/40\n",
      " - 3s - loss: 0.0316 - acc: 0.9923 - val_loss: 1.0922 - val_acc: 0.7143\n",
      "Epoch 30/40\n",
      " - 3s - loss: 0.0340 - acc: 0.9898 - val_loss: 1.1652 - val_acc: 0.6888\n",
      "Epoch 31/40\n",
      " - 3s - loss: 0.0364 - acc: 0.9904 - val_loss: 1.0912 - val_acc: 0.7347\n",
      "Epoch 32/40\n",
      " - 3s - loss: 0.0233 - acc: 0.9943 - val_loss: 1.1437 - val_acc: 0.7092\n",
      "Epoch 33/40\n",
      " - 3s - loss: 0.0296 - acc: 0.9943 - val_loss: 1.1359 - val_acc: 0.6990\n",
      "Epoch 34/40\n",
      " - 3s - loss: 0.0332 - acc: 0.9911 - val_loss: 1.2600 - val_acc: 0.6811\n",
      "Epoch 35/40\n",
      " - 3s - loss: 0.0312 - acc: 0.9891 - val_loss: 1.2829 - val_acc: 0.6964\n",
      "Epoch 36/40\n",
      " - 3s - loss: 0.0290 - acc: 0.9943 - val_loss: 1.1907 - val_acc: 0.7194\n",
      "Epoch 37/40\n",
      " - 3s - loss: 0.0259 - acc: 0.9923 - val_loss: 1.1550 - val_acc: 0.7041\n",
      "Epoch 38/40\n",
      " - 3s - loss: 0.0265 - acc: 0.9930 - val_loss: 1.2537 - val_acc: 0.6862\n",
      "Epoch 39/40\n",
      " - 3s - loss: 0.0291 - acc: 0.9911 - val_loss: 1.2566 - val_acc: 0.7143\n",
      "Epoch 40/40\n",
      " - 3s - loss: 0.0424 - acc: 0.9853 - val_loss: 1.3145 - val_acc: 0.6913\n"
     ]
    },
    {
     "data": {
      "image/png": "[encoded data removed]",
      "text/plain": [
       "<Figure size 432x288 with 1 Axes>"
      ]
     },
     "metadata": {},
     "output_type": "display_data"
    }
   ],
   "source": [
    "history = model_4.fit(X_train, y_train, epochs=40, batch_size=64, \n",
    "                      validation_data=(X_test, y_test), verbose=2, shuffle=True)\n",
    "# plot history\n",
    "plt.plot(history.history['loss'], label='train')\n",
    "plt.plot(history.history['val_loss'], label='test')\n",
    "plt.legend()\n",
    "plt.show()"
   ]
  },
  {
   "cell_type": "code",
   "execution_count": 108,
   "metadata": {},
   "outputs": [
    {
     "data": {
      "text/plain": [
       "0.6913265306122449"
      ]
     },
     "execution_count": 108,
     "metadata": {},
     "output_type": "execute_result"
    }
   ],
   "source": [
    "y_pred_4 = model_4.predict(X_test).argmax(axis=-1)\n",
    "results = confusion_matrix(y_real, y_pred_4)\n",
    "accuracy_score(y_real, y_pred_4)"
   ]
  },
  {
   "cell_type": "code",
   "execution_count": 109,
   "metadata": {},
   "outputs": [
    {
     "data": {
      "text/plain": [
       "<matplotlib.axes._subplots.AxesSubplot at 0x1a719a62e8>"
      ]
     },
     "execution_count": 109,
     "metadata": {},
     "output_type": "execute_result"
    },
    {
     "data": {
      "image/png": "[encoded data removed]",
      "text/plain": [
       "<Figure size 720x504 with 2 Axes>"
      ]
     },
     "metadata": {},
     "output_type": "display_data"
    }
   ],
   "source": [
    "import seaborn as sns\n",
    "df_cm = pd.DataFrame(results, index = range(5),\n",
    "                  columns = range(5))\n",
    "plt.figure(figsize = (10,7))\n",
    "sns.set(font_scale=1.4)\n",
    "sns.heatmap(df_cm, annot=True, cmap=\"YlGnBu\")"
   ]
  },
  {
   "cell_type": "markdown",
   "metadata": {},
   "source": [
    "## 3.4 Vector Representation of Pre-Trainned Embeddings "
   ]
  },
  {
   "cell_type": "code",
   "execution_count": 110,
   "metadata": {},
   "outputs": [],
   "source": [
    "embeddings = model_2.layers[0].get_weights()[0]\n",
    "#Tokenizer\n",
    "words_embeddings = [embeddings[t.texts_to_sequences([word])[0][0]] for word in list(t.word_index.keys())]"
   ]
  },
  {
   "cell_type": "code",
   "execution_count": 111,
   "metadata": {},
   "outputs": [],
   "source": [
    "#Proyection in 2 components\n",
    "\n",
    "\n",
    "#embeddings_proyected = TSNE(n_components=2).fit_transform(words_embeddings)\n",
    "embeddings_proyected = PCA().fit_transform(words_embeddings)"
   ]
  },
  {
   "cell_type": "code",
   "execution_count": 112,
   "metadata": {},
   "outputs": [],
   "source": [
    "word_df = pd.DataFrame(embeddings_proyected)\n",
    "word_df['Finnish'] = list(t.word_index.keys())"
   ]
  },
  {
   "cell_type": "code",
   "execution_count": 113,
   "metadata": {},
   "outputs": [
    {
     "data": {
      "image/png": "[encoded data removed]",
      "text/plain": [
       "<Figure size 432x432 with 1 Axes>"
      ]
     },
     "metadata": {
      "needs_background": "light"
     },
     "output_type": "display_data"
    }
   ],
   "source": [
    "import matplotlib.pyplot as plt\n",
    "%matplotlib inline\n",
    "\n",
    "plt.figure(figsize=(6,6))\n",
    "data = word_df.loc[word_df['Finnish'].isin(finnish_list)].reset_index()\n",
    "#data = word_df.sample(50).reset_index()\n",
    "types = [dictionary.get(name) for name in data['Finnish'].values]\n",
    "#types = data['Finnish']\n",
    "x_coords = data[0]\n",
    "y_coords = data[1]\n",
    "\n",
    "for i,type in enumerate(types):\n",
    "    x = x_coords[i]\n",
    "    y = y_coords[i]\n",
    "    plt.scatter(x, y, marker='x', color='red')\n",
    "    plt.text(x, y, type, fontsize=9)\n",
    "plt.show()"
   ]
  },
  {
   "cell_type": "markdown",
   "metadata": {},
   "source": [
    "## Document Splitting and Model Training"
   ]
  },
  {
   "cell_type": "code",
   "execution_count": 53,
   "metadata": {
    "scrolled": true
   },
   "outputs": [
    {
     "name": "stderr",
     "output_type": "stream",
     "text": [
      "/Users/pablouribepizarro/anaconda3/lib/python3.7/site-packages/ipykernel_launcher.py:11: FutureWarning: Sorting because non-concatenation axis is not aligned. A future version\n",
      "of pandas will change to not sort by default.\n",
      "\n",
      "To accept the future behavior, pass 'sort=False'.\n",
      "\n",
      "To retain the current behavior and silence the warning, pass 'sort=True'.\n",
      "\n",
      "  # This is added back by InteractiveShellApp.init_path()\n"
     ]
    },
    {
     "name": "stdout",
     "output_type": "stream",
     "text": [
      "01 :0.5494505494505495\n",
      "02 :0.5517928286852589\n"
     ]
    },
    {
     "name": "stderr",
     "output_type": "stream",
     "text": [
      "/Users/pablouribepizarro/anaconda3/lib/python3.7/site-packages/ipykernel_launcher.py:18: FutureWarning: Sorting because non-concatenation axis is not aligned. A future version\n",
      "of pandas will change to not sort by default.\n",
      "\n",
      "To accept the future behavior, pass 'sort=False'.\n",
      "\n",
      "To retain the current behavior and silence the warning, pass 'sort=True'.\n",
      "\n"
     ]
    },
    {
     "name": "stdout",
     "output_type": "stream",
     "text": [
      "03 :0.49430523917995445\n",
      "04 :0.4977168949771689\n",
      "05 :0.5079681274900398\n",
      "06 :0.5357142857142857\n",
      "07 :0.5047169811320755\n",
      "08 :0.519916142557652\n",
      "09 :0.5194805194805194\n",
      "010 :0.5162907268170426\n",
      "12 :0.569327731092437\n",
      "13 :0.5326876513317191\n",
      "14 :0.5606796116504854\n",
      "15 :0.5294117647058824\n",
      "16 :0.6370558375634517\n",
      "17 :0.5527638190954773\n",
      "81 :0.5720620842572062\n",
      "19 :0.5766016713091922\n",
      "110 :0.6085790884718498\n",
      "23 :0.5555555555555556\n",
      "24 :0.5733695652173914\n",
      "25 :0.5439814814814815\n",
      "26 :0.6285714285714286\n",
      "27 :0.5677966101694916\n",
      "82 :0.5749385749385749\n",
      "92 :0.580952380952381\n",
      "210 :0.5927051671732523\n",
      "34 :0.5409836065573771\n",
      "35 :0.4878048780487805\n",
      "36 :0.5679442508710801\n",
      "37 :0.5051546391752577\n",
      "83 :0.5319767441860465\n",
      "93 :0.5198412698412699\n",
      "103 :0.48872180451127817\n",
      "45 :0.5163043478260869\n",
      "46 :0.6433566433566433\n",
      "47 :0.5551724137931034\n",
      "84 :0.577259475218659\n",
      "94 :0.5856573705179283\n",
      "104 :0.5811320754716981\n",
      "56 :0.5828571428571429\n",
      "57 :0.5084745762711864\n",
      "85 :0.5036855036855037\n",
      "95 :0.49206349206349204\n",
      "105 :0.5319148936170213\n",
      "67 :0.6286764705882353\n",
      "86 :0.64\n",
      "96 :0.6180257510729614\n",
      "106 :0.6639676113360324\n",
      "87 :0.5592705167173252\n",
      "97 :0.5443037974683544\n",
      "107 :0.5298804780876494\n",
      "89 :0.5586206896551724\n",
      "810 :0.5394736842105263\n",
      "910 :0.5660377358490566\n"
     ]
    }
   ],
   "source": [
    "from itertools import combinations\n",
    "\n",
    "documents_numbers = range(11)\n",
    "couples = list(map(set, combinations(documents_numbers, 2)))\n",
    "max_length = 20\n",
    "dic_acc_1 = {}\n",
    "\n",
    "for couple in couples:\n",
    "    #Split Training and Test Set\n",
    "    training_dfs = [dfs[i] for i in (set(documents_numbers)-couple)]\n",
    "    all_data_train = pd.concat(training_dfs).reset_index()[['Tokenized Utterance','Previous Tokenized Utterance','Next Tokenized Utterance' ,'Phase']].dropna()\n",
    "    X_train = np.concatenate((pad_sequences(all_data_train['Tokenized Utterance'],maxlen=max_length ,padding='post'),\n",
    "         pad_sequences(all_data_train['Previous Tokenized Utterance'],maxlen=max_length ,padding='post'),\n",
    "         pad_sequences(all_data_train['Next Tokenized Utterance'],maxlen=max_length ,padding='post')), axis=1)\n",
    "    y_train = keras.utils.to_categorical(all_data_train['Phase'], num_classes=5, dtype='float32')\n",
    "    \n",
    "    test_dfs = [dfs[i] for i in couple]\n",
    "    all_data_test = pd.concat(test_dfs).reset_index()[['Tokenized Utterance','Previous Tokenized Utterance','Next Tokenized Utterance' ,'Phase']].dropna()\n",
    "    X_test = np.concatenate((pad_sequences(all_data_test['Tokenized Utterance'],maxlen=max_length ,padding='post'),\n",
    "         pad_sequences(all_data_test['Previous Tokenized Utterance'],maxlen=max_length ,padding='post'),\n",
    "         pad_sequences(all_data_test['Next Tokenized Utterance'],maxlen=max_length ,padding='post')), axis=1)\n",
    "    y_test = keras.utils.to_categorical(all_data_test['Phase'], num_classes=5, dtype='float32')\n",
    "    \n",
    "    #Load initial random weights\n",
    "    model.load_weights(r'/Users/pablouribepizarro/Desktop/CIAE/CIBL/model_weights/model.h5')\n",
    "    \n",
    "    #Train and Save Best Model\n",
    "    checkpoint_iter_1 = ModelCheckpoint('/Users/pablouribepizarro/Desktop/CIAE/CIBL/model_weights/model_'+str(list(couple)[0])+str(list(couple)[1])+'.h5', \n",
    "                             verbose=False, monitor='val_acc',save_best_only=True, mode='auto')\n",
    "\n",
    "    history = model.fit(X_train, y_train, epochs=30, batch_size=64, \n",
    "                      validation_data=(X_test, y_test), verbose=False, shuffle=True, callbacks=[checkpoint_iter_1])\n",
    "    \n",
    "    model.load_weights(r'/Users/pablouribepizarro/Desktop/CIAE/CIBL/model_weights/model_'+str(list(couple)[0])+'_'+str(list(couple)[1])+'.h5')\n",
    "    #Save Accuracy Score\n",
    "    y_real = y_test.argmax(axis=-1)\n",
    "    y_pred = model.predict(X_test).argmax(axis=-1)\n",
    "    print(str(list(couple)[0])+str(list(couple)[1])+' :'+str(accuracy_score(y_real, y_pred)))\n",
    "    dic_acc_1[str(couple)] = accuracy_score(y_real, y_pred)"
   ]
  },
  {
   "cell_type": "code",
   "execution_count": 47,
   "metadata": {
    "scrolled": true
   },
   "outputs": [
    {
     "name": "stderr",
     "output_type": "stream",
     "text": [
      "/Users/pablouribepizarro/anaconda3/lib/python3.7/site-packages/ipykernel_launcher.py:5: FutureWarning: Sorting because non-concatenation axis is not aligned. A future version\n",
      "of pandas will change to not sort by default.\n",
      "\n",
      "To accept the future behavior, pass 'sort=False'.\n",
      "\n",
      "To retain the current behavior and silence the warning, pass 'sort=True'.\n",
      "\n",
      "  \"\"\"\n"
     ]
    },
    {
     "name": "stdout",
     "output_type": "stream",
     "text": [
      "01 :0.5146520146520146\n",
      "02 :0.5079681274900398\n"
     ]
    },
    {
     "name": "stderr",
     "output_type": "stream",
     "text": [
      "/Users/pablouribepizarro/anaconda3/lib/python3.7/site-packages/ipykernel_launcher.py:12: FutureWarning: Sorting because non-concatenation axis is not aligned. A future version\n",
      "of pandas will change to not sort by default.\n",
      "\n",
      "To accept the future behavior, pass 'sort=False'.\n",
      "\n",
      "To retain the current behavior and silence the warning, pass 'sort=True'.\n",
      "\n",
      "  if sys.path[0] == '':\n"
     ]
    },
    {
     "name": "stdout",
     "output_type": "stream",
     "text": [
      "03 :0.4715261958997722\n",
      "04 :0.5114155251141552\n",
      "05 :0.4900398406374502\n",
      "06 :0.5380952380952381\n",
      "07 :0.47641509433962265\n",
      "08 :0.480083857442348\n",
      "09 :0.5012987012987012\n",
      "010 :0.5112781954887218\n",
      "12 :0.5357142857142857\n",
      "13 :0.5230024213075061\n",
      "14 :0.5339805825242718\n",
      "15 :0.4894957983193277\n",
      "16 :0.5812182741116751\n",
      "17 :0.5251256281407035\n",
      "81 :0.49002217294900224\n",
      "19 :0.5431754874651811\n",
      "110 :0.5576407506702413\n",
      "23 :0.5176151761517616\n",
      "24 :0.5244565217391305\n",
      "25 :0.5162037037037037\n",
      "26 :0.5828571428571429\n",
      "27 :0.5508474576271186\n",
      "82 :0.5307125307125307\n",
      "92 :0.546031746031746\n",
      "210 :0.5592705167173252\n",
      "34 :0.5245901639344263\n",
      "35 :0.4742547425474255\n",
      "36 :0.5435540069686411\n",
      "37 :0.4536082474226804\n",
      "83 :0.48255813953488375\n",
      "93 :0.49603174603174605\n",
      "103 :0.48872180451127817\n",
      "45 :0.5\n",
      "46 :0.5874125874125874\n",
      "47 :0.5206896551724138\n",
      "84 :0.5276967930029155\n",
      "94 :0.5577689243027888\n",
      "104 :0.5509433962264151\n",
      "56 :0.5171428571428571\n",
      "57 :0.5\n",
      "85 :0.48157248157248156\n",
      "95 :0.5111111111111111\n",
      "105 :0.49240121580547114\n",
      "67 :0.5698529411764706\n",
      "86 :0.5538461538461539\n",
      "96 :0.592274678111588\n",
      "106 :0.5951417004048583\n",
      "87 :0.48328267477203646\n",
      "97 :0.5274261603375527\n",
      "107 :0.5219123505976095\n",
      "89 :0.5275862068965518\n",
      "810 :0.5\n",
      "910 :0.5424528301886793\n"
     ]
    }
   ],
   "source": [
    "dic_acc_2 = {}\n",
    "for couple in couples:\n",
    "    #Split Training and Test Set\n",
    "    training_dfs = [dfs[i] for i in (set(documents_numbers)-couple)]\n",
    "    all_data_train = pd.concat(training_dfs).reset_index()[['Tokenized Utterance','Previous Tokenized Utterance','Next Tokenized Utterance' ,'Phase']].dropna()\n",
    "    X_train = np.concatenate((pad_sequences(all_data_train['Tokenized Utterance'],maxlen=max_length ,padding='post'),\n",
    "         pad_sequences(all_data_train['Previous Tokenized Utterance'],maxlen=max_length ,padding='post'),\n",
    "         pad_sequences(all_data_train['Next Tokenized Utterance'],maxlen=max_length ,padding='post')), axis=1)\n",
    "    y_train = keras.utils.to_categorical(all_data_train['Phase'], num_classes=5, dtype='float32')\n",
    "    \n",
    "    test_dfs = [dfs[i] for i in couple]\n",
    "    all_data_test = pd.concat(test_dfs).reset_index()[['Tokenized Utterance','Previous Tokenized Utterance','Next Tokenized Utterance' ,'Phase']].dropna()\n",
    "    X_test = np.concatenate((pad_sequences(all_data_test['Tokenized Utterance'],maxlen=max_length ,padding='post'),\n",
    "         pad_sequences(all_data_test['Previous Tokenized Utterance'],maxlen=max_length ,padding='post'),\n",
    "         pad_sequences(all_data_test['Next Tokenized Utterance'],maxlen=max_length ,padding='post')), axis=1)\n",
    "    y_test = keras.utils.to_categorical(all_data_test['Phase'], num_classes=5, dtype='float32')\n",
    "    \n",
    "    #Load initial random weights\n",
    "    model_2.load_weights(r'/Users/pablouribepizarro/Desktop/CIAE/CIBL/model_weights/model_2.h5')\n",
    "    \n",
    "    #Train and Save Best Model\n",
    "    checkpoint_iter_2 = ModelCheckpoint('/Users/pablouribepizarro/Desktop/CIAE/CIBL/model_weights/model_2_'+str(list(couple)[0])+str(list(couple)[1])+'.h5', \n",
    "                             verbose=False, monitor='val_acc',save_best_only=True, mode='auto')\n",
    "\n",
    "    history = model_2.fit(X_train, y_train, epochs=40, batch_size=64, \n",
    "                      validation_data=(X_test, y_test), verbose=False, shuffle=True, callbacks=[checkpoint_iter_2])\n",
    "    \n",
    "    model_2.load_weights(r'/Users/pablouribepizarro/Desktop/CIAE/CIBL/model_weights/model_2_'+str(list(couple)[0])+str(list(couple)[1])+'.h5')\n",
    "    #Save Accuracy Score\n",
    "    y_real = y_test.argmax(axis=-1)\n",
    "    y_pred = model_2.predict(X_test).argmax(axis=-1)\n",
    "    print(str(list(couple)[0])+str(list(couple)[1])+' :'+str(accuracy_score(y_real, y_pred)))\n",
    "    dic_acc_2[str(couple)] = accuracy_score(y_real, y_pred)\n",
    "    \n",
    "    \n",
    "    "
   ]
  },
  {
   "cell_type": "code",
   "execution_count": 54,
   "metadata": {},
   "outputs": [
    {
     "data": {
      "image/png": "[encoded data removed]",
      "text/plain": [
       "<Figure size 432x288 with 1 Axes>"
      ]
     },
     "metadata": {},
     "output_type": "display_data"
    }
   ],
   "source": [
    "acc = pd.DataFrame()\n",
    "acc['Trainable Embeddings'] = list(dic_acc_1.values())\n",
    "acc['Pre-Trained Embeddings'] = list(dic_acc_2.values())\n",
    "ax = sns.violinplot(data=acc)"
   ]
  },
  {
   "cell_type": "code",
   "execution_count": 116,
   "metadata": {},
   "outputs": [
    {
     "data": {
      "text/plain": [
       "0.04325777892784417"
      ]
     },
     "execution_count": 116,
     "metadata": {},
     "output_type": "execute_result"
    }
   ],
   "source": [
    "acc['Trainable Embeddings'].std()"
   ]
  },
  {
   "cell_type": "code",
   "execution_count": 117,
   "metadata": {},
   "outputs": [
    {
     "data": {
      "text/plain": [
       "0.033253789995277366"
      ]
     },
     "execution_count": 117,
     "metadata": {},
     "output_type": "execute_result"
    }
   ],
   "source": [
    "acc['Pre-Trained Embeddings'].std()"
   ]
  },
  {
   "cell_type": "code",
   "execution_count": 122,
   "metadata": {},
   "outputs": [],
   "source": [
    "f1 = open(r\"/Users/pablouribepizarro/Desktop/CIAE/CIBL/Results/dict_acc_1.txt\",\"w\")\n",
    "f1.write( str(dic_acc_1) )\n",
    "f1.close()\n",
    "f2 = open(r\"/Users/pablouribepizarro/Desktop/CIAE/CIBL/Results/dict_acc_2.txt\",\"w\")\n",
    "f2.write( str(dic_acc_2) )\n",
    "f2.close()"
   ]
  }
 ],
 "metadata": {
  "kernelspec": {
   "display_name": "Python 3",
   "language": "python",
   "name": "python3"
  },
  "language_info": {
   "codemirror_mode": {
    "name": "ipython",
    "version": 3
   },
   "file_extension": ".py",
   "mimetype": "text/x-python",
   "name": "python",
   "nbconvert_exporter": "python",
   "pygments_lexer": "ipython3",
   "version": "3.7.3"
  }
 },
 "nbformat": 4,
 "nbformat_minor": 2
}
