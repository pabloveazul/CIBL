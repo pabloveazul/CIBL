{
 "cells": [
  {
   "cell_type": "code",
   "execution_count": 1,
   "metadata": {},
   "outputs": [
    {
     "name": "stderr",
     "output_type": "stream",
     "text": [
      "Using TensorFlow backend.\n"
     ]
    }
   ],
   "source": [
    "#Importing Libraries\n",
    "import numpy as np\n",
    "import os\n",
    "import pandas as pd\n",
    "from numpy import array\n",
    "import keras\n",
    "import seaborn as sns\n",
    "import matplotlib.pyplot as plt\n",
    "import re\n",
    "import num2words\n",
    "from tensorflow.keras import backend\n",
    "from keras.preprocessing.text import one_hot\n",
    "from keras.preprocessing.text import Tokenizer\n",
    "from keras.preprocessing.sequence import pad_sequences\n",
    "from keras.models import Sequential\n",
    "from keras.layers import Dense, Flatten, Dropout, Lambda, Input, concatenate,BatchNormalization, Activation\n",
    "from keras.layers.embeddings import Embedding\n",
    "from keras.layers import LSTM,Conv1D,MaxPooling1D, Bidirectional, GRU\n",
    "from keras.models import Model\n",
    "from keras import backend as K\n",
    "from keras.callbacks import ModelCheckpoint\n",
    "from sklearn.manifold import TSNE\n",
    "from sklearn.decomposition import PCA\n",
    "from sklearn.model_selection import train_test_split\n",
    "from sklearn.metrics import confusion_matrix, accuracy_score, classification_report\n",
    "from itertools import combinations\n",
    "\n",
    "%matplotlib inline"
   ]
  },
  {
   "cell_type": "markdown",
   "metadata": {},
   "source": [
    "### 1. Import Files "
   ]
  },
  {
   "cell_type": "code",
   "execution_count": 2,
   "metadata": {},
   "outputs": [
    {
     "name": "stdout",
     "output_type": "stream",
     "text": [
      "Number of Files: 11\n"
     ]
    }
   ],
   "source": [
    "local_path = r'/Users/pablouribepizarro/Desktop/CIAE/CIBL/Raw/inquiry_lessons'\n",
    "files_path = []\n",
    "# r=root, d=directories, f = files\n",
    "for r, d, f in os.walk(local_path):\n",
    "    for file in f:\n",
    "        if '.xlsx' in file:\n",
    "            files_path.append(os.path.join(r, file))\n",
    "            \n",
    "n_files = len(files_path)\n",
    "print('Number of Files: '+str(n_files))"
   ]
  },
  {
   "cell_type": "code",
   "execution_count": 3,
   "metadata": {},
   "outputs": [
    {
     "data": {
      "text/html": [
       "<div>\n",
       "<style scoped>\n",
       "    .dataframe tbody tr th:only-of-type {\n",
       "        vertical-align: middle;\n",
       "    }\n",
       "\n",
       "    .dataframe tbody tr th {\n",
       "        vertical-align: top;\n",
       "    }\n",
       "\n",
       "    .dataframe thead th {\n",
       "        text-align: right;\n",
       "    }\n",
       "</style>\n",
       "<table border=\"1\" class=\"dataframe\">\n",
       "  <thead>\n",
       "    <tr style=\"text-align: right;\">\n",
       "      <th></th>\n",
       "      <th>StudentID</th>\n",
       "      <th>Student</th>\n",
       "      <th>time_start</th>\n",
       "      <th>time_end</th>\n",
       "      <th>Phase</th>\n",
       "      <th>Phase_start</th>\n",
       "      <th>Phase_end</th>\n",
       "      <th>Utterance</th>\n",
       "    </tr>\n",
       "  </thead>\n",
       "  <tbody>\n",
       "    <tr>\n",
       "      <th>0</th>\n",
       "      <td>O2</td>\n",
       "      <td>NaN</td>\n",
       "      <td>NaN</td>\n",
       "      <td>NaN</td>\n",
       "      <td>0</td>\n",
       "      <td>1.0</td>\n",
       "      <td>NaN</td>\n",
       "      <td>Satunnaiskävely.</td>\n",
       "    </tr>\n",
       "    <tr>\n",
       "      <th>1</th>\n",
       "      <td>O1</td>\n",
       "      <td>NaN</td>\n",
       "      <td>NaN</td>\n",
       "      <td>NaN</td>\n",
       "      <td>0</td>\n",
       "      <td>NaN</td>\n",
       "      <td>NaN</td>\n",
       "      <td>[lukee tehtävänantoa]</td>\n",
       "    </tr>\n",
       "    <tr>\n",
       "      <th>2</th>\n",
       "      <td>O1</td>\n",
       "      <td>NaN</td>\n",
       "      <td>NaN</td>\n",
       "      <td>NaN</td>\n",
       "      <td>0</td>\n",
       "      <td>NaN</td>\n",
       "      <td>1.0</td>\n",
       "      <td>Voi voi. [käynnistää videon]</td>\n",
       "    </tr>\n",
       "    <tr>\n",
       "      <th>3</th>\n",
       "      <td>O1</td>\n",
       "      <td>NaN</td>\n",
       "      <td>NaN</td>\n",
       "      <td>NaN</td>\n",
       "      <td>0</td>\n",
       "      <td>1.0</td>\n",
       "      <td>NaN</td>\n",
       "      <td>Missä se vaeltaa siellä ? Onks se, ei. Ei, se ...</td>\n",
       "    </tr>\n",
       "    <tr>\n",
       "      <th>4</th>\n",
       "      <td>O2</td>\n",
       "      <td>NaN</td>\n",
       "      <td>NaN</td>\n",
       "      <td>NaN</td>\n",
       "      <td>0</td>\n",
       "      <td>NaN</td>\n",
       "      <td>NaN</td>\n",
       "      <td>[epäselvä]</td>\n",
       "    </tr>\n",
       "  </tbody>\n",
       "</table>\n",
       "</div>"
      ],
      "text/plain": [
       "  StudentID  Student  time_start  time_end  Phase  Phase_start  Phase_end  \\\n",
       "0        O2      NaN         NaN       NaN      0          1.0        NaN   \n",
       "1        O1      NaN         NaN       NaN      0          NaN        NaN   \n",
       "2        O1      NaN         NaN       NaN      0          NaN        1.0   \n",
       "3        O1      NaN         NaN       NaN      0          1.0        NaN   \n",
       "4        O2      NaN         NaN       NaN      0          NaN        NaN   \n",
       "\n",
       "                                           Utterance  \n",
       "0                                   Satunnaiskävely.  \n",
       "1                              [lukee tehtävänantoa]  \n",
       "2                       Voi voi. [käynnistää videon]  \n",
       "3  Missä se vaeltaa siellä ? Onks se, ei. Ei, se ...  \n",
       "4                                         [epäselvä]  "
      ]
     },
     "execution_count": 3,
     "metadata": {},
     "output_type": "execute_result"
    }
   ],
   "source": [
    "dfs = []\n",
    "for path in files_path:\n",
    "    df = pd.read_excel(path)\n",
    "    df = df[np.isfinite(df['Phase'])]\n",
    "    df['Phase'] = df['Phase'].astype(int)-1\n",
    "    df['Utterance'] = df['Utterance'].apply(lambda row: re.sub(r\"(\\d+)\", lambda x: num2words.num2words(int(x.group(0))), row))\n",
    "    df['Utterance'] = df['Utterance'].apply(lambda row: row.replace('?',' ?'))\n",
    "    dfs.append(df)\n",
    "docs_size = pd.Series([df.shape[0] for df in dfs])\n",
    "dfs[0].head()"
   ]
  },
  {
   "cell_type": "markdown",
   "metadata": {},
   "source": [
    "### 2. Preprocessing of Data "
   ]
  },
  {
   "cell_type": "code",
   "execution_count": 4,
   "metadata": {},
   "outputs": [],
   "source": [
    "#Fitting the Tokenizer on the docs:\n",
    "docs = [' '.join(list(df['Utterance'].astype(str))) for df in dfs]\n",
    "t = Tokenizer(filters='¡!\"\\'#$%&()*+,./:;<=>@[\\\\]^_`{|}~\\t\\n',num_words=2000)\n",
    "t.fit_on_texts(docs)"
   ]
  },
  {
   "cell_type": "code",
   "execution_count": 5,
   "metadata": {},
   "outputs": [
    {
     "name": "stdout",
     "output_type": "stream",
     "text": [
      "Processing Document 1\n",
      "Processing Document 2\n",
      "Processing Document 3\n",
      "Processing Document 4\n",
      "Processing Document 5\n",
      "Processing Document 6\n",
      "Processing Document 7\n",
      "Processing Document 8\n",
      "Processing Document 9\n",
      "Processing Document 10\n",
      "Processing Document 11\n",
      "Done!\n"
     ]
    }
   ],
   "source": [
    "#Add Previous and Next Utterance, Number of Words and Relative Position:\n",
    "i = 1\n",
    "max_length = 20\n",
    "for df in dfs:\n",
    "    print('Processing Document '+str(i))\n",
    "    i+=1\n",
    "    df['Relative Position'] = df.index/len(df)\n",
    "    df['Number of Words'] = df.apply(lambda row: len(row['Utterance'].split()), axis = 1)\n",
    "    df['Number of Words'] = df['Number of Words']/df['Number of Words'].max()\n",
    "    df['Tokenized Utterance'] = df.apply(lambda row: t.texts_to_sequences([str(row['Utterance'])])[0], axis = 1)\n",
    "    df['Previous Tokenized Utterance'] = df['Tokenized Utterance'].shift(1)\n",
    "    df['Next Tokenized Utterance'] = df['Tokenized Utterance'].shift(-1)\n",
    "    df = df.dropna()\n",
    "print('Done!')"
   ]
  },
  {
   "cell_type": "code",
   "execution_count": 9,
   "metadata": {},
   "outputs": [
    {
     "name": "stderr",
     "output_type": "stream",
     "text": [
      "/Users/pablouribepizarro/anaconda3/lib/python3.7/site-packages/ipykernel_launcher.py:3: FutureWarning: Sorting because non-concatenation axis is not aligned. A future version\n",
      "of pandas will change to not sort by default.\n",
      "\n",
      "To accept the future behavior, pass 'sort=False'.\n",
      "\n",
      "To retain the current behavior and silence the warning, pass 'sort=True'.\n",
      "\n",
      "  This is separate from the ipykernel package so we can avoid doing imports until\n"
     ]
    }
   ],
   "source": [
    "#Join and Pad Secuences\n",
    "\n",
    "all_data = pd.concat(dfs).reset_index()[['Tokenized Utterance','Previous Tokenized Utterance',\n",
    "                                                            'Next Tokenized Utterance' ,'Relative Position',\n",
    "                                                            'Number of Words','Phase']].dropna()\n",
    "\n",
    "X = np.concatenate((pad_sequences(all_data['Tokenized Utterance'],maxlen=max_length ,padding='post'),\n",
    "                 pad_sequences(all_data['Previous Tokenized Utterance'],maxlen=max_length ,padding='post'),\n",
    "                 pad_sequences(all_data['Next Tokenized Utterance'],maxlen=max_length ,padding='post')), axis=1)\n",
    "X_r = np.array(all_data['Relative Position'])\n",
    "X_n = all_data['Number of Words']\n",
    "\n",
    "X = np.column_stack((X, X_r)) \n",
    "X = np.column_stack((X, X_n))\n",
    "\n",
    "y = keras.utils.to_categorical(all_data['Phase'], num_classes=5, dtype='float32')"
   ]
  },
  {
   "cell_type": "code",
   "execution_count": 10,
   "metadata": {},
   "outputs": [],
   "source": [
    "#Training set and Test Set Splitting\n",
    "X_train, X_test, y_train, y_test = train_test_split(X, y, test_size=0.2, random_state=42)"
   ]
  },
  {
   "cell_type": "code",
   "execution_count": 7,
   "metadata": {},
   "outputs": [
    {
     "name": "stderr",
     "output_type": "stream",
     "text": [
      "/Users/pablouribepizarro/anaconda3/lib/python3.7/site-packages/ipykernel_launcher.py:7: FutureWarning: Sorting because non-concatenation axis is not aligned. A future version\n",
      "of pandas will change to not sort by default.\n",
      "\n",
      "To accept the future behavior, pass 'sort=False'.\n",
      "\n",
      "To retain the current behavior and silence the warning, pass 'sort=True'.\n",
      "\n",
      "  import sys\n"
     ]
    }
   ],
   "source": [
    "#Split Training and Test Set\n",
    "documents_numbers = range(11)\n",
    "couple = {0,1}\n",
    "\n",
    "#Split Training and Test Set\n",
    "training_dfs = [dfs[i] for i in (set(documents_numbers)-couple)]\n",
    "all_data_train = pd.concat(training_dfs).reset_index()[['Tokenized Utterance','Previous Tokenized Utterance',\n",
    "                                                            'Next Tokenized Utterance' ,'Relative Position',\n",
    "                                                            'Number of Words','Phase']].dropna()\n",
    "X_train = np.concatenate((pad_sequences(all_data_train['Tokenized Utterance'],maxlen=max_length ,padding='post'),\n",
    "                 pad_sequences(all_data_train['Previous Tokenized Utterance'],maxlen=max_length ,padding='post'),\n",
    "                 pad_sequences(all_data_train['Next Tokenized Utterance'],maxlen=max_length ,padding='post')), axis=1)\n",
    "X_r_train = all_data_train['Relative Position']\n",
    "X_n_train = all_data_train['Number of Words']\n",
    "X_train = np.column_stack((X_train, X_r_train)) \n",
    "X_train = np.column_stack((X_train, X_n_train))\n",
    "y_train = keras.utils.to_categorical(all_data_train['Phase'], num_classes=5, dtype='float32')\n",
    "    \n",
    "test_dfs = [dfs[i] for i in couple]\n",
    "all_data_test = pd.concat(test_dfs).reset_index()[['Tokenized Utterance','Previous Tokenized Utterance',\n",
    "                                                            'Next Tokenized Utterance' ,'Relative Position',\n",
    "                                                            'Number of Words','Phase']].dropna()\n",
    "X_test = np.concatenate((pad_sequences(all_data_test['Tokenized Utterance'],maxlen=max_length ,padding='post'),\n",
    "                 pad_sequences(all_data_test['Previous Tokenized Utterance'],maxlen=max_length ,padding='post'),\n",
    "                 pad_sequences(all_data_test['Next Tokenized Utterance'],maxlen=max_length ,padding='post')), axis=1)\n",
    "X_r_test = all_data_test['Relative Position']\n",
    "X_n_test = all_data_test['Number of Words']\n",
    "X_test = np.column_stack((X_test, X_r_test)) \n",
    "X_test = np.column_stack((X_test, X_n_test))\n",
    "y_test = keras.utils.to_categorical(all_data_test['Phase'], num_classes=5, dtype='float32')"
   ]
  },
  {
   "cell_type": "markdown",
   "metadata": {},
   "source": [
    "### 3.1 Trainable Embeddings Full Model:"
   ]
  },
  {
   "cell_type": "code",
   "execution_count": 13,
   "metadata": {},
   "outputs": [],
   "source": [
    "#Main input (Utterances)\n",
    "vocab_size = 10000\n",
    "main_input = Input(shape=(max_length*3,), dtype='int32', name='main_input')\n",
    "#Relative Position input\n",
    "rel_position_input = Input(shape=(1,), dtype='float32', name='rel_position_input')\n",
    "#Number of words input\n",
    "n_words_input = Input(shape=(1,), dtype='float32', name='n_words_input')\n",
    "#Embedding of the Utterances\n",
    "x = Embedding(output_dim=200, input_dim=vocab_size, input_length=max_length*3)(main_input)\n",
    "#x1 = Lambda(lambda x: K.sum(x[:,0:max_length-1], axis=1))(x)\n",
    "#x2 = Lambda(lambda x: K.sum(x[:,max_length:(max_length*2)-1], axis=1))(x)\n",
    "#x3 = Lambda(lambda x: K.sum(x[:,max_length*2:(max_length*3)-1], axis=1))(x)\n",
    "#x = concatenate([x1,x2,x3,rel_position_input,n_words_input])\n",
    "#attention layer \n",
    "x = Lambda(lambda x: K.sum(x, axis=1))(x)\n",
    "#x = Dropout(0.2)(x)\n",
    "x = concatenate([x,rel_position_input,n_words_input])\n",
    "x = Dense(128, activation='relu')(x)\n",
    "#x = BatchNormalization()(x)\n",
    "#x = Activation('relu')(x)\n",
    "#x = Dropout(0.4)(x)\n",
    "x = Dense(128, activation='relu')(x)\n",
    "#x = Dropout(0.4)(x)\n",
    "main_output = Dense(5, activation='softmax', name='main_output')(x)\n",
    "\n",
    "model_1_full = Model(inputs=[main_input, rel_position_input,n_words_input], outputs=[main_output])\n",
    "\n",
    "model_1_full.compile(loss='categorical_crossentropy',optimizer='adam',metrics=['accuracy'])\n",
    "\n",
    "model_1_full.name = 'te'\n",
    "\n",
    "model_1_full.save_weights(r'/Users/pablouribepizarro/Desktop/CIAE/CIBL/model_weights/'+str(model_1_full.name)+'.h5')\n",
    "\n",
    "model_1_full.save(r'/Users/pablouribepizarro/Desktop/CIAE/CIBL/models/'+str(model_1_full.name)+'.h5')"
   ]
  },
  {
   "cell_type": "code",
   "execution_count": 14,
   "metadata": {},
   "outputs": [
    {
     "name": "stdout",
     "output_type": "stream",
     "text": [
      "__________________________________________________________________________________________________\n",
      "Layer (type)                    Output Shape         Param #     Connected to                     \n",
      "==================================================================================================\n",
      "main_input (InputLayer)         (None, 60)           0                                            \n",
      "__________________________________________________________________________________________________\n",
      "embedding_2 (Embedding)         (None, 60, 200)      2000000     main_input[0][0]                 \n",
      "__________________________________________________________________________________________________\n",
      "lambda_2 (Lambda)               (None, 200)          0           embedding_2[0][0]                \n",
      "__________________________________________________________________________________________________\n",
      "rel_position_input (InputLayer) (None, 1)            0                                            \n",
      "__________________________________________________________________________________________________\n",
      "n_words_input (InputLayer)      (None, 1)            0                                            \n",
      "__________________________________________________________________________________________________\n",
      "concatenate_2 (Concatenate)     (None, 202)          0           lambda_2[0][0]                   \n",
      "                                                                 rel_position_input[0][0]         \n",
      "                                                                 n_words_input[0][0]              \n",
      "__________________________________________________________________________________________________\n",
      "dense_3 (Dense)                 (None, 128)          25984       concatenate_2[0][0]              \n",
      "__________________________________________________________________________________________________\n",
      "dense_4 (Dense)                 (None, 128)          16512       dense_3[0][0]                    \n",
      "__________________________________________________________________________________________________\n",
      "main_output (Dense)             (None, 5)            645         dense_4[0][0]                    \n",
      "==================================================================================================\n",
      "Total params: 2,043,141\n",
      "Trainable params: 2,043,141\n",
      "Non-trainable params: 0\n",
      "__________________________________________________________________________________________________\n"
     ]
    }
   ],
   "source": [
    "model_1_full.summary()"
   ]
  },
  {
   "cell_type": "code",
   "execution_count": 18,
   "metadata": {
    "scrolled": true
   },
   "outputs": [
    {
     "name": "stdout",
     "output_type": "stream",
     "text": [
      "Train on 1566 samples, validate on 392 samples\n",
      "Epoch 1/10\n",
      " - 2s - loss: 1.3175 - acc: 0.4693 - val_loss: 1.0956 - val_acc: 0.5663\n",
      "\n",
      "Epoch 00001: val_acc improved from -inf to 0.56633, saving model to /Users/pablouribepizarro/Desktop/CIAE/CIBL/model_weights/model_1_full_random_split.h5\n",
      "Epoch 2/10\n",
      " - 2s - loss: 0.8124 - acc: 0.7197 - val_loss: 0.8389 - val_acc: 0.6786\n",
      "\n",
      "Epoch 00002: val_acc improved from 0.56633 to 0.67857, saving model to /Users/pablouribepizarro/Desktop/CIAE/CIBL/model_weights/model_1_full_random_split.h5\n",
      "Epoch 3/10\n",
      " - 2s - loss: 0.4967 - acc: 0.8186 - val_loss: 0.6954 - val_acc: 0.7755\n",
      "\n",
      "Epoch 00003: val_acc improved from 0.67857 to 0.77551, saving model to /Users/pablouribepizarro/Desktop/CIAE/CIBL/model_weights/model_1_full_random_split.h5\n",
      "Epoch 4/10\n",
      " - 3s - loss: 0.2929 - acc: 0.9074 - val_loss: 0.7075 - val_acc: 0.7781\n",
      "\n",
      "Epoch 00004: val_acc improved from 0.77551 to 0.77806, saving model to /Users/pablouribepizarro/Desktop/CIAE/CIBL/model_weights/model_1_full_random_split.h5\n",
      "Epoch 5/10\n",
      " - 3s - loss: 0.2139 - acc: 0.9304 - val_loss: 0.7557 - val_acc: 0.7755\n",
      "\n",
      "Epoch 00005: val_acc did not improve from 0.77806\n",
      "Epoch 6/10\n",
      " - 2s - loss: 0.1371 - acc: 0.9572 - val_loss: 0.7776 - val_acc: 0.7679\n",
      "\n",
      "Epoch 00006: val_acc did not improve from 0.77806\n",
      "Epoch 7/10\n",
      " - 2s - loss: 0.1036 - acc: 0.9693 - val_loss: 0.8014 - val_acc: 0.7959\n",
      "\n",
      "Epoch 00007: val_acc improved from 0.77806 to 0.79592, saving model to /Users/pablouribepizarro/Desktop/CIAE/CIBL/model_weights/model_1_full_random_split.h5\n",
      "Epoch 8/10\n",
      " - 2s - loss: 0.0868 - acc: 0.9751 - val_loss: 0.9293 - val_acc: 0.7806\n",
      "\n",
      "Epoch 00008: val_acc did not improve from 0.79592\n",
      "Epoch 9/10\n",
      " - 2s - loss: 0.0800 - acc: 0.9764 - val_loss: 0.8956 - val_acc: 0.7908\n",
      "\n",
      "Epoch 00009: val_acc did not improve from 0.79592\n",
      "Epoch 10/10\n",
      " - 2s - loss: 0.0652 - acc: 0.9828 - val_loss: 0.9356 - val_acc: 0.7857\n",
      "\n",
      "Epoch 00010: val_acc did not improve from 0.79592\n"
     ]
    }
   ],
   "source": [
    "#Load Initial Random Weights:\n",
    "model_1_full.load_weights(r'/Users/pablouribepizarro/Desktop/CIAE/CIBL/model_weights/'+str(model_1_full.name)+'.h5')\n",
    "\n",
    "#Checkpoint:\n",
    "checkpoint_1_full = ModelCheckpoint('/Users/pablouribepizarro/Desktop/CIAE/CIBL/model_weights/model_1_full_random_split.h5', \n",
    "                             verbose=2, monitor='val_acc',save_best_only=True, mode='auto')\n",
    "\n",
    "#Fit the Model:\n",
    "history = model_1_full.fit({'main_input': X_train[:,:-2], 'rel_position_input': X_train[:,-2],'n_words_input':X_train[:,-1]},\n",
    "          {'main_output': y_train}, validation_data= ({'main_input': X_test[:,:-2], 'rel_position_input': X_test[:,-2],\n",
    "            'n_words_input':X_test[:,-1]},{'main_output': y_test}),epochs=10, batch_size=64,\n",
    "            shuffle=True, callbacks = [checkpoint_1_full], verbose = 2)"
   ]
  },
  {
   "cell_type": "code",
   "execution_count": 19,
   "metadata": {},
   "outputs": [
    {
     "data": {
      "image/png": "[encoded data removed]",
      "text/plain": [
       "<Figure size 432x288 with 1 Axes>"
      ]
     },
     "metadata": {},
     "output_type": "display_data"
    }
   ],
   "source": [
    "plt.plot(history.history['loss'], label='train')\n",
    "plt.plot(history.history['val_loss'], label='test')\n",
    "plt.legend()\n",
    "plt.show()"
   ]
  },
  {
   "cell_type": "code",
   "execution_count": 17,
   "metadata": {},
   "outputs": [
    {
     "data": {
      "text/plain": [
       "<matplotlib.axes._subplots.AxesSubplot at 0x1a55f86da0>"
      ]
     },
     "execution_count": 17,
     "metadata": {},
     "output_type": "execute_result"
    },
    {
     "data": {
      "image/png": "[encoded data removed]",
      "text/plain": [
       "<Figure size 720x504 with 2 Axes>"
      ]
     },
     "metadata": {
      "needs_background": "light"
     },
     "output_type": "display_data"
    }
   ],
   "source": [
    "y_real = y_test.argmax(axis=-1)\n",
    "y_pred = model_1_full.predict({'main_input': X_test[:,:-2], 'rel_position_input': X_test[:,-2],\n",
    "                               'n_words_input':X_test[:,-1]}).argmax(axis=-1)\n",
    "results = confusion_matrix(y_real, y_pred)\n",
    "df_cm = pd.DataFrame(results, index = range(5),\n",
    "                  columns = range(5))\n",
    "plt.figure(figsize = (10,7))\n",
    "sns.set(font_scale=1.4)\n",
    "sns.heatmap(df_cm, annot=True, cmap=\"YlGnBu\")"
   ]
  },
  {
   "cell_type": "markdown",
   "metadata": {},
   "source": [
    "### 3.2 Trained Embeddings Full Model:"
   ]
  },
  {
   "cell_type": "code",
   "execution_count": 8,
   "metadata": {},
   "outputs": [
    {
     "name": "stderr",
     "output_type": "stream",
     "text": [
      "/Users/pablouribepizarro/anaconda3/lib/python3.7/site-packages/smart_open/smart_open_lib.py:398: UserWarning: This function is deprecated, use smart_open.open instead. See the migration notes for details: https://github.com/RaRe-Technologies/smart_open/blob/master/README.rst#migrating-to-the-new-open-function\n",
      "  'See the migration notes for details: %s' % _MIGRATION_NOTES_URL\n"
     ]
    }
   ],
   "source": [
    "#Load the Embeddings\n",
    "from gensim.models import KeyedVectors\n",
    "path = r'/Users/pablouribepizarro/Desktop/CIAE/CIBL/finnish_4B_parsebank_skgram.bin'\n",
    "wv = KeyedVectors.load_word2vec_format(path,binary=True, encoding='UTF-8',limit=500000,unicode_errors='replace') "
   ]
  },
  {
   "cell_type": "code",
   "execution_count": 9,
   "metadata": {},
   "outputs": [],
   "source": [
    "#Build the Embedding Matrix\n",
    "max_vocab = 10000\n",
    "embedding_matrix = np.zeros((max_vocab, 200))\n",
    "for word, i in t.word_index.items():\n",
    "    try:\n",
    "        embedding_vector = wv.get_vector(word)\n",
    "        embedding_matrix[i] = embedding_vector\n",
    "    except:\n",
    "        pass  "
   ]
  },
  {
   "cell_type": "code",
   "execution_count": 38,
   "metadata": {},
   "outputs": [],
   "source": [
    "#Main input (Utterances)\n",
    "main_input = Input(shape=(60,), dtype='int32', name='main_input')\n",
    "#Relative Position input\n",
    "rel_position_input = Input(shape=(1,), dtype='float32', name='rel_position_input')\n",
    "#Number of words input\n",
    "n_words_input = Input(shape=(1,), dtype='float32', name='n_words_input')\n",
    "#Embedding of the Utterances\n",
    "x = Embedding(output_dim=200, input_dim=vocab_size, input_length=60,weights=[embedding_matrix],trainable=False)(main_input)\n",
    "#x1 = Lambda(lambda x: K.sum(x[:,0:max_length-1], axis=1))(x)\n",
    "#x2 = Lambda(lambda x: K.sum(x[:,max_length:(max_length*2)-1], axis=1))(x)\n",
    "#x3 = Lambda(lambda x: K.sum(x[:,max_length*2:(max_length*3)-1], axis=1))(x)\n",
    "#x = concatenate([x1,x2,x3,rel_position_input,n_words_input])\n",
    "x = Lambda(lambda x: K.sum(x, axis=1))(x)\n",
    "#x = Dropout(0.2)(x)\n",
    "x = concatenate([x,rel_position_input,n_words_input])\n",
    "x = Dense(256, activation='relu')(x)\n",
    "#x = BatchNormalization()(x)\n",
    "#x = Dropout(0.4)(x)\n",
    "x = Dense(256, activation='relu')(x)\n",
    "#x = Dropout(0.4)(x)\n",
    "main_output = Dense(5, activation='softmax', name='main_output')(x)\n",
    "model_2_full = Model(inputs=[main_input, rel_position_input,n_words_input], outputs=[main_output])\n",
    "model_2_full.compile(loss='categorical_crossentropy',\n",
    "              optimizer='adam',\n",
    "              metrics=['accuracy'])\n",
    "\n",
    "model_2_full.name = 'pe'\n",
    "\n",
    "model_2_full.save_weights(r'/Users/pablouribepizarro/Desktop/CIAE/CIBL/model_weights/'+str(model_2_full.name)+'.h5')\n",
    "\n",
    "model_2_full.save(r'/Users/pablouribepizarro/Desktop/CIAE/CIBL/models/'+str(model_2_full.name)+'.h5')\n"
   ]
  },
  {
   "cell_type": "code",
   "execution_count": 39,
   "metadata": {},
   "outputs": [
    {
     "name": "stdout",
     "output_type": "stream",
     "text": [
      "__________________________________________________________________________________________________\n",
      "Layer (type)                    Output Shape         Param #     Connected to                     \n",
      "==================================================================================================\n",
      "main_input (InputLayer)         (None, 60)           0                                            \n",
      "__________________________________________________________________________________________________\n",
      "embedding_12 (Embedding)        (None, 60, 200)      2000000     main_input[0][0]                 \n",
      "__________________________________________________________________________________________________\n",
      "lambda_40 (Lambda)              (None, 200)          0           embedding_12[0][0]               \n",
      "__________________________________________________________________________________________________\n",
      "rel_position_input (InputLayer) (None, 1)            0                                            \n",
      "__________________________________________________________________________________________________\n",
      "n_words_input (InputLayer)      (None, 1)            0                                            \n",
      "__________________________________________________________________________________________________\n",
      "concatenate_26 (Concatenate)    (None, 202)          0           lambda_40[0][0]                  \n",
      "                                                                 rel_position_input[0][0]         \n",
      "                                                                 n_words_input[0][0]              \n",
      "__________________________________________________________________________________________________\n",
      "dense_37 (Dense)                (None, 256)          51968       concatenate_26[0][0]             \n",
      "__________________________________________________________________________________________________\n",
      "dense_38 (Dense)                (None, 256)          65792       dense_37[0][0]                   \n",
      "__________________________________________________________________________________________________\n",
      "main_output (Dense)             (None, 5)            1285        dense_38[0][0]                   \n",
      "==================================================================================================\n",
      "Total params: 2,119,045\n",
      "Trainable params: 119,045\n",
      "Non-trainable params: 2,000,000\n",
      "__________________________________________________________________________________________________\n"
     ]
    }
   ],
   "source": [
    "model_2_full.summary()"
   ]
  },
  {
   "cell_type": "code",
   "execution_count": 54,
   "metadata": {
    "scrolled": true
   },
   "outputs": [
    {
     "name": "stdout",
     "output_type": "stream",
     "text": [
      "Train on 1412 samples, validate on 546 samples\n",
      "Epoch 1/30\n",
      "1412/1412 [==============================] - 7s 5ms/step - loss: 1.5270 - acc: 0.4292 - val_loss: 1.5064 - val_acc: 0.3956\n",
      "\n",
      "Epoch 00001: val_acc improved from -inf to 0.39560, saving model to /Users/pablouribepizarro/Desktop/CIAE/CIBL/model_weights/model_2_full_random_split.h5\n",
      "Epoch 2/30\n",
      "1412/1412 [==============================] - 0s 200us/step - loss: 1.1497 - acc: 0.5715 - val_loss: 1.2491 - val_acc: 0.5000\n",
      "\n",
      "Epoch 00002: val_acc improved from 0.39560 to 0.50000, saving model to /Users/pablouribepizarro/Desktop/CIAE/CIBL/model_weights/model_2_full_random_split.h5\n",
      "Epoch 3/30\n",
      "1412/1412 [==============================] - 0s 203us/step - loss: 1.0395 - acc: 0.6339 - val_loss: 1.3023 - val_acc: 0.4469\n",
      "\n",
      "Epoch 00003: val_acc did not improve from 0.50000\n",
      "Epoch 4/30\n",
      "1412/1412 [==============================] - 0s 210us/step - loss: 0.9348 - acc: 0.6445 - val_loss: 1.3095 - val_acc: 0.4817\n",
      "\n",
      "Epoch 00004: val_acc did not improve from 0.50000\n",
      "Epoch 5/30\n",
      "1412/1412 [==============================] - 0s 212us/step - loss: 0.8291 - acc: 0.7082 - val_loss: 1.4909 - val_acc: 0.4579\n",
      "\n",
      "Epoch 00005: val_acc did not improve from 0.50000\n",
      "Epoch 6/30\n",
      "1412/1412 [==============================] - 0s 195us/step - loss: 0.7919 - acc: 0.7160 - val_loss: 1.4099 - val_acc: 0.4817\n",
      "\n",
      "Epoch 00006: val_acc did not improve from 0.50000\n",
      "Epoch 7/30\n",
      "1412/1412 [==============================] - 0s 198us/step - loss: 0.7061 - acc: 0.7493 - val_loss: 1.4915 - val_acc: 0.4963\n",
      "\n",
      "Epoch 00007: val_acc did not improve from 0.50000\n",
      "Epoch 8/30\n",
      "1412/1412 [==============================] - 0s 200us/step - loss: 0.6668 - acc: 0.7755 - val_loss: 1.5740 - val_acc: 0.4890\n",
      "\n",
      "Epoch 00008: val_acc did not improve from 0.50000\n",
      "Epoch 9/30\n",
      "1412/1412 [==============================] - 0s 196us/step - loss: 0.7069 - acc: 0.7443 - val_loss: 1.5195 - val_acc: 0.5128\n",
      "\n",
      "Epoch 00009: val_acc improved from 0.50000 to 0.51282, saving model to /Users/pablouribepizarro/Desktop/CIAE/CIBL/model_weights/model_2_full_random_split.h5\n",
      "Epoch 10/30\n",
      "1412/1412 [==============================] - 0s 198us/step - loss: 0.5868 - acc: 0.7953 - val_loss: 1.6532 - val_acc: 0.4817\n",
      "\n",
      "Epoch 00010: val_acc did not improve from 0.51282\n",
      "Epoch 11/30\n",
      "1412/1412 [==============================] - 0s 193us/step - loss: 0.5551 - acc: 0.8095 - val_loss: 1.5797 - val_acc: 0.4652\n",
      "\n",
      "Epoch 00011: val_acc did not improve from 0.51282\n",
      "Epoch 12/30\n",
      "1412/1412 [==============================] - 0s 199us/step - loss: 0.5964 - acc: 0.7833 - val_loss: 1.6548 - val_acc: 0.4725\n",
      "\n",
      "Epoch 00012: val_acc did not improve from 0.51282\n",
      "Epoch 13/30\n",
      "1412/1412 [==============================] - 0s 196us/step - loss: 0.4560 - acc: 0.8421 - val_loss: 1.8023 - val_acc: 0.5055\n",
      "\n",
      "Epoch 00013: val_acc did not improve from 0.51282\n",
      "Epoch 14/30\n",
      "1412/1412 [==============================] - 0s 207us/step - loss: 0.4309 - acc: 0.8421 - val_loss: 1.7523 - val_acc: 0.4963\n",
      "\n",
      "Epoch 00014: val_acc did not improve from 0.51282\n",
      "Epoch 15/30\n",
      "1412/1412 [==============================] - 0s 202us/step - loss: 0.5237 - acc: 0.8088 - val_loss: 1.7832 - val_acc: 0.4945\n",
      "\n",
      "Epoch 00015: val_acc did not improve from 0.51282\n",
      "Epoch 16/30\n",
      "1412/1412 [==============================] - 0s 200us/step - loss: 0.4809 - acc: 0.8357 - val_loss: 1.7514 - val_acc: 0.4780\n",
      "\n",
      "Epoch 00016: val_acc did not improve from 0.51282\n",
      "Epoch 17/30\n",
      "1412/1412 [==============================] - 0s 188us/step - loss: 0.4057 - acc: 0.8513 - val_loss: 2.0846 - val_acc: 0.4542\n",
      "\n",
      "Epoch 00017: val_acc did not improve from 0.51282\n",
      "Epoch 18/30\n",
      "1412/1412 [==============================] - 0s 197us/step - loss: 0.5960 - acc: 0.7854 - val_loss: 1.7159 - val_acc: 0.4982\n",
      "\n",
      "Epoch 00018: val_acc did not improve from 0.51282\n",
      "Epoch 19/30\n",
      "1412/1412 [==============================] - 0s 195us/step - loss: 0.4089 - acc: 0.8569 - val_loss: 1.8828 - val_acc: 0.5183\n",
      "\n",
      "Epoch 00019: val_acc improved from 0.51282 to 0.51832, saving model to /Users/pablouribepizarro/Desktop/CIAE/CIBL/model_weights/model_2_full_random_split.h5\n",
      "Epoch 20/30\n",
      "1412/1412 [==============================] - 0s 198us/step - loss: 0.3328 - acc: 0.8867 - val_loss: 1.9095 - val_acc: 0.5110\n",
      "\n",
      "Epoch 00020: val_acc did not improve from 0.51832\n",
      "Epoch 21/30\n",
      "1412/1412 [==============================] - 0s 200us/step - loss: 0.3128 - acc: 0.9023 - val_loss: 2.1341 - val_acc: 0.4927\n",
      "\n",
      "Epoch 00021: val_acc did not improve from 0.51832\n",
      "Epoch 22/30\n",
      "1412/1412 [==============================] - 0s 212us/step - loss: 0.2623 - acc: 0.9164 - val_loss: 1.9986 - val_acc: 0.4963\n",
      "\n",
      "Epoch 00022: val_acc did not improve from 0.51832\n",
      "Epoch 23/30\n",
      "1412/1412 [==============================] - 0s 198us/step - loss: 0.4786 - acc: 0.8378 - val_loss: 2.0324 - val_acc: 0.5018\n",
      "\n",
      "Epoch 00023: val_acc did not improve from 0.51832\n",
      "Epoch 24/30\n",
      "1412/1412 [==============================] - 0s 198us/step - loss: 0.2775 - acc: 0.9008 - val_loss: 2.1354 - val_acc: 0.4908\n",
      "\n",
      "Epoch 00024: val_acc did not improve from 0.51832\n",
      "Epoch 25/30\n",
      "1412/1412 [==============================] - 0s 199us/step - loss: 0.2170 - acc: 0.9271 - val_loss: 2.1608 - val_acc: 0.5000\n",
      "\n",
      "Epoch 00025: val_acc did not improve from 0.51832\n",
      "Epoch 26/30\n",
      "1412/1412 [==============================] - 0s 211us/step - loss: 0.2085 - acc: 0.9278 - val_loss: 2.3124 - val_acc: 0.5037\n",
      "\n",
      "Epoch 00026: val_acc did not improve from 0.51832\n",
      "Epoch 27/30\n",
      "1412/1412 [==============================] - 0s 210us/step - loss: 0.3050 - acc: 0.9044 - val_loss: 2.2644 - val_acc: 0.5000\n",
      "\n",
      "Epoch 00027: val_acc did not improve from 0.51832\n",
      "Epoch 28/30\n",
      "1412/1412 [==============================] - 0s 199us/step - loss: 0.2037 - acc: 0.9341 - val_loss: 2.2543 - val_acc: 0.5000\n",
      "\n",
      "Epoch 00028: val_acc did not improve from 0.51832\n",
      "Epoch 29/30\n",
      "1412/1412 [==============================] - 0s 198us/step - loss: 0.1442 - acc: 0.9603 - val_loss: 2.3447 - val_acc: 0.5147\n",
      "\n",
      "Epoch 00029: val_acc did not improve from 0.51832\n",
      "Epoch 30/30\n",
      "1412/1412 [==============================] - 0s 197us/step - loss: 0.1190 - acc: 0.9688 - val_loss: 2.4348 - val_acc: 0.4890\n",
      "\n",
      "Epoch 00030: val_acc did not improve from 0.51832\n"
     ]
    }
   ],
   "source": [
    "#Load Initial Random Weights:\n",
    "model_2_full.load_weights(r'/Users/pablouribepizarro/Desktop/CIAE/CIBL/model_weights/'+str(model_2_full.name)+'.h5')\n",
    "\n",
    "#Checkpoint\n",
    "checkpoint_2_full = ModelCheckpoint('/Users/pablouribepizarro/Desktop/CIAE/CIBL/model_weights/model_2_full_random_split.h5', \n",
    "                             verbose=1, monitor='val_acc',save_best_only=True, mode='auto')\n",
    "#Fit the model\n",
    "history = model_2_full.fit({'main_input': X_train[:,:-2], 'rel_position_input': X_train[:,-2],'n_words_input':X_train[:,-1]},\n",
    "          {'main_output': y_train}, validation_data= ({'main_input': X_test[:,:-2], 'rel_position_input': X_test[:,-2],\n",
    "            'n_words_input':X_test[:,-1]},{'main_output': y_test}),epochs=30, batch_size=64,\n",
    "            shuffle=True, callbacks = [checkpoint_2_full])"
   ]
  },
  {
   "cell_type": "code",
   "execution_count": 29,
   "metadata": {},
   "outputs": [
    {
     "data": {
      "image/png": "[encoded data removed]",
      "text/plain": [
       "<Figure size 432x288 with 1 Axes>"
      ]
     },
     "metadata": {},
     "output_type": "display_data"
    }
   ],
   "source": [
    "plt.plot(history.history['loss'], label='train')\n",
    "plt.plot(history.history['val_loss'], label='test')\n",
    "plt.legend()\n",
    "plt.show()"
   ]
  },
  {
   "cell_type": "code",
   "execution_count": 30,
   "metadata": {},
   "outputs": [
    {
     "data": {
      "text/plain": [
       "<matplotlib.axes._subplots.AxesSubplot at 0x1a55f90cc0>"
      ]
     },
     "execution_count": 30,
     "metadata": {},
     "output_type": "execute_result"
    },
    {
     "data": {
      "image/png": "[encoded data removed]",
      "text/plain": [
       "<Figure size 720x504 with 2 Axes>"
      ]
     },
     "metadata": {},
     "output_type": "display_data"
    }
   ],
   "source": [
    "y_real = y_test.argmax(axis=-1)\n",
    "y_pred = model_2_full.predict({'main_input': X_test[:,:-2], 'rel_position_input': X_test[:,-2],\n",
    "                               'n_words_input':X_test[:,-1]}).argmax(axis=-1)\n",
    "results = confusion_matrix(y_real, y_pred)\n",
    "df_cm = pd.DataFrame(results, index = range(5),\n",
    "                  columns = range(5))\n",
    "plt.figure(figsize = (10,7))\n",
    "sns.set(font_scale=1.4)\n",
    "sns.heatmap(df_cm, annot=True, cmap=\"YlGnBu\")"
   ]
  },
  {
   "cell_type": "code",
   "execution_count": 134,
   "metadata": {},
   "outputs": [],
   "source": [
    "#Main input (Utterances)\n",
    "main_input = Input(shape=(max_length,), dtype='int32', name='main_input')\n",
    "#Relative Position input\n",
    "rel_position_input = Input(shape=(1,), dtype='float32', name='rel_position_input')\n",
    "#Number of words input\n",
    "n_words_input = Input(shape=(1,), dtype='float32', name='n_words_input')\n",
    "#Embedding of the Utterances\n",
    "x = Embedding(output_dim=200, input_dim=vocab_size, input_length=max_length,weights=[embedding_matrix],trainable=True)(main_input)\n",
    "#x1 = Lambda(lambda x: K.sum(x[:,0:max_length-1], axis=1))(x)\n",
    "#x2 = Lambda(lambda x: K.sum(x[:,max_length:(max_length*2)-1], axis=1))(x)\n",
    "#x3 = Lambda(lambda x: K.sum(x[:,max_length*2:(max_length*3)-1], axis=1))(x)\n",
    "#x = concatenate([x1,x2,x3,rel_position_input,n_words_input])\n",
    "x = Lambda(lambda x: K.sum(x, axis=1))(x)\n",
    "x = concatenate([x,rel_position_input,n_words_input])\n",
    "x = Dense(128, activation='relu')(x)\n",
    "#x = BatchNormalization()(x)\n",
    "#x = Dropout(0.5)(x)\n",
    "x = Dense(128, activation='relu')(x)\n",
    "#x = Dropout(0.5)(x)\n",
    "main_output = Dense(5, activation='softmax', name='main_output')(x)\n",
    "model_3_full = Model(inputs=[main_input, rel_position_input,n_words_input], outputs=[main_output])\n",
    "model_3_full.compile(loss='categorical_crossentropy',\n",
    "              optimizer='adam',\n",
    "              metrics=['accuracy'])\n",
    "model_3_full.save_weights(r'/Users/pablouribepizarro/Desktop/CIAE/CIBL/model_weights/model_3_full.h5')"
   ]
  },
  {
   "cell_type": "code",
   "execution_count": 135,
   "metadata": {},
   "outputs": [
    {
     "name": "stdout",
     "output_type": "stream",
     "text": [
      "__________________________________________________________________________________________________\n",
      "Layer (type)                    Output Shape         Param #     Connected to                     \n",
      "==================================================================================================\n",
      "main_input (InputLayer)         (None, 75)           0                                            \n",
      "__________________________________________________________________________________________________\n",
      "embedding_32 (Embedding)        (None, 75, 200)      2000000     main_input[0][0]                 \n",
      "__________________________________________________________________________________________________\n",
      "lambda_9 (Lambda)               (None, 200)          0           embedding_32[0][0]               \n",
      "__________________________________________________________________________________________________\n",
      "rel_position_input (InputLayer) (None, 1)            0                                            \n",
      "__________________________________________________________________________________________________\n",
      "n_words_input (InputLayer)      (None, 1)            0                                            \n",
      "__________________________________________________________________________________________________\n",
      "concatenate_31 (Concatenate)    (None, 202)          0           lambda_9[0][0]                   \n",
      "                                                                 rel_position_input[0][0]         \n",
      "                                                                 n_words_input[0][0]              \n",
      "__________________________________________________________________________________________________\n",
      "dense_34 (Dense)                (None, 128)          25984       concatenate_31[0][0]             \n",
      "__________________________________________________________________________________________________\n",
      "dense_35 (Dense)                (None, 128)          16512       dense_34[0][0]                   \n",
      "__________________________________________________________________________________________________\n",
      "main_output (Dense)             (None, 5)            645         dense_35[0][0]                   \n",
      "==================================================================================================\n",
      "Total params: 2,043,141\n",
      "Trainable params: 2,043,141\n",
      "Non-trainable params: 0\n",
      "__________________________________________________________________________________________________\n"
     ]
    }
   ],
   "source": [
    "model_3_full.summary()"
   ]
  },
  {
   "cell_type": "code",
   "execution_count": 136,
   "metadata": {
    "scrolled": true
   },
   "outputs": [
    {
     "name": "stdout",
     "output_type": "stream",
     "text": [
      "Train on 1412 samples, validate on 546 samples\n",
      "Epoch 1/20\n",
      "1412/1412 [==============================] - 15s 11ms/step - loss: 1.5304 - acc: 0.4235 - val_loss: 1.3205 - val_acc: 0.4817\n",
      "\n",
      "Epoch 00001: val_acc improved from -inf to 0.48168, saving model to /Users/pablouribepizarro/Desktop/CIAE/CIBL/model_weights/model_3_full_random_split.h5\n",
      "Epoch 2/20\n",
      "1412/1412 [==============================] - 2s 1ms/step - loss: 1.0102 - acc: 0.6268 - val_loss: 1.2460 - val_acc: 0.4835\n",
      "\n",
      "Epoch 00002: val_acc improved from 0.48168 to 0.48352, saving model to /Users/pablouribepizarro/Desktop/CIAE/CIBL/model_weights/model_3_full_random_split.h5\n",
      "Epoch 3/20\n",
      "1412/1412 [==============================] - 2s 1ms/step - loss: 0.7778 - acc: 0.7337 - val_loss: 1.2488 - val_acc: 0.5256\n",
      "\n",
      "Epoch 00003: val_acc improved from 0.48352 to 0.52564, saving model to /Users/pablouribepizarro/Desktop/CIAE/CIBL/model_weights/model_3_full_random_split.h5\n",
      "Epoch 4/20\n",
      "1412/1412 [==============================] - 2s 2ms/step - loss: 0.6101 - acc: 0.7975 - val_loss: 1.3016 - val_acc: 0.5256\n",
      "\n",
      "Epoch 00004: val_acc improved from 0.52564 to 0.52564, saving model to /Users/pablouribepizarro/Desktop/CIAE/CIBL/model_weights/model_3_full_random_split.h5\n",
      "Epoch 5/20\n",
      "1412/1412 [==============================] - 2s 2ms/step - loss: 0.4698 - acc: 0.8378 - val_loss: 1.6730 - val_acc: 0.4744\n",
      "\n",
      "Epoch 00005: val_acc did not improve from 0.52564\n",
      "Epoch 6/20\n",
      "1412/1412 [==============================] - 2s 2ms/step - loss: 0.4704 - acc: 0.8286 - val_loss: 1.3697 - val_acc: 0.5201\n",
      "\n",
      "Epoch 00006: val_acc did not improve from 0.52564\n",
      "Epoch 7/20\n",
      "1412/1412 [==============================] - 2s 2ms/step - loss: 0.3177 - acc: 0.8860 - val_loss: 1.5130 - val_acc: 0.5018\n",
      "\n",
      "Epoch 00007: val_acc did not improve from 0.52564\n",
      "Epoch 8/20\n",
      "1412/1412 [==============================] - 2s 2ms/step - loss: 0.2381 - acc: 0.9129 - val_loss: 1.5880 - val_acc: 0.5165\n",
      "\n",
      "Epoch 00008: val_acc did not improve from 0.52564\n",
      "Epoch 9/20\n",
      "1412/1412 [==============================] - 2s 2ms/step - loss: 0.2249 - acc: 0.9221 - val_loss: 1.6765 - val_acc: 0.5092\n",
      "\n",
      "Epoch 00009: val_acc did not improve from 0.52564\n",
      "Epoch 10/20\n",
      "1412/1412 [==============================] - 2s 2ms/step - loss: 0.1549 - acc: 0.9554 - val_loss: 1.8382 - val_acc: 0.4890\n",
      "\n",
      "Epoch 00010: val_acc did not improve from 0.52564\n",
      "Epoch 11/20\n",
      "1412/1412 [==============================] - 2s 2ms/step - loss: 0.1202 - acc: 0.9660 - val_loss: 2.2617 - val_acc: 0.4908\n",
      "\n",
      "Epoch 00011: val_acc did not improve from 0.52564\n",
      "Epoch 12/20\n",
      "1412/1412 [==============================] - 2s 2ms/step - loss: 0.2115 - acc: 0.9249 - val_loss: 2.0162 - val_acc: 0.4780\n",
      "\n",
      "Epoch 00012: val_acc did not improve from 0.52564\n",
      "Epoch 13/20\n",
      "1412/1412 [==============================] - 2s 2ms/step - loss: 0.1197 - acc: 0.9603 - val_loss: 2.0040 - val_acc: 0.5201\n",
      "\n",
      "Epoch 00013: val_acc did not improve from 0.52564\n",
      "Epoch 14/20\n",
      "1412/1412 [==============================] - 2s 2ms/step - loss: 0.0867 - acc: 0.9745 - val_loss: 2.0315 - val_acc: 0.5147\n",
      "\n",
      "Epoch 00014: val_acc did not improve from 0.52564\n",
      "Epoch 15/20\n",
      "1412/1412 [==============================] - 3s 2ms/step - loss: 0.0689 - acc: 0.9809 - val_loss: 2.2735 - val_acc: 0.5000\n",
      "\n",
      "Epoch 00015: val_acc did not improve from 0.52564\n",
      "Epoch 16/20\n",
      "1412/1412 [==============================] - 2s 2ms/step - loss: 0.1318 - acc: 0.9547 - val_loss: 2.2282 - val_acc: 0.4982\n",
      "\n",
      "Epoch 00016: val_acc did not improve from 0.52564\n",
      "Epoch 17/20\n",
      "1412/1412 [==============================] - 2s 2ms/step - loss: 0.0978 - acc: 0.9703 - val_loss: 2.2701 - val_acc: 0.4945\n",
      "\n",
      "Epoch 00017: val_acc did not improve from 0.52564\n",
      "Epoch 18/20\n",
      "1412/1412 [==============================] - 2s 2ms/step - loss: 0.0764 - acc: 0.9795 - val_loss: 2.5302 - val_acc: 0.4799\n",
      "\n",
      "Epoch 00018: val_acc did not improve from 0.52564\n",
      "Epoch 19/20\n",
      "1412/1412 [==============================] - 2s 2ms/step - loss: 0.0718 - acc: 0.9780 - val_loss: 2.4684 - val_acc: 0.5092\n",
      "\n",
      "Epoch 00019: val_acc did not improve from 0.52564\n",
      "Epoch 20/20\n",
      "1412/1412 [==============================] - 2s 2ms/step - loss: 0.0734 - acc: 0.9773 - val_loss: 2.7291 - val_acc: 0.4780\n",
      "\n",
      "Epoch 00020: val_acc did not improve from 0.52564\n"
     ]
    }
   ],
   "source": [
    "#Load Initial Random Weights:\n",
    "model_3_full.load_weights(r'/Users/pablouribepizarro/Desktop/CIAE/CIBL/model_weights/model_3_full.h5')\n",
    "\n",
    "#Checkpoint\n",
    "checkpoint_3_full = ModelCheckpoint('/Users/pablouribepizarro/Desktop/CIAE/CIBL/model_weights/model_3_full_random_split.h5', \n",
    "                             verbose=1, monitor='val_acc',save_best_only=True, mode='auto')\n",
    "#Fit the model\n",
    "history = model_3_full.fit({'main_input': X_train[:,:-2], 'rel_position_input': X_train[:,-2],'n_words_input':X_train[:,-1]},\n",
    "          {'main_output': y_train}, validation_data= ({'main_input': X_test[:,:-2], 'rel_position_input': X_test[:,-2],\n",
    "            'n_words_input':X_test[:,-1]},{'main_output': y_test}),epochs=20, batch_size=64,\n",
    "            shuffle=True, callbacks = [checkpoint_3_full])"
   ]
  },
  {
   "cell_type": "code",
   "execution_count": 137,
   "metadata": {},
   "outputs": [
    {
     "data": {
      "image/png": "[encoded data removed]",
      "text/plain": [
       "<Figure size 432x288 with 1 Axes>"
      ]
     },
     "metadata": {},
     "output_type": "display_data"
    }
   ],
   "source": [
    "plt.plot(history.history['loss'], label='train')\n",
    "plt.plot(history.history['val_loss'], label='test')\n",
    "plt.legend()\n",
    "plt.show()"
   ]
  },
  {
   "cell_type": "markdown",
   "metadata": {},
   "source": [
    "### 3.3 Encoder Model:"
   ]
  },
  {
   "cell_type": "code",
   "execution_count": 10,
   "metadata": {},
   "outputs": [
    {
     "name": "stdout",
     "output_type": "stream",
     "text": [
      "WARNING:tensorflow:From /Users/pablouribepizarro/anaconda3/lib/python3.7/site-packages/keras/backend/tensorflow_backend.py:517: The name tf.placeholder is deprecated. Please use tf.compat.v1.placeholder instead.\n",
      "\n",
      "WARNING:tensorflow:From /Users/pablouribepizarro/anaconda3/lib/python3.7/site-packages/keras/backend/tensorflow_backend.py:74: The name tf.get_default_graph is deprecated. Please use tf.compat.v1.get_default_graph instead.\n",
      "\n",
      "WARNING:tensorflow:From /Users/pablouribepizarro/anaconda3/lib/python3.7/site-packages/keras/backend/tensorflow_backend.py:4138: The name tf.random_uniform is deprecated. Please use tf.random.uniform instead.\n",
      "\n",
      "WARNING:tensorflow:From /Users/pablouribepizarro/anaconda3/lib/python3.7/site-packages/keras/backend/tensorflow_backend.py:174: The name tf.get_default_session is deprecated. Please use tf.compat.v1.get_default_session instead.\n",
      "\n",
      "WARNING:tensorflow:From /Users/pablouribepizarro/anaconda3/lib/python3.7/site-packages/keras/backend/tensorflow_backend.py:181: The name tf.ConfigProto is deprecated. Please use tf.compat.v1.ConfigProto instead.\n",
      "\n",
      "WARNING:tensorflow:From /Users/pablouribepizarro/anaconda3/lib/python3.7/site-packages/keras/optimizers.py:790: The name tf.train.Optimizer is deprecated. Please use tf.compat.v1.train.Optimizer instead.\n",
      "\n"
     ]
    }
   ],
   "source": [
    "#Main input (Utterances)\n",
    "vocab_size = 10000\n",
    "max_length = 20\n",
    "main_input = Input(shape=(max_length*3,), dtype='int32', name='main_input')\n",
    "#Relative Position input\n",
    "rel_position_input = Input(shape=(1,), dtype='float32', name='rel_position_input')\n",
    "#Number of words input\n",
    "n_words_input = Input(shape=(1,), dtype='float32', name='n_words_input')\n",
    "#Embedding of the Utterances\n",
    "x = Embedding(output_dim=200, input_dim=vocab_size, input_length=max_length*3,weights=[embedding_matrix],trainable=False)(main_input)\n",
    "\n",
    "x = Bidirectional(LSTM(20, return_sequences = True))(x)\n",
    "\n",
    "x = Bidirectional(LSTM(20))(x)\n",
    "\n",
    "x = concatenate([x,rel_position_input,n_words_input])\n",
    "x = Dense(64, activation='relu')(x)\n",
    "\n",
    "main_output = Dense(5, activation='softmax', name='main_output')(x)\n",
    "\n",
    "\n",
    "model_6_full = Model(inputs=[main_input, rel_position_input,n_words_input], outputs=[main_output])\n",
    "model_6_full.compile(loss='categorical_crossentropy',\n",
    "              optimizer='adam',\n",
    "              metrics=['accuracy'])\n",
    "\n",
    "model_6_full.name = 'pe_encoder'\n",
    "\n",
    "model_6_full.save_weights(r'/Users/pablouribepizarro/Desktop/CIAE/CIBL/model_weights/'+str(model_6_full.name)+'.h5')\n",
    "\n",
    "model_6_full.save(r'/Users/pablouribepizarro/Desktop/CIAE/CIBL/models/attention/'+str(model_6_full.name)+'.h5')\n"
   ]
  },
  {
   "cell_type": "code",
   "execution_count": 11,
   "metadata": {},
   "outputs": [
    {
     "name": "stdout",
     "output_type": "stream",
     "text": [
      "__________________________________________________________________________________________________\n",
      "Layer (type)                    Output Shape         Param #     Connected to                     \n",
      "==================================================================================================\n",
      "main_input (InputLayer)         (None, 60)           0                                            \n",
      "__________________________________________________________________________________________________\n",
      "embedding_1 (Embedding)         (None, 60, 200)      2000000     main_input[0][0]                 \n",
      "__________________________________________________________________________________________________\n",
      "bidirectional_1 (Bidirectional) (None, 60, 40)       35360       embedding_1[0][0]                \n",
      "__________________________________________________________________________________________________\n",
      "bidirectional_2 (Bidirectional) (None, 40)           9760        bidirectional_1[0][0]            \n",
      "__________________________________________________________________________________________________\n",
      "rel_position_input (InputLayer) (None, 1)            0                                            \n",
      "__________________________________________________________________________________________________\n",
      "n_words_input (InputLayer)      (None, 1)            0                                            \n",
      "__________________________________________________________________________________________________\n",
      "concatenate_1 (Concatenate)     (None, 42)           0           bidirectional_2[0][0]            \n",
      "                                                                 rel_position_input[0][0]         \n",
      "                                                                 n_words_input[0][0]              \n",
      "__________________________________________________________________________________________________\n",
      "dense_1 (Dense)                 (None, 64)           2752        concatenate_1[0][0]              \n",
      "__________________________________________________________________________________________________\n",
      "main_output (Dense)             (None, 5)            325         dense_1[0][0]                    \n",
      "==================================================================================================\n",
      "Total params: 2,048,197\n",
      "Trainable params: 48,197\n",
      "Non-trainable params: 2,000,000\n",
      "__________________________________________________________________________________________________\n"
     ]
    }
   ],
   "source": [
    "model_6_full.summary()"
   ]
  },
  {
   "cell_type": "code",
   "execution_count": 13,
   "metadata": {
    "scrolled": true
   },
   "outputs": [
    {
     "name": "stdout",
     "output_type": "stream",
     "text": [
      "WARNING:tensorflow:From /Users/pablouribepizarro/anaconda3/lib/python3.7/site-packages/tensorflow/python/ops/math_grad.py:1250: add_dispatch_support.<locals>.wrapper (from tensorflow.python.ops.array_ops) is deprecated and will be removed in a future version.\n",
      "Instructions for updating:\n",
      "Use tf.where in 2.0, which has the same broadcast rule as np.where\n",
      "Train on 1412 samples, validate on 546 samples\n",
      "Epoch 1/30\n",
      "1412/1412 [==============================] - 24s 17ms/step - loss: 1.4907 - acc: 0.3605 - val_loss: 1.3475 - val_acc: 0.3956\n",
      "\n",
      "Epoch 00001: val_acc improved from -inf to 0.39560, saving model to /Users/pablouribepizarro/Desktop/CIAE/CIBL/model_weights/pe_encoder_testing.h5\n",
      "Epoch 2/30\n",
      "1412/1412 [==============================] - 13s 9ms/step - loss: 1.3681 - acc: 0.4292 - val_loss: 1.2594 - val_acc: 0.4780\n",
      "\n",
      "Epoch 00002: val_acc improved from 0.39560 to 0.47802, saving model to /Users/pablouribepizarro/Desktop/CIAE/CIBL/model_weights/pe_encoder_testing.h5\n",
      "Epoch 3/30\n",
      "1412/1412 [==============================] - 13s 9ms/step - loss: 1.2807 - acc: 0.4625 - val_loss: 1.2155 - val_acc: 0.4744\n",
      "\n",
      "Epoch 00003: val_acc did not improve from 0.47802\n",
      "Epoch 4/30\n",
      "1412/1412 [==============================] - 14s 10ms/step - loss: 1.2081 - acc: 0.4936 - val_loss: 1.1768 - val_acc: 0.4762\n",
      "\n",
      "Epoch 00004: val_acc did not improve from 0.47802\n",
      "Epoch 5/30\n",
      "1412/1412 [==============================] - 14s 10ms/step - loss: 1.1642 - acc: 0.4965 - val_loss: 1.1656 - val_acc: 0.5110\n",
      "\n",
      "Epoch 00005: val_acc improved from 0.47802 to 0.51099, saving model to /Users/pablouribepizarro/Desktop/CIAE/CIBL/model_weights/pe_encoder_testing.h5\n",
      "Epoch 6/30\n",
      "1412/1412 [==============================] - 14s 10ms/step - loss: 1.1288 - acc: 0.5482 - val_loss: 1.2135 - val_acc: 0.5110\n",
      "\n",
      "Epoch 00006: val_acc did not improve from 0.51099\n",
      "Epoch 7/30\n",
      "1412/1412 [==============================] - 14s 10ms/step - loss: 1.0921 - acc: 0.5864 - val_loss: 1.1462 - val_acc: 0.5183\n",
      "\n",
      "Epoch 00007: val_acc improved from 0.51099 to 0.51832, saving model to /Users/pablouribepizarro/Desktop/CIAE/CIBL/model_weights/pe_encoder_testing.h5\n",
      "Epoch 8/30\n",
      "1412/1412 [==============================] - 13s 9ms/step - loss: 1.0451 - acc: 0.5864 - val_loss: 1.1603 - val_acc: 0.5201\n",
      "\n",
      "Epoch 00008: val_acc improved from 0.51832 to 0.52015, saving model to /Users/pablouribepizarro/Desktop/CIAE/CIBL/model_weights/pe_encoder_testing.h5\n",
      "Epoch 9/30\n",
      "1412/1412 [==============================] - 15s 10ms/step - loss: 0.9963 - acc: 0.6161 - val_loss: 1.1497 - val_acc: 0.5385\n",
      "\n",
      "Epoch 00009: val_acc improved from 0.52015 to 0.53846, saving model to /Users/pablouribepizarro/Desktop/CIAE/CIBL/model_weights/pe_encoder_testing.h5\n",
      "Epoch 10/30\n",
      "1412/1412 [==============================] - 14s 10ms/step - loss: 1.0268 - acc: 0.6098 - val_loss: 1.2218 - val_acc: 0.4982\n",
      "\n",
      "Epoch 00010: val_acc did not improve from 0.53846\n",
      "Epoch 11/30\n",
      "1412/1412 [==============================] - 16s 11ms/step - loss: 0.9633 - acc: 0.6254 - val_loss: 1.1719 - val_acc: 0.5055\n",
      "\n",
      "Epoch 00011: val_acc did not improve from 0.53846\n",
      "Epoch 12/30\n",
      "1412/1412 [==============================] - 15s 11ms/step - loss: 0.9186 - acc: 0.6615 - val_loss: 1.1583 - val_acc: 0.5476\n",
      "\n",
      "Epoch 00012: val_acc improved from 0.53846 to 0.54762, saving model to /Users/pablouribepizarro/Desktop/CIAE/CIBL/model_weights/pe_encoder_testing.h5\n",
      "Epoch 13/30\n",
      "1412/1412 [==============================] - 14s 10ms/step - loss: 0.8609 - acc: 0.6877 - val_loss: 1.2303 - val_acc: 0.5330\n",
      "\n",
      "Epoch 00013: val_acc did not improve from 0.54762\n",
      "Epoch 14/30\n",
      "1412/1412 [==============================] - 14s 10ms/step - loss: 0.8115 - acc: 0.7061 - val_loss: 1.1894 - val_acc: 0.5366\n",
      "\n",
      "Epoch 00014: val_acc did not improve from 0.54762\n",
      "Epoch 15/30\n",
      "1412/1412 [==============================] - 16s 11ms/step - loss: 0.8121 - acc: 0.7068 - val_loss: 1.2612 - val_acc: 0.5165\n",
      "\n",
      "Epoch 00015: val_acc did not improve from 0.54762\n",
      "Epoch 16/30\n",
      "1412/1412 [==============================] - 14s 10ms/step - loss: 0.7689 - acc: 0.7238 - val_loss: 1.3079 - val_acc: 0.5183\n",
      "\n",
      "Epoch 00016: val_acc did not improve from 0.54762\n",
      "Epoch 17/30\n",
      "1412/1412 [==============================] - 14s 10ms/step - loss: 0.7248 - acc: 0.7422 - val_loss: 1.2837 - val_acc: 0.5220\n",
      "\n",
      "Epoch 00017: val_acc did not improve from 0.54762\n",
      "Epoch 18/30\n",
      "1412/1412 [==============================] - 13s 10ms/step - loss: 0.7039 - acc: 0.7535 - val_loss: 1.2816 - val_acc: 0.5348\n",
      "\n",
      "Epoch 00018: val_acc did not improve from 0.54762\n",
      "Epoch 19/30\n",
      "1412/1412 [==============================] - 13s 10ms/step - loss: 0.6765 - acc: 0.7578 - val_loss: 1.2788 - val_acc: 0.5330\n",
      "\n",
      "Epoch 00019: val_acc did not improve from 0.54762\n",
      "Epoch 20/30\n",
      "1412/1412 [==============================] - 13s 10ms/step - loss: 0.6444 - acc: 0.7776 - val_loss: 1.3177 - val_acc: 0.5220\n",
      "\n",
      "Epoch 00020: val_acc did not improve from 0.54762\n",
      "Epoch 21/30\n",
      "1412/1412 [==============================] - 14s 10ms/step - loss: 0.6114 - acc: 0.7868 - val_loss: 1.3353 - val_acc: 0.5275\n",
      "\n",
      "Epoch 00021: val_acc did not improve from 0.54762\n",
      "Epoch 22/30\n",
      "1412/1412 [==============================] - 13s 9ms/step - loss: 0.5904 - acc: 0.7946 - val_loss: 1.3490 - val_acc: 0.5165\n",
      "\n",
      "Epoch 00022: val_acc did not improve from 0.54762\n",
      "Epoch 23/30\n",
      "1412/1412 [==============================] - 14s 10ms/step - loss: 0.5889 - acc: 0.7975 - val_loss: 1.4564 - val_acc: 0.5110\n",
      "\n",
      "Epoch 00023: val_acc did not improve from 0.54762\n",
      "Epoch 24/30\n",
      "1412/1412 [==============================] - 14s 10ms/step - loss: 0.5706 - acc: 0.8017 - val_loss: 1.3635 - val_acc: 0.5348\n",
      "\n",
      "Epoch 00024: val_acc did not improve from 0.54762\n",
      "Epoch 25/30\n",
      "1412/1412 [==============================] - 13s 10ms/step - loss: 0.5534 - acc: 0.8010 - val_loss: 1.4217 - val_acc: 0.5018\n",
      "\n",
      "Epoch 00025: val_acc did not improve from 0.54762\n",
      "Epoch 26/30\n",
      "1412/1412 [==============================] - 14s 10ms/step - loss: 0.5485 - acc: 0.8123 - val_loss: 1.4366 - val_acc: 0.5531\n",
      "\n",
      "Epoch 00026: val_acc improved from 0.54762 to 0.55311, saving model to /Users/pablouribepizarro/Desktop/CIAE/CIBL/model_weights/pe_encoder_testing.h5\n",
      "Epoch 27/30\n",
      "1412/1412 [==============================] - 14s 10ms/step - loss: 0.4909 - acc: 0.8350 - val_loss: 1.4617 - val_acc: 0.5385\n",
      "\n",
      "Epoch 00027: val_acc did not improve from 0.55311\n",
      "Epoch 28/30\n",
      "1412/1412 [==============================] - 13s 9ms/step - loss: 0.4678 - acc: 0.8350 - val_loss: 1.4522 - val_acc: 0.5330\n",
      "\n",
      "Epoch 00028: val_acc did not improve from 0.55311\n",
      "Epoch 29/30\n",
      "1412/1412 [==============================] - 14s 10ms/step - loss: 0.4372 - acc: 0.8463 - val_loss: 1.5522 - val_acc: 0.5293\n",
      "\n",
      "Epoch 00029: val_acc did not improve from 0.55311\n",
      "Epoch 30/30\n",
      "1412/1412 [==============================] - 14s 10ms/step - loss: 0.4169 - acc: 0.8569 - val_loss: 1.5685 - val_acc: 0.5348\n",
      "\n",
      "Epoch 00030: val_acc did not improve from 0.55311\n"
     ]
    }
   ],
   "source": [
    "#Load Initial Random Weights:\n",
    "model_6_full.load_weights(r'/Users/pablouribepizarro/Desktop/CIAE/CIBL/model_weights/'+str(model_6_full.name)+'.h5')\n",
    "\n",
    "#Checkpoint\n",
    "checkpoint_6_full = ModelCheckpoint('/Users/pablouribepizarro/Desktop/CIAE/CIBL/model_weights/'+str(model_6_full.name)+'_testing.h5', \n",
    "                             verbose=1, monitor='val_acc',save_best_only=True, mode='auto')\n",
    "\n",
    "\n",
    "history = model_6_full.fit({'main_input': X_train[:,:-2], 'rel_position_input': X_train[:,-2],'n_words_input':X_train[:,-1]},\n",
    "          {'main_output': y_train}, validation_data= ({'main_input': X_test[:,:-2], 'rel_position_input': X_test[:,-2],\n",
    "            'n_words_input':X_test[:,-1]},{'main_output': y_test}),epochs=30, batch_size=64,\n",
    "            shuffle=True, callbacks = [checkpoint_6_full])"
   ]
  },
  {
   "cell_type": "code",
   "execution_count": 14,
   "metadata": {},
   "outputs": [
    {
     "data": {
      "image/png": "[encoded data removed]",
      "text/plain": [
       "<Figure size 432x288 with 1 Axes>"
      ]
     },
     "metadata": {
      "needs_background": "light"
     },
     "output_type": "display_data"
    }
   ],
   "source": [
    "plt.plot(history.history['loss'], label='train')\n",
    "plt.plot(history.history['val_loss'], label='test')\n",
    "plt.legend()\n",
    "plt.show()"
   ]
  },
  {
   "cell_type": "code",
   "execution_count": 23,
   "metadata": {},
   "outputs": [
    {
     "data": {
      "text/plain": [
       "<matplotlib.axes._subplots.AxesSubplot at 0x1a6cfa1160>"
      ]
     },
     "execution_count": 23,
     "metadata": {},
     "output_type": "execute_result"
    },
    {
     "data": {
      "image/png": "[encoded data removed]",
      "text/plain": [
       "<Figure size 720x504 with 2 Axes>"
      ]
     },
     "metadata": {
      "needs_background": "light"
     },
     "output_type": "display_data"
    }
   ],
   "source": [
    "y_real = y_test.argmax(axis=-1)\n",
    "y_pred = model_4_full.predict({'main_input': X_test[:,:-2], 'rel_position_input': X_test[:,-2],\n",
    "                               'n_words_input':X_test[:,-1]}).argmax(axis=-1)\n",
    "results = confusion_matrix(y_real, y_pred)\n",
    "df_cm = pd.DataFrame(results, index = range(5),\n",
    "                  columns = range(5))\n",
    "plt.figure(figsize = (10,7))\n",
    "sns.set(font_scale=1.4)\n",
    "sns.heatmap(df_cm, annot=True, cmap=\"YlGnBu\")"
   ]
  },
  {
   "cell_type": "code",
   "execution_count": 25,
   "metadata": {},
   "outputs": [
    {
     "ename": "NameError",
     "evalue": "name 'model_2_full' is not defined",
     "output_type": "error",
     "traceback": [
      "\u001b[0;31m---------------------------------------------------------------------------\u001b[0m",
      "\u001b[0;31mNameError\u001b[0m                                 Traceback (most recent call last)",
      "\u001b[0;32m<ipython-input-25-864ce3f96f62>\u001b[0m in \u001b[0;36m<module>\u001b[0;34m\u001b[0m\n\u001b[1;32m      2\u001b[0m \u001b[0mcomparative\u001b[0m\u001b[0;34m[\u001b[0m\u001b[0;34m'x'\u001b[0m\u001b[0;34m]\u001b[0m \u001b[0;34m=\u001b[0m \u001b[0mlist\u001b[0m\u001b[0;34m(\u001b[0m\u001b[0mX_test\u001b[0m\u001b[0;34m[\u001b[0m\u001b[0;34m:\u001b[0m\u001b[0;34m,\u001b[0m\u001b[0;34m:\u001b[0m\u001b[0;34m-\u001b[0m\u001b[0;36m2\u001b[0m\u001b[0;34m]\u001b[0m\u001b[0;34m)\u001b[0m\u001b[0;34m\u001b[0m\u001b[0;34m\u001b[0m\u001b[0m\n\u001b[1;32m      3\u001b[0m \u001b[0mcomparative\u001b[0m\u001b[0;34m[\u001b[0m\u001b[0;34m'GT'\u001b[0m\u001b[0;34m]\u001b[0m \u001b[0;34m=\u001b[0m \u001b[0my_test\u001b[0m\u001b[0;34m.\u001b[0m\u001b[0margmax\u001b[0m\u001b[0;34m(\u001b[0m\u001b[0maxis\u001b[0m\u001b[0;34m=\u001b[0m\u001b[0;34m-\u001b[0m\u001b[0;36m1\u001b[0m\u001b[0;34m)\u001b[0m\u001b[0;34m\u001b[0m\u001b[0;34m\u001b[0m\u001b[0m\n\u001b[0;32m----> 4\u001b[0;31m comparative['Model 2 Pred'] = model_2_full.predict({'main_input': X_test[:,:-2], 'rel_position_input': X_test[:,-2],\n\u001b[0m\u001b[1;32m      5\u001b[0m                                'n_words_input':X_test[:,-1]}).argmax(axis=-1)\n\u001b[1;32m      6\u001b[0m comparative['Model 4 Pred'] = model_4_full.predict({'main_input': X_test[:,:-2], 'rel_position_input': X_test[:,-2],\n",
      "\u001b[0;31mNameError\u001b[0m: name 'model_2_full' is not defined"
     ]
    }
   ],
   "source": [
    "comparative = pd.DataFrame()\n",
    "comparative['x'] = list(X_test[:,:-2])\n",
    "comparative['GT'] = y_test.argmax(axis=-1)\n",
    "comparative['Model 2 Pred'] = model_2_full.predict({'main_input': X_test[:,:-2], 'rel_position_input': X_test[:,-2],\n",
    "                               'n_words_input':X_test[:,-1]}).argmax(axis=-1)\n",
    "comparative['Model 4 Pred'] = model_4_full.predict({'main_input': X_test[:,:-2], 'rel_position_input': X_test[:,-2],\n",
    "                               'n_words_input':X_test[:,-1]}).argmax(axis=-1)"
   ]
  },
  {
   "cell_type": "code",
   "execution_count": 59,
   "metadata": {},
   "outputs": [
    {
     "data": {
      "text/html": [
       "<div>\n",
       "<style scoped>\n",
       "    .dataframe tbody tr th:only-of-type {\n",
       "        vertical-align: middle;\n",
       "    }\n",
       "\n",
       "    .dataframe tbody tr th {\n",
       "        vertical-align: top;\n",
       "    }\n",
       "\n",
       "    .dataframe thead th {\n",
       "        text-align: right;\n",
       "    }\n",
       "</style>\n",
       "<table border=\"1\" class=\"dataframe\">\n",
       "  <thead>\n",
       "    <tr style=\"text-align: right;\">\n",
       "      <th></th>\n",
       "      <th>x</th>\n",
       "      <th>GT</th>\n",
       "      <th>Model 2 Pred</th>\n",
       "      <th>Model 4 Pred</th>\n",
       "    </tr>\n",
       "  </thead>\n",
       "  <tbody>\n",
       "    <tr>\n",
       "      <th>0</th>\n",
       "      <td>[152.0, 354.0, 0.0, 0.0, 0.0, 0.0, 0.0, 0.0, 0...</td>\n",
       "      <td>0</td>\n",
       "      <td>0</td>\n",
       "      <td>0</td>\n",
       "    </tr>\n",
       "    <tr>\n",
       "      <th>4</th>\n",
       "      <td>[1531.0, 17.0, 15.0, 2.0, 94.0, 4.0, 1.0, 7.0,...</td>\n",
       "      <td>0</td>\n",
       "      <td>0</td>\n",
       "      <td>0</td>\n",
       "    </tr>\n",
       "    <tr>\n",
       "      <th>5</th>\n",
       "      <td>[355.0, 14.0, 254.0, 2.0, 444.0, 392.0, 143.0,...</td>\n",
       "      <td>0</td>\n",
       "      <td>0</td>\n",
       "      <td>0</td>\n",
       "    </tr>\n",
       "    <tr>\n",
       "      <th>6</th>\n",
       "      <td>[1532.0, 0.0, 0.0, 0.0, 0.0, 0.0, 0.0, 0.0, 0....</td>\n",
       "      <td>0</td>\n",
       "      <td>4</td>\n",
       "      <td>0</td>\n",
       "    </tr>\n",
       "    <tr>\n",
       "      <th>9</th>\n",
       "      <td>[152.0, 354.0, 0.0, 0.0, 0.0, 0.0, 0.0, 0.0, 0...</td>\n",
       "      <td>0</td>\n",
       "      <td>0</td>\n",
       "      <td>0</td>\n",
       "    </tr>\n",
       "  </tbody>\n",
       "</table>\n",
       "</div>"
      ],
      "text/plain": [
       "                                                   x  GT  Model 2 Pred  \\\n",
       "0  [152.0, 354.0, 0.0, 0.0, 0.0, 0.0, 0.0, 0.0, 0...   0             0   \n",
       "4  [1531.0, 17.0, 15.0, 2.0, 94.0, 4.0, 1.0, 7.0,...   0             0   \n",
       "5  [355.0, 14.0, 254.0, 2.0, 444.0, 392.0, 143.0,...   0             0   \n",
       "6  [1532.0, 0.0, 0.0, 0.0, 0.0, 0.0, 0.0, 0.0, 0....   0             4   \n",
       "9  [152.0, 354.0, 0.0, 0.0, 0.0, 0.0, 0.0, 0.0, 0...   0             0   \n",
       "\n",
       "   Model 4 Pred  \n",
       "0             0  \n",
       "4             0  \n",
       "5             0  \n",
       "6             0  \n",
       "9             0  "
      ]
     },
     "execution_count": 59,
     "metadata": {},
     "output_type": "execute_result"
    }
   ],
   "source": [
    "comparative.loc[(comparative['Model 4 Pred'] == comparative['GT'])].head()"
   ]
  }
 ],
 "metadata": {
  "kernelspec": {
   "display_name": "Python 3",
   "language": "python",
   "name": "python3"
  },
  "language_info": {
   "codemirror_mode": {
    "name": "ipython",
    "version": 3
   },
   "file_extension": ".py",
   "mimetype": "text/x-python",
   "name": "python",
   "nbconvert_exporter": "python",
   "pygments_lexer": "ipython3",
   "version": "3.7.3"
  }
 },
 "nbformat": 4,
 "nbformat_minor": 2
}
